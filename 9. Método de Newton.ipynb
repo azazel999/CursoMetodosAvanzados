{
 "cells": [
  {
   "cell_type": "markdown",
   "metadata": {},
   "source": [
    "#9. Método de Newton"
   ]
  },
  {
   "cell_type": "markdown",
   "metadata": {},
   "source": [
    "#### Recordemos que el método de Newton es un método numérico iterativo para encontrar raíces de funciones (continuamente) diferenciables.\n",
    "\n",
    "####Sea f la función cuyas raíces queremos encontrar. La idea es que empecemos desde una adivinanza inicial x0, y que la siguiente aproximación x1 esté donde la recta tangente a la curva f(x) en x0 corte el eje x.\n",
    "\n",
    "####[1] Esboza la geometría, tanto a mano como en la computadora, y así encuentra la expresión de xn+1 en términos de xn."
   ]
  },
  {
   "cell_type": "raw",
   "metadata": {},
   "source": [
    "En el link adjunto se ilustra el método \n",
    "\n",
    "http://es.wikipedia.org/wiki/M%C3%A9todo_de_Newton#/media/File:NewtonIteration_Ani.gif"
   ]
  },
  {
   "cell_type": "markdown",
   "metadata": {},
   "source": [
    "####[2] Implementa la iteración para calcular la raíz cuadrada y la raíz cúbica de 2. ¿Cuál es una condición razonable de terminación del algoritmo?"
   ]
  },
  {
   "cell_type": "raw",
   "metadata": {},
   "source": [
    "El método dice que, dada una ecuación f(x)=0, el valor de x puede irse aproximando mediante esta relación de recurrencia:\n",
    "\n",
    "x_i+1 = x_i - f(x_i)/f'(x_i)\n",
    "\n",
    "Queremos encontrar el valor x de la siguiente ecuación:\n",
    "\n",
    "x=sqrt(n), para un valor conocido de n. Si f(x)=0, entonces\n",
    "\n",
    "x²-n=0 -> f(x) = x²-n -> f'(x)=2x"
   ]
  },
  {
   "cell_type": "markdown",
   "metadata": {},
   "source": [
    "####primero lo hago a mano para entender el proceso iterativo"
   ]
  },
  {
   "cell_type": "code",
   "execution_count": 17,
   "metadata": {
    "collapsed": false
   },
   "outputs": [
    {
     "data": {
      "text/plain": [
       "1.5"
      ]
     },
     "execution_count": 17,
     "metadata": {},
     "output_type": "execute_result"
    }
   ],
   "source": [
    "#escogemos x_o = 1 y n=2, entonces \n",
    "X_1=1-((((1)^2)-2)/(2*1))"
   ]
  },
  {
   "cell_type": "code",
   "execution_count": 18,
   "metadata": {
    "collapsed": false
   },
   "outputs": [
    {
     "data": {
      "text/plain": [
       "1.4166666666666667"
      ]
     },
     "execution_count": 18,
     "metadata": {},
     "output_type": "execute_result"
    }
   ],
   "source": [
    "x_2=1.5-((((1.5)^2)-2)/(2*1.5))"
   ]
  },
  {
   "cell_type": "code",
   "execution_count": 19,
   "metadata": {
    "collapsed": false
   },
   "outputs": [
    {
     "data": {
      "text/plain": [
       "1.4142156862745099"
      ]
     },
     "execution_count": 19,
     "metadata": {},
     "output_type": "execute_result"
    }
   ],
   "source": [
    "x_3=1.4166666666666667-((((1.4166666666666667)^2)-2)/(2*1.4166666666666667))\n",
    "#a partir de este punto se empieza a notar una convergencia del método"
   ]
  },
  {
   "cell_type": "code",
   "execution_count": 20,
   "metadata": {
    "collapsed": false
   },
   "outputs": [
    {
     "data": {
      "text/plain": [
       "1.4142135623746899"
      ]
     },
     "execution_count": 20,
     "metadata": {},
     "output_type": "execute_result"
    }
   ],
   "source": [
    "x_4=1.4142156862745099-((((1.4142156862745099)^2)-2)/(2*1.4142156862745099))"
   ]
  },
  {
   "cell_type": "code",
   "execution_count": 21,
   "metadata": {
    "collapsed": false
   },
   "outputs": [
    {
     "data": {
      "text/plain": [
       "1.4142135623731864"
      ]
     },
     "execution_count": 21,
     "metadata": {},
     "output_type": "execute_result"
    }
   ],
   "source": [
    "x_5=1.4142135623746899-((((1.4142135623746899)^2)-2)/(2*1.5))"
   ]
  },
  {
   "cell_type": "markdown",
   "metadata": {},
   "source": [
    "#### se construye el programa que lo hace automaticamente"
   ]
  },
  {
   "cell_type": "code",
   "execution_count": 7,
   "metadata": {
    "collapsed": false
   },
   "outputs": [
    {
     "data": {
      "text/plain": [
       "Newton (generic function with 1 method)"
      ]
     },
     "execution_count": 7,
     "metadata": {},
     "output_type": "execute_result"
    }
   ],
   "source": [
    "function Newton(x0,iteraciones::Integer,t,f::Function,f1::Function)\n",
    "    for i in 1:iteraciones\n",
    "        raiz=x0-f(x0)/f1(x0)\n",
    "        if (abs(raiz-x0) < t*abs(raiz))\n",
    "            break\n",
    "        else\n",
    "            x0=raiz\n",
    "        end\n",
    "    end\n",
    "    return x0\n",
    "end"
   ]
  },
  {
   "cell_type": "code",
   "execution_count": 8,
   "metadata": {
    "collapsed": true
   },
   "outputs": [],
   "source": [
    "#para la raíz cuadrada\n",
    "f(x)= x^2-2.0;\n",
    "iteraciones=100;\n",
    "x0=1.0;\n",
    "f1(x)=2x;\n",
    "t=2.0^-30;"
   ]
  },
  {
   "cell_type": "code",
   "execution_count": 9,
   "metadata": {
    "collapsed": false
   },
   "outputs": [
    {
     "data": {
      "text/plain": [
       "1.4142135623746899"
      ]
     },
     "execution_count": 9,
     "metadata": {},
     "output_type": "execute_result"
    }
   ],
   "source": [
    "Newton(x0,iteraciones,t,f,f1)"
   ]
  },
  {
   "cell_type": "code",
   "execution_count": 10,
   "metadata": {
    "collapsed": true
   },
   "outputs": [],
   "source": [
    "#para la raíz cúbica\n",
    "\n",
    "g(x)= x^3-2.0;\n",
    "iteraciones=100;\n",
    "x0=0.5;\n",
    "g1(x)=3*x^2;\n",
    "t=2.0^-30;"
   ]
  },
  {
   "cell_type": "code",
   "execution_count": 11,
   "metadata": {
    "collapsed": false
   },
   "outputs": [
    {
     "data": {
      "text/plain": [
       "1.2599210498988491"
      ]
     },
     "execution_count": 11,
     "metadata": {},
     "output_type": "execute_result"
    }
   ],
   "source": [
    "Newton(x0,iteraciones,t,g,g1)"
   ]
  },
  {
   "cell_type": "markdown",
   "metadata": {},
   "source": [
    "#### [3] Haz un módulo para llevar a cabo diferenciación automática (usando el código del notebook correspondiente) y utilízalo para implementar el método."
   ]
  },
  {
   "cell_type": "raw",
   "metadata": {
    "collapsed": true
   },
   "source": [
    "module Derivada\n",
    "\n",
    "import Base.+ \n",
    "import Base.- \n",
    "import Base.* \n",
    "import Base./ \n",
    "import Base.exp \n",
    "import Base.log \n",
    "import Base.^\n",
    "\n",
    "export Deriv, +, -, * , / ,exp , log , ^\n",
    "\n",
    "type Deriv \n",
    "f \n",
    "d \n",
    "end\n",
    "\n",
    "#DEFINICION DE LA FUNCION DERIVADA\n",
    "   function Deriv(f)\n",
    "   Deriv(f,0) \n",
    "   end\n",
    "\n",
    "#OPERACIONES DE LA DERIVADA\n",
    "\n",
    "        function +(v::Deriv, w::Deriv)\n",
    "        nuevof=v.f+w.f;\n",
    "        nuevod=v.d+w.d;\n",
    "        Deriv(nuevof,nuevod)\n",
    "        end\n",
    "\n",
    "        function -(v::Deriv, w::Deriv)\n",
    "        nuevof=v.f-w.f;\n",
    "        nuevod=v.d-w.d;\n",
    "        Deriv(nuevof,nuevod)\n",
    "        end\n",
    "        \n",
    "        function *(v::Deriv, w::Deriv)\n",
    "        nuevof=v.f*w.f;\n",
    "        nuevod=v.f*w.d+v.d*w.f;\n",
    "        Deriv(nuevof,nuevod)\n",
    "        end\n",
    "        \n",
    "        function /(v::Deriv, w::Deriv)\n",
    "        nuevof=v.f/w.f;\n",
    "        nuevod=(v.d*w.f-v.f*w.d)/(w.f^2);\n",
    "        Deriv(nuevof,nuevod)\n",
    "        end\n",
    "        \n",
    "        function ^(v::Deriv, a::Float64) \n",
    "        nuevof=(v.f^a);\n",
    "        nuevod=a*(v.f^(a-1))*v.d\n",
    "        Deriv(nuevof,nuevod)\n",
    "        end\n",
    "        \n",
    "        function exp(v::Deriv) \n",
    "        nuevof=exp(v.f);\n",
    "        nuevod=exp(v.f)*v.d\n",
    "        Deriv(nuevof,nuevod)\n",
    "        end\n",
    "\n",
    "        function log(v::Deriv) \n",
    "        nuevof=exp(v.f);\n",
    "        nuevod=(1/v.f)*v.d\n",
    "        Deriv(nuevof,nuevod)\n",
    "        end\n",
    "        \n",
    "        function variableindep(v::Deriv)\n",
    "        nuevof=v.f;\n",
    "        nuevod=1.0;\n",
    "        Deriv(nuevof,nuevod)\n",
    "        end\n",
    "        \n",
    "#OPERACIONES CON ENTEROS        \n",
    "        function +(v::Number, w::Deriv)\n",
    "        Deriv(v)+w\n",
    "        end\n",
    "                \n",
    "        function -(v::Number,w::Deriv)\n",
    "        Deriv(v)-w\n",
    "        end\n",
    "\n",
    "        function -(v::Deriv,w::Number)\n",
    "        v-Deriv(w)\n",
    "        end\n",
    "\n",
    "        function *(v::Deriv, w::Number)\n",
    "        v*Deriv(w)\n",
    "        end\n",
    "        \n",
    "        function /(v::Deriv, w::Number)\n",
    "        v/Deriv(w)\n",
    "        end\n",
    "\n",
    "        function /(v::Number, w::Deriv)\n",
    "        Deriv(v)/w\n",
    "        end\n",
    "                \n",
    "end"
   ]
  },
  {
   "cell_type": "code",
   "execution_count": 1,
   "metadata": {
    "collapsed": false
   },
   "outputs": [],
   "source": [
    "using Derivada"
   ]
  },
  {
   "cell_type": "code",
   "execution_count": 2,
   "metadata": {
    "collapsed": false
   },
   "outputs": [
    {
     "data": {
      "text/plain": [
       "Newton (generic function with 1 method)"
      ]
     },
     "execution_count": 2,
     "metadata": {},
     "output_type": "execute_result"
    }
   ],
   "source": [
    "function Newton(x0,iteraciones::Integer,t,f::Function)\n",
    "    for i in 1:iteraciones\n",
    "        raiz=Deriv(x0).f-f(Deriv(x0,1)).f/f(Deriv(x0,1)).d\n",
    "        if (abs(raiz-x0) < t*abs(raiz))\n",
    "            iteraciones=i\n",
    "            break\n",
    "        else\n",
    "            x0=raiz\n",
    "        end\n",
    "    end\n",
    "    return x0\n",
    "end"
   ]
  },
  {
   "cell_type": "code",
   "execution_count": 3,
   "metadata": {
    "collapsed": false
   },
   "outputs": [
    {
     "data": {
      "text/plain": [
       "1.4142135623746899"
      ]
     },
     "execution_count": 3,
     "metadata": {},
     "output_type": "execute_result"
    }
   ],
   "source": [
    "f(x)= x^2-2.0;\n",
    "iteraciones=100;\n",
    "x0=1.0;\n",
    "t=2.0^-30;\n",
    "Newton(x0,iteraciones,t,f)"
   ]
  },
  {
   "cell_type": "markdown",
   "metadata": {},
   "source": [
    "####[4] Utiliza el mismo método para la función compleja f(z)=z3−1. Empezando desde distintos números complejos a+bi, itera el algoritmo para ver a cuál raíz converge, y colorea el punto inicial de manera correspondiente. [Para esto, se recomienda construir una matriz y utilizar la función pcolor de PyPlot.]\n",
    "\n"
   ]
  },
  {
   "cell_type": "raw",
   "metadata": {},
   "source": [
    "Teniendo en cuenta que las raíces para esta función son: -1/2+i*sqrt(3)/2, 1, -1/2-i*sqrt(3)/2 "
   ]
  },
  {
   "cell_type": "code",
   "execution_count": 4,
   "metadata": {
    "collapsed": false
   },
   "outputs": [
    {
     "data": {
      "text/plain": [
       "-0.5 + 0.8660254037844387im"
      ]
     },
     "execution_count": 4,
     "metadata": {},
     "output_type": "execute_result"
    }
   ],
   "source": [
    "compleja(x)=x^3-1;\n",
    "iteraciones=100;\n",
    "t=2.0^-30;\n",
    "Newton(-1.0+5.7im,iteraciones,t,compleja)"
   ]
  },
  {
   "cell_type": "code",
   "execution_count": 5,
   "metadata": {
    "collapsed": false
   },
   "outputs": [
    {
     "data": {
      "text/plain": [
       "1.0 + 0.0im"
      ]
     },
     "execution_count": 5,
     "metadata": {},
     "output_type": "execute_result"
    }
   ],
   "source": [
    "Newton(-1.0+0im,iteraciones,t,compleja)"
   ]
  },
  {
   "cell_type": "code",
   "execution_count": 6,
   "metadata": {
    "collapsed": false
   },
   "outputs": [
    {
     "data": {
      "text/plain": [
       "-0.4999999999995665 - 0.8660254037841599im"
      ]
     },
     "execution_count": 6,
     "metadata": {},
     "output_type": "execute_result"
    }
   ],
   "source": [
    "Newton(-1.0-100im,iteraciones,t,compleja)"
   ]
  },
  {
   "cell_type": "raw",
   "metadata": {},
   "source": [
    "Cabe resaltar que para este caso las raíces obtenidas dependen considerablemente del valor inicial seleccionado  "
   ]
  },
  {
   "cell_type": "markdown",
   "metadata": {},
   "source": [
    "####[5] Desarrolla e implementa el método de Newton para funciones f:R^n→R^n. Para hacerlo, toma una adivinaza xn y resuelve la ecuación f(xn+1)=0, con xn+1=xn+δxn."
   ]
  },
  {
   "cell_type": "raw",
   "metadata": {},
   "source": [
    "Para este caso el algoritmo cambia teniendo en cuenta que δx= J⁻¹(x)f(x), donde J⁻¹(x) es la matriz jacobiana inversa."
   ]
  },
  {
   "cell_type": "raw",
   "metadata": {},
   "source": [
    "Ref: http://fourier.eng.hmc.edu/e161/lectures/ica/node13.html"
   ]
  },
  {
   "cell_type": "markdown",
   "metadata": {},
   "source": [
    "#### [6] Utiliza tu algoritmo para calcular raíces de funciones conocidas multidimensionales."
   ]
  },
  {
   "cell_type": "code",
   "execution_count": 7,
   "metadata": {
    "collapsed": false
   },
   "outputs": [
    {
     "data": {
      "text/plain": [
       "Newton2D (generic function with 1 method)"
      ]
     },
     "execution_count": 7,
     "metadata": {},
     "output_type": "execute_result"
    }
   ],
   "source": [
    "function Newton2D(x0,iteraciones,t,h::Function)\n",
    "    h1x(x,y)=h(Deriv(x,1),Deriv(y,0))[1].d\n",
    "    h2x(x,y)=h(Deriv(x,1),Deriv(y,0))[2].d\n",
    "    h1y(x,y)=h(Deriv(x,0),Deriv(y,1))[1].d\n",
    "    h2y(x,y)=h(Deriv(x,0),Deriv(y,1))[2].d\n",
    "    J(x,y)=[h1x(x,y) h1y(x,y);h2x(x,y) h2y(x,y)]\n",
    "    Jinv(x,y)=inv(J(x,y));\n",
    "    δx(x,y)=Jinv(x,y)*[h(x,y)[1],h(x,y)[2]]\n",
    "    for i in 1:iteraciones\n",
    "        raiz=[x0[1],x0[2]]-δx(x0[1],x0[2])\n",
    "        if (norm(raiz-[x0[1],x0[2]]) < t*norm(raiz))\n",
    "            iteraciones=i\n",
    "            break\n",
    "        else\n",
    "            x0=raiz\n",
    "        end\n",
    "    end\n",
    "    return x0\n",
    "end"
   ]
  },
  {
   "cell_type": "code",
   "execution_count": 8,
   "metadata": {
    "collapsed": false
   },
   "outputs": [
    {
     "data": {
      "text/plain": [
       "2-element Array{Float64,1}:\n",
       " 1.0       \n",
       " 9.57389e-9"
      ]
     },
     "execution_count": 8,
     "metadata": {},
     "output_type": "execute_result"
    }
   ],
   "source": [
    "x0=(1.7,0.5)\n",
    "iteraciones=50;\n",
    "t=2.0^-50.0;\n",
    "h(x,y)=(x^2+y^2-1, x^3+y^3-1)\n",
    "Newton2D(x0,iteraciones,t,h)"
   ]
  },
  {
   "cell_type": "code",
   "execution_count": 9,
   "metadata": {
    "collapsed": false
   },
   "outputs": [
    {
     "data": {
      "text/plain": [
       "(0.0,0.0)"
      ]
     },
     "execution_count": 9,
     "metadata": {},
     "output_type": "execute_result"
    }
   ],
   "source": [
    "h(ans[1],ans[2])"
   ]
  },
  {
   "cell_type": "code",
   "execution_count": 10,
   "metadata": {
    "collapsed": false
   },
   "outputs": [
    {
     "data": {
      "text/plain": [
       "2-element Array{Float64,1}:\n",
       " 1.0        \n",
       " 7.61586e-17"
      ]
     },
     "execution_count": 10,
     "metadata": {},
     "output_type": "execute_result"
    }
   ],
   "source": [
    "x0=(1.7,0.5)\n",
    "iteraciones=50;\n",
    "t=2.0^-50.0;\n",
    "g(x,y)=(log(x)+exp(y)-1, x^2+y^3-1)\n",
    "Newton2D(x0,iteraciones,t,g)"
   ]
  },
  {
   "cell_type": "code",
   "execution_count": 11,
   "metadata": {
    "collapsed": false
   },
   "outputs": [
    {
     "data": {
      "text/plain": [
       "(0.0,0.0)"
      ]
     },
     "execution_count": 11,
     "metadata": {},
     "output_type": "execute_result"
    }
   ],
   "source": [
    "g(ans[1],ans[2])"
   ]
  },
  {
   "cell_type": "code",
   "execution_count": null,
   "metadata": {
    "collapsed": true
   },
   "outputs": [],
   "source": []
  }
 ],
 "metadata": {
  "kernelspec": {
   "display_name": "Julia 0.3.5",
   "language": "julia",
   "name": "julia 0.3"
  },
  "language_info": {
   "name": "julia",
   "version": "0.3.5"
  }
 },
 "nbformat": 4,
 "nbformat_minor": 0
}
