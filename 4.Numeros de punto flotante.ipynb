{
 "metadata": {
  "kernelspec": {
   "codemirror_mode": "julia",
   "display_name": "Julia",
   "language": "julia",
   "name": "julia"
  },
  "language": "Julia",
  "name": "",
  "signature": "sha256:7a5bba95719ee2131565d9dd1c4b4ae16f9822d4bf35b96f0ab7a409c2f4b858"
 },
 "nbformat": 3,
 "nbformat_minor": 0,
 "worksheets": [
  {
   "cells": [
    {
     "cell_type": "heading",
     "level": 1,
     "metadata": {},
     "source": [
      "4. N\u00fameros de punto flotante y redondeo"
     ]
    },
    {
     "cell_type": "heading",
     "level": 1,
     "metadata": {},
     "source": [
      "  4.1  N\u00fameros de punto flotante y la norma IEEE 744"
     ]
    },
    {
     "cell_type": "heading",
     "level": 2,
     "metadata": {},
     "source": [
      "Ejercicio 1"
     ]
    },
    {
     "cell_type": "code",
     "collapsed": false,
     "input": [
      "x=(-1)^(s)*m*b^e #ecuaci\u00f3n  de numeros de punto flotante que son reales\n",
      "# s - da el signo del numero ya sea positivo o negativo\n",
      "# m - mantisa o significante (m=b_0.b_1*b_2...b_p)\n",
      "# b - base del n\u00famero (b >= 2)\n",
      "# e - exponente (e E [e_min,e_max])"
     ],
     "language": "python",
     "metadata": {},
     "outputs": []
    },
    {
     "cell_type": "heading",
     "level": 4,
     "metadata": {},
     "source": [
      "tomamos b=2, p=2, e_min=-1, e_max=2. Entonces, el conjunto de n\u00fameros reales es"
     ]
    },
    {
     "cell_type": "code",
     "collapsed": false,
     "input": [
      "# x1=(-1)^0 *1,00* (2)^(-1)= 0,100\n",
      "# x2=(-1)^1 *1,00* (2)^(-1)= -0,100\n",
      "# x3=(-1)^0 *1,01* (2)^(-1)= 0,101\n",
      "# x4=(-1)^1 *1,01* (2)^(-1)= -0,101\n",
      "# x5=(-1)^0 *1,10* (2)^(-1)= 0,110\n",
      "# x6=(-1)^1 *1,10* (2)^(-1)= -0,110\n",
      "# x7=(-1)^0 *1,11* (2)^(-1)= 0,111\n",
      "# x8=(-1)^1 *1,11* (2)^(-1)= -0,111\n",
      "# x9=(-1)^0 *1,00* (2)^(0)= 1,00\n",
      "# x10=(-1)^1 *1,00* (2)^(0)= -1,00\n",
      "# x11=(-1)^0 *1,01* (2)^(0)= 1,01\n",
      "# x12=(-1)^1 *1,01* (2)^(0)= -1,01\n",
      "# x13=(-1)^0 *1,10* (2)^(0)= 1,10\n",
      "# x14=(-1)^1 *1,10* (2)^(0)= -1,10\n",
      "# x15=(-1)^0 *1,11* (2)^(0)= 1,11\n",
      "# x16=(-1)^1 *1,11* (2)^(0)= -1,11\n",
      "# x17=(-1)^0 *1,00* (2)^(1)= 10,0\n",
      "# x18=(-1)^1 *1,00* (2)^(1)= -10,0\n",
      "# x19=(-1)^0 *1,01* (2)^(1)= 10,1\n",
      "# x20=(-1)^1 *1,01* (2)^(1)= -10,1\n",
      "# x21=(-1)^0 *1,10* (2)^(1)= 11,0\n",
      "# x22=(-1)^1 *1,10* (2)^(1)= -11,0\n",
      "# x23=(-1)^0 *1,11* (2)^(1)= 11,1\n",
      "# x24=(-1)^1 *1,11* (2)^(1)= -11,1\n",
      "# x25=(-1)^0 *1,00* (2)^(2)= 100,0\n",
      "# x26=(-1)^1 *1,00* (2)^(2)= -100,0\n",
      "# x27=(-1)^0 *1,01* (2)^(2)= 101,0\n",
      "# x28=(-1)^1 *1,01* (2)^(2)= -101,0\n",
      "# x29=(-1)^0 *1,10* (2)^(2)= 110,0\n",
      "# x30=(-1)^1 *1,10* (2)^(2)= -110,0\n",
      "# x31=(-1)^0 *1,11* (2)^(2)= 111,0\n",
      "# x32=(-1)^1 *1,11* (2)^(2)= -111,0"
     ],
     "language": "python",
     "metadata": {},
     "outputs": [],
     "prompt_number": 9
    },
    {
     "cell_type": "heading",
     "level": 5,
     "metadata": {},
     "source": [
      "i - la cantidad de n\u00fameros reales en el conjunto anterior es 32\n",
      "\n",
      "ii - para otra base b>2, el n\u00famero de componentes de la mantisa (b_i) aumenta. Por ejemplo: Para b=5, tenemos que b_i = b - 1 = 5-1 = 4, lo que significa que estariamos trabajando en base 4.\n",
      "\n",
      "iii - Los n\u00fameros reales no est\u00e1n uniformemente distribuidos ya que la distancia entre cada uno de \u00e9stos var\u00eda an\u00f3malamente."
     ]
    },
    {
     "cell_type": "code",
     "collapsed": false,
     "input": [
      "# iv- para c\u00e1lcular la distancia m\u00ednima entre el cero y el primer n\u00famero positivo distinto de cero debemos tener en cuenta lo \n",
      "#siguiente:\n",
      "\n",
      "N(e)= (1.00, 1.01, 1.10, 1.11)x2^e #Representaci\u00f3n compacta del conjunto de n\u00fameros normales en base 2\n",
      "\n",
      "#sabiendo que e=[e_min, e_max]=[-1, 2], escogemos e_min pues nos interesa conocer la distancia m\u00ednima. Por consiguiente,\n",
      "\n",
      "N_min(e)=1.00x2^(e_min)=1.00x2^(-1)=0.100 #que es la distancia m\u00ednima del cero al primer valor positivo."
     ],
     "language": "python",
     "metadata": {},
     "outputs": [],
     "prompt_number": 1
    },
    {
     "cell_type": "heading",
     "level": 2,
     "metadata": {},
     "source": [
      "Ejercicio 2"
     ]
    },
    {
     "cell_type": "code",
     "collapsed": false,
     "input": [
      "# En el conjunto de n\u00fameros reales en base 2 el cero se representa como\n",
      "x=0.00x2^(e_min)"
     ],
     "language": "python",
     "metadata": {},
     "outputs": []
    },
    {
     "cell_type": "heading",
     "level": 5,
     "metadata": {},
     "source": [
      "La regla del bit escondido para una base mayor que 2 no funciona."
     ]
    },
    {
     "cell_type": "heading",
     "level": 2,
     "metadata": {},
     "source": [
      "Ejercicio 3"
     ]
    },
    {
     "cell_type": "heading",
     "level": 5,
     "metadata": {},
     "source": [
      "Considerando de nuevo los valores b=2, p=2, e_min=-1, e_max=2. Obtenemos el siguiente conjunto de n\u00fameros subnormales en su forma compacta\n",
      "\n",
      "                                                                                       x=(0.00, 0.01, 0.10. 0.11)*2^(e) \n",
      "\n",
      "En su forma extendida para los valores positivos \u00fanicamente, son\n",
      "\n",
      "x1=0.00*2^-1=0.000\n",
      "x2=0.01*2^-1=0.001\n",
      "x3=0.10*2^-1=0.010\n",
      "x4=0.11*2^-1=0.110\n",
      "x5=0.00*2^0=0.00\n",
      "x6=0.01*2^0=0.01\n",
      "x7=0.10*2^0=0.01\n",
      "x8=0.11*2^0=0.11\n",
      "x9=0.00*2^1=00.0\n",
      "x10=0.01*2^1=00.1\n",
      "x11=0.10*2^1=01.0\n",
      "x12=0.11*2^1=01.1\n",
      "x13=0.00*2^2=000.0\n",
      "x14=0.01*2^2=001.0\n",
      "x15=0.10*2^2=010.0\n",
      "x16=0.11*2^2=011.0"
     ]
    },
    {
     "cell_type": "heading",
     "level": 5,
     "metadata": {},
     "source": [
      "N\u00f3tese que en \u00e9ste caso, el cero definido en los n\u00fameros normales coincide con el valor m\u00ednimo en los subnormales. En otras palabras,\n",
      "el cero en los n\u00fameros subnormales se toma desde el primer valor \"positivo\". Por lo tanto, la distancia de cero al valor m\u00ednimo es\n",
      "\n",
      "                                                                                     N_min(e)=0.01*2^e_min=0.01*2^-1=0.001\n",
      "\n",
      "Cabe resaltar adem\u00e1s que el espaciamiento entre los n\u00fameros subnormales es uniforme (se puede ver del conjunto anterior) y que la brecha entre el cero y el m\u00ednimo valor positivo para este caso se ha reducido considerablemente en comparaci\u00f3n con el caso de los n\u00fameros normales, donde dicha distancia es muy grande."
     ]
    },
    {
     "cell_type": "heading",
     "level": 2,
     "metadata": {},
     "source": [
      "Ejercicio 4"
     ]
    },
    {
     "cell_type": "heading",
     "level": 5,
     "metadata": {},
     "source": [
      "Las expresiones que definen N_min y N_max, en este caso donde la base es 2 son:\n",
      "\n",
      "Para los normales,\n",
      "                                                                    N_min(e)= ( b_0.b_1*b_2)*2^e_min = 1.00x2^(-1)= 0.100 ,\n",
      "                                                                   N_max(e)= ( b_0.b_1*b_2)*2^e_max = 1.11x2^(2)= 111.0 .\n",
      "\n",
      "Para los subnormales,\n",
      "                                                                  N_min(e)= ( b_0.b_1*b_2)*2^e_min = 0.01*2^-1= 0.001 ,\n",
      "                                                                 N_max(e)= ( b_0.b_1*b_2)*2^e_max = 0.11*2^2= 11.0 .\n"
     ]
    },
    {
     "cell_type": "heading",
     "level": 2,
     "metadata": {},
     "source": [
      "Ejercicio 5"
     ]
    },
    {
     "cell_type": "code",
     "collapsed": false,
     "input": [
      "bits(NaN)"
     ],
     "language": "python",
     "metadata": {},
     "outputs": [
      {
       "metadata": {},
       "output_type": "pyout",
       "prompt_number": 3,
       "text": [
        "\"0111111111111000000000000000000000000000000000000000000000000000\""
       ]
      }
     ],
     "prompt_number": 3
    },
    {
     "cell_type": "code",
     "collapsed": false,
     "input": [
      "bits (Inf)"
     ],
     "language": "python",
     "metadata": {},
     "outputs": [
      {
       "metadata": {},
       "output_type": "pyout",
       "prompt_number": 4,
       "text": [
        "\"0111111111110000000000000000000000000000000000000000000000000000\""
       ]
      }
     ],
     "prompt_number": 4
    },
    {
     "cell_type": "code",
     "collapsed": false,
     "input": [
      "bits(1.5)"
     ],
     "language": "python",
     "metadata": {},
     "outputs": [
      {
       "metadata": {},
       "output_type": "pyout",
       "prompt_number": 33,
       "text": [
        "\"0011111111111000000000000000000000000000000000000000000000000000\""
       ]
      }
     ],
     "prompt_number": 33
    },
    {
     "cell_type": "heading",
     "level": 5,
     "metadata": {},
     "source": [
      "Para representar el anterior n\u00famero en binario se deben tener en cuenta tres factores importantes: el signo, el exponente y el significante. A continuaci\u00f3n se describe el proceso. \n",
      "\n",
      "1- le asociamos un bit al signo del n\u00famero, \"0\" cuando el signo es positivo y \"1\" cuando el signo es negativo. En este caso el bit del signo es 0.\n",
      "\n",
      "2- escribimos 1.5 en notaci\u00f3n binaria (para \u00e9ste paso se utiliz\u00f3 el programa realizado en el notebook anterior para pasar de decimal con punto a binario), el resultado es 1.1 donde el exponente es cero, es decir, 1.1 = 1.1x2^0. Ya que el exponente es cero, seg\u00fan el formato del IEEE punto flotante, el desplazamiento es 127, de modo que 0 + 127= 127= 1111111 .\n",
      "\n",
      "3- el significante es el valor despu\u00e9s del punto, al que le agregamos la cantidad de ceros necesaria hasta que ocupe 24 bits, es decir,\n",
      "10000000000000000000000.\n",
      "\n",
      "Juntando todo lo anterior, obtenemos\n",
      "\n",
      "0 (signo) |  1111111 (exponente) | 1000000000000000000000 (significante) = 01111111100000000000000000000000 (32 bits)\n",
      "\n",
      "NOTA: No s\u00e9 porque al usar bits aparecen dos ceros al principio y tampoco s\u00e9 porque tiene mayor n\u00famero de unos en comparaci\u00f3n con el formato IEEE. La mayor cantidad de ceros supongo debe ser porque se consideran 64 bits."
     ]
    },
    {
     "cell_type": "code",
     "collapsed": false,
     "input": [
      "bits(0.5)"
     ],
     "language": "python",
     "metadata": {},
     "outputs": [
      {
       "metadata": {},
       "output_type": "pyout",
       "prompt_number": 34,
       "text": [
        "\"0011111111100000000000000000000000000000000000000000000000000000\""
       ]
      }
     ],
     "prompt_number": 34
    },
    {
     "cell_type": "heading",
     "level": 5,
     "metadata": {},
     "source": [
      "An\u00e1logamente al ejemplo anterior:\n",
      "\n",
      "1- bit del signo = 0\n",
      "\n",
      "2- 0.5 en notaci\u00f3n binaria es 0.1= 1.0*2^-1, el exponente en este caso es -1, entonces -1+127=126= 1111110\n",
      "\n",
      "3- el significante es cero. Por consiguiente,\n",
      "\n",
      "0 (signo) | 1111110 (exponente) | 000000000000000000000000= 01111110000000000000000000000000 (32 bits)\n",
      "\n",
      "NOTA: Siguen sin coincidir la cantidad de ceros iniciales y el n\u00famero de unos. Sin embargo, la diferencia de unos entre los binarios de 1.5 y 0.5 dada por el comando \"bits\" y el formato IEEE coinciden, la cual es de dos. "
     ]
    },
    {
     "cell_type": "code",
     "collapsed": false,
     "input": [
      "bits(0.0)"
     ],
     "language": "python",
     "metadata": {},
     "outputs": [
      {
       "metadata": {},
       "output_type": "pyout",
       "prompt_number": 35,
       "text": [
        "\"0000000000000000000000000000000000000000000000000000000000000000\""
       ]
      }
     ],
     "prompt_number": 35
    },
    {
     "cell_type": "code",
     "collapsed": false,
     "input": [
      "bits(-0.0)"
     ],
     "language": "python",
     "metadata": {},
     "outputs": [
      {
       "metadata": {},
       "output_type": "pyout",
       "prompt_number": 8,
       "text": [
        "\"1000000000000000000000000000000000000000000000000000000000000000\""
       ]
      }
     ],
     "prompt_number": 8
    },
    {
     "cell_type": "heading",
     "level": 5,
     "metadata": {},
     "source": [
      "el primer uno es el bit correspondiente al signo menos."
     ]
    },
    {
     "cell_type": "heading",
     "level": 2,
     "metadata": {},
     "source": [
      "Ejercicio 6"
     ]
    },
    {
     "cell_type": "heading",
     "level": 5,
     "metadata": {},
     "source": [
      "Los numeros normales consecutivos a escoger son: x1 = 1.01 y x2 = 1.10, cuyos valores en base 10 son x1=  1.25  y  x2= 1.5  \n",
      "\n",
      "Los numeros subnormales consecutivos a escoger son: y1= 0.01  e  y2=0.10, cuyos valores en base 10 son y1= 0.25  e  y2= 0.5\n",
      "\n",
      "NOTA: Para pasar de binario con punto a decimal con punto se us\u00f3 la funci\u00f3n \"binarioconpuntosadecimal(x)\" desarrollada en el notebook 3."
     ]
    },
    {
     "cell_type": "heading",
     "level": 5,
     "metadata": {},
     "source": [
      "Calculando el promedio y la resta de los n\u00fameros consecutivos normales, obtenemos"
     ]
    },
    {
     "cell_type": "code",
     "collapsed": false,
     "input": [
      "(1.5+1.25)/2"
     ],
     "language": "python",
     "metadata": {},
     "outputs": [
      {
       "metadata": {},
       "output_type": "pyout",
       "prompt_number": 40,
       "text": [
        "1.375"
       ]
      }
     ],
     "prompt_number": 40
    },
    {
     "cell_type": "code",
     "collapsed": false,
     "input": [
      "1.5-1.25"
     ],
     "language": "python",
     "metadata": {},
     "outputs": [
      {
       "metadata": {},
       "output_type": "pyout",
       "prompt_number": 41,
       "text": [
        "0.25"
       ]
      }
     ],
     "prompt_number": 41
    },
    {
     "cell_type": "heading",
     "level": 5,
     "metadata": {},
     "source": [
      "donde la representaci\u00f3n en binario de los resultados anteriores son:\n",
      "\n",
      "decimal_con_punto_a_binario (1.375) = 1.011\n",
      "\n",
      "decimal_con_punto_a_binario (0.25) = 0.01"
     ]
    },
    {
     "cell_type": "heading",
     "level": 5,
     "metadata": {},
     "source": [
      "Calculando el promedio y la resta de los n\u00fameros consecutivos subnormales, obtenemos"
     ]
    },
    {
     "cell_type": "code",
     "collapsed": false,
     "input": [
      "(0.5+0.25)/2"
     ],
     "language": "python",
     "metadata": {},
     "outputs": [
      {
       "metadata": {},
       "output_type": "pyout",
       "prompt_number": 42,
       "text": [
        "0.375"
       ]
      }
     ],
     "prompt_number": 42
    },
    {
     "cell_type": "code",
     "collapsed": false,
     "input": [
      "0.5-0.25"
     ],
     "language": "python",
     "metadata": {},
     "outputs": [
      {
       "metadata": {},
       "output_type": "pyout",
       "prompt_number": 43,
       "text": [
        "0.25"
       ]
      }
     ],
     "prompt_number": 43
    },
    {
     "cell_type": "heading",
     "level": 5,
     "metadata": {},
     "source": [
      "donde la representaci\u00f3n en binario de los resultados anteriores son:\n",
      "\n",
      "decimal_con_punto_a_binario (0.375) = 0.011\n",
      "\n",
      "decimal_con_punto_a_binario (0.25) = 0.01"
     ]
    },
    {
     "cell_type": "heading",
     "level": 2,
     "metadata": {},
     "source": [
      "Ejercicio 7 "
     ]
    },
    {
     "cell_type": "code",
     "collapsed": false,
     "input": [
      "function polinomio(x,y)\n",
      "    333.75y^6+x^2*(11x^2*y^2-y^6-121y^4-2)+5.5y^8+(x/2y)\n",
      "end"
     ],
     "language": "python",
     "metadata": {},
     "outputs": [
      {
       "metadata": {},
       "output_type": "pyout",
       "prompt_number": 34,
       "text": [
        "polinomio (generic function with 1 method)"
       ]
      }
     ],
     "prompt_number": 34
    },
    {
     "cell_type": "code",
     "collapsed": false,
     "input": [
      "polinomio(77617.0,33096.0)"
     ],
     "language": "python",
     "metadata": {},
     "outputs": [
      {
       "metadata": {},
       "output_type": "pyout",
       "prompt_number": 35,
       "text": [
        "-1.1805916207174113e21"
       ]
      }
     ],
     "prompt_number": 35
    },
    {
     "cell_type": "heading",
     "level": 5,
     "metadata": {},
     "source": [
      "NOTA: No s\u00e9 por qu\u00e9 el resultado no coincide con el valor reportado en el ejercicio.  "
     ]
    },
    {
     "cell_type": "heading",
     "level": 2,
     "metadata": {},
     "source": [
      "Ejercicio 8 "
     ]
    },
    {
     "cell_type": "code",
     "collapsed": false,
     "input": [
      "function f(x)\n",
      "    (1-x)^6\n",
      "end"
     ],
     "language": "python",
     "metadata": {},
     "outputs": [
      {
       "metadata": {},
       "output_type": "pyout",
       "prompt_number": 23,
       "text": [
        "f (generic function with 2 methods)"
       ]
      }
     ],
     "prompt_number": 23
    },
    {
     "cell_type": "code",
     "collapsed": false,
     "input": [
      "f(0.995)"
     ],
     "language": "python",
     "metadata": {},
     "outputs": [
      {
       "metadata": {},
       "output_type": "pyout",
       "prompt_number": 24,
       "text": [
        "1.5625000000000082e-14"
       ]
      }
     ],
     "prompt_number": 24
    },
    {
     "cell_type": "code",
     "collapsed": false,
     "input": [
      "f(0.996)"
     ],
     "language": "python",
     "metadata": {},
     "outputs": [
      {
       "metadata": {},
       "output_type": "pyout",
       "prompt_number": 25,
       "text": [
        "4.0960000000000216e-15"
       ]
      }
     ],
     "prompt_number": 25
    },
    {
     "cell_type": "code",
     "collapsed": false,
     "input": [
      "f(0.997)"
     ],
     "language": "python",
     "metadata": {},
     "outputs": [
      {
       "metadata": {},
       "output_type": "pyout",
       "prompt_number": 26,
       "text": [
        "7.290000000000039e-16"
       ]
      }
     ],
     "prompt_number": 26
    },
    {
     "cell_type": "code",
     "collapsed": false,
     "input": [
      "f(0.998)"
     ],
     "language": "python",
     "metadata": {},
     "outputs": [
      {
       "metadata": {},
       "output_type": "pyout",
       "prompt_number": 27,
       "text": [
        "6.400000000000034e-17"
       ]
      }
     ],
     "prompt_number": 27
    },
    {
     "cell_type": "code",
     "collapsed": false,
     "input": [
      "f(0.999)"
     ],
     "language": "python",
     "metadata": {},
     "outputs": [
      {
       "metadata": {},
       "output_type": "pyout",
       "prompt_number": 28,
       "text": [
        "1.0000000000000053e-18"
       ]
      }
     ],
     "prompt_number": 28
    },
    {
     "cell_type": "code",
     "collapsed": false,
     "input": [
      "f(1.000)"
     ],
     "language": "python",
     "metadata": {},
     "outputs": [
      {
       "metadata": {},
       "output_type": "pyout",
       "prompt_number": 29,
       "text": [
        "0.0"
       ]
      }
     ],
     "prompt_number": 29
    },
    {
     "cell_type": "code",
     "collapsed": false,
     "input": [
      "f(1.001)"
     ],
     "language": "python",
     "metadata": {},
     "outputs": [
      {
       "metadata": {},
       "output_type": "pyout",
       "prompt_number": 30,
       "text": [
        "9.999999999993393e-19"
       ]
      }
     ],
     "prompt_number": 30
    },
    {
     "cell_type": "code",
     "collapsed": false,
     "input": [
      "f(1.002)"
     ],
     "language": "python",
     "metadata": {},
     "outputs": [
      {
       "metadata": {},
       "output_type": "pyout",
       "prompt_number": 31,
       "text": [
        "6.400000000000034e-17"
       ]
      }
     ],
     "prompt_number": 31
    },
    {
     "cell_type": "code",
     "collapsed": false,
     "input": [
      "f(1.003)"
     ],
     "language": "python",
     "metadata": {},
     "outputs": [
      {
       "metadata": {},
       "output_type": "pyout",
       "prompt_number": 32,
       "text": [
        "7.28999999999842e-16"
       ]
      }
     ],
     "prompt_number": 32
    },
    {
     "cell_type": "code",
     "collapsed": false,
     "input": [
      "f(1.004)"
     ],
     "language": "python",
     "metadata": {},
     "outputs": [
      {
       "metadata": {},
       "output_type": "pyout",
       "prompt_number": 33,
       "text": [
        "4.0960000000000216e-15"
       ]
      }
     ],
     "prompt_number": 33
    },
    {
     "cell_type": "code",
     "collapsed": false,
     "input": [
      "f(1.005)"
     ],
     "language": "python",
     "metadata": {},
     "outputs": [
      {
       "metadata": {},
       "output_type": "pyout",
       "prompt_number": 34,
       "text": [
        "1.5624999999998002e-14"
       ]
      }
     ],
     "prompt_number": 34
    },
    {
     "cell_type": "heading",
     "level": 5,
     "metadata": {},
     "source": [
      "El exponente del resultado de la funci\u00f3n f(x) disminuye en -1 unidades desde el valor m\u00ednimo del intervalo hasta x=1.000 en el cual es cero. Luego, a partir de 1.001 dicho exponente va aumentando en una unidad.  "
     ]
    },
    {
     "cell_type": "code",
     "collapsed": false,
     "input": [
      "function g(x)\n",
      "    x^6-6x^5+15x^4-20x^3-6x+1\n",
      "end"
     ],
     "language": "python",
     "metadata": {},
     "outputs": [
      {
       "metadata": {},
       "output_type": "pyout",
       "prompt_number": 49,
       "text": [
        "g (generic function with 1 method)"
       ]
      }
     ],
     "prompt_number": 49
    },
    {
     "cell_type": "code",
     "collapsed": false,
     "input": [
      "g(0.995)"
     ],
     "language": "python",
     "metadata": {},
     "outputs": [
      {
       "metadata": {},
       "output_type": "pyout",
       "prompt_number": 50,
       "text": [
        "-14.850374999999985"
       ]
      }
     ],
     "prompt_number": 50
    },
    {
     "cell_type": "code",
     "collapsed": false,
     "input": [
      "g(0.996)"
     ],
     "language": "python",
     "metadata": {},
     "outputs": [
      {
       "metadata": {},
       "output_type": "pyout",
       "prompt_number": 51,
       "text": [
        "-14.880239999999993"
       ]
      }
     ],
     "prompt_number": 51
    },
    {
     "cell_type": "code",
     "collapsed": false,
     "input": [
      "g(0.997)"
     ],
     "language": "python",
     "metadata": {},
     "outputs": [
      {
       "metadata": {},
       "output_type": "pyout",
       "prompt_number": 52,
       "text": [
        "-14.910134999999997"
       ]
      }
     ],
     "prompt_number": 52
    },
    {
     "cell_type": "code",
     "collapsed": false,
     "input": [
      "g(0.998)"
     ],
     "language": "python",
     "metadata": {},
     "outputs": [
      {
       "metadata": {},
       "output_type": "pyout",
       "prompt_number": 53,
       "text": [
        "-14.940059999999999"
       ]
      }
     ],
     "prompt_number": 53
    },
    {
     "cell_type": "code",
     "collapsed": false,
     "input": [
      "g(0.999)"
     ],
     "language": "python",
     "metadata": {},
     "outputs": [
      {
       "metadata": {},
       "output_type": "pyout",
       "prompt_number": 54,
       "text": [
        "-14.970015"
       ]
      }
     ],
     "prompt_number": 54
    },
    {
     "cell_type": "code",
     "collapsed": false,
     "input": [
      "g(1.000)"
     ],
     "language": "python",
     "metadata": {},
     "outputs": [
      {
       "metadata": {},
       "output_type": "pyout",
       "prompt_number": 55,
       "text": [
        "-15.0"
       ]
      }
     ],
     "prompt_number": 55
    },
    {
     "cell_type": "code",
     "collapsed": false,
     "input": [
      "g(1.001)"
     ],
     "language": "python",
     "metadata": {},
     "outputs": [
      {
       "metadata": {},
       "output_type": "pyout",
       "prompt_number": 56,
       "text": [
        "-15.030014999999995"
       ]
      }
     ],
     "prompt_number": 56
    },
    {
     "cell_type": "code",
     "collapsed": false,
     "input": [
      "g(1.002)"
     ],
     "language": "python",
     "metadata": {},
     "outputs": [
      {
       "metadata": {},
       "output_type": "pyout",
       "prompt_number": 57,
       "text": [
        "-15.060059999999996"
       ]
      }
     ],
     "prompt_number": 57
    },
    {
     "cell_type": "code",
     "collapsed": false,
     "input": [
      "g(1.003)"
     ],
     "language": "python",
     "metadata": {},
     "outputs": [
      {
       "metadata": {},
       "output_type": "pyout",
       "prompt_number": 58,
       "text": [
        "-15.090134999999997"
       ]
      }
     ],
     "prompt_number": 58
    },
    {
     "cell_type": "code",
     "collapsed": false,
     "input": [
      "g(1.004)"
     ],
     "language": "python",
     "metadata": {},
     "outputs": [
      {
       "metadata": {},
       "output_type": "pyout",
       "prompt_number": 59,
       "text": [
        "-15.120239999999995"
       ]
      }
     ],
     "prompt_number": 59
    },
    {
     "cell_type": "code",
     "collapsed": false,
     "input": [
      "g(1.005)"
     ],
     "language": "python",
     "metadata": {},
     "outputs": [
      {
       "metadata": {},
       "output_type": "pyout",
       "prompt_number": 60,
       "text": [
        "-15.150374999999976"
       ]
      }
     ],
     "prompt_number": 60
    },
    {
     "cell_type": "heading",
     "level": 5,
     "metadata": {},
     "source": [
      "Para cada valor del intervalo en x el resultado de la funci\u00f3n g(x) va disminuyendo de 0.3 en 0.3"
     ]
    },
    {
     "cell_type": "heading",
     "level": 2,
     "metadata": {},
     "source": [
      "Ejercicio 9"
     ]
    },
    {
     "cell_type": "heading",
     "level": 5,
     "metadata": {},
     "source": [
      "No es buena idea usar n\u00fameros subnormales en la evaluaci\u00f3n de una integraci\u00f3n puesto que el resultado ser\u00eda poco preciso por el redondeo de los binarios decimales que omite la computadora. Adem\u00e1s con este tipo de valores el programa abarcar\u00eda mucho tiempo de iteraci\u00f3n."
     ]
    }
   ],
   "metadata": {}
  }
 ]
}