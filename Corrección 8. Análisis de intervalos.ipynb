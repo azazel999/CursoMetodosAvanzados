{
 "cells": [
  {
   "cell_type": "markdown",
   "metadata": {},
   "source": [
    "#8. Análisis de intervalos"
   ]
  },
  {
   "cell_type": "markdown",
   "metadata": {},
   "source": [
    "[1] Amplía tu módulo de intervalos para que incluya la extensión de las funciones estándres monótonas a intervalos. En el caso de las potencias, extiénde lo que ya hayas hecho para que incluya potencias reales. Incluye algunas pruebas en pruebas.jl que muestren que lo que has hecho funciona bien."
   ]
  },
  {
   "cell_type": "code",
   "execution_count": 1,
   "metadata": {
    "collapsed": false
   },
   "outputs": [],
   "source": [
    "using Intervalos"
   ]
  },
  {
   "cell_type": "raw",
   "metadata": {},
   "source": [
    "module Intervalos\n",
    "\n",
    "export Intervalo \n",
    "\n",
    "import Base.in \n",
    "import Base.== \n",
    "import Base.log \n",
    "import Base.exp \n",
    "import Base.^\n",
    "\n",
    "#DEFINIMOS EL TIPO INTERVALO \n",
    "type Intervalo\n",
    "    inf::Real\n",
    "    sup::Real\n",
    "function Intervalo(a, b)\n",
    "    a, b = a > b ? (b,a) : (a,b) #función que invierte el orden de los límites en caso de que el usuario los escriba al revés \n",
    "    #set_rounging(BigFloat, RoundDown)\n",
    "    inf = BigFloat(\"$a\") #reescribe el límite inferior del intervalo en BigFloat\n",
    "    #set_rounding(BigFloat, RoundUp)\n",
    "    sup = BigFloat(\"$b\") #reescribe el límite superior del intervalo en BigFloat\n",
    "    new(inf, sup) #provee el nuevo intervalo en el orden correcto\n",
    "end\n",
    "end\n",
    "\n",
    "#ESCALARES\n",
    "#para definir los escalares en un intervalo\n",
    "function Intervalo(z) \n",
    "Intervalo(z,z)\n",
    "end\n",
    "\n",
    "#REDONDEO HACIA ARRIBA Y HACIA ABAJO\n",
    "\n",
    "#se construye la función para redondear hacia arriba \n",
    "function redonUp(f::Function,x,y) with_rounding(BigFloat,RoundUp) do \n",
    "        f(BigFloat(x),BigFloat(y))\n",
    "        end \n",
    "end\n",
    "\n",
    "#se construye la función para redondear hacia abajo\n",
    "function redonDown(f::Function,x,y) with_rounding(BigFloat,RoundDown) do\n",
    "        f(BigFloat(x),BigFloat(y))\n",
    "    end\n",
    "end\n",
    "\n",
    "#OPERACIONES ENTRE INTERVALOS\n",
    "\n",
    "# suma\n",
    "# a' + b' = [a(i) + b(i) , a(s) + b(s) ]\n",
    "function +(a::Intervalo,b::Intervalo)\n",
    "    Intervalo(redonDown(+,a.inf,b.inf),redonUp(+,a.sup,b.sup))\n",
    "end\n",
    "\n",
    "#resta\n",
    "# a' - b' = [a(i) -  b(s) , a(s) - b(i)]\n",
    "function -(a::Intervalo,b::Intervalo)\n",
    "    Intervalo(redonDown(-,a.inf,b.inf),redonUp(-,a.sup,b.sup))\n",
    "end\n",
    "\n",
    "#multiplicación\n",
    "#a' x b' = [min{a(i)b(i),a(i)b(s),a(s)b(i), a(s)b(s)}, max {a(i)b(i), a(i)b(s), a(s)b(i), a(s)b(s)}]\n",
    "function *(a::Intervalo,b::Intervalo)\n",
    "    Intervalo(min(redonDown(*,a.inf,b.inf),redonDown(*,a.inf,b.sup),redonDown(*,a.sup,b.inf),redonDown(*,a.sup,b.sup)),(max(redonUp(*,a.inf,b.inf),redonUp(*,a.inf,b.sup),redonUp(*,a.sup,b.inf),redonUp(*,a.sup,b.sup))))\n",
    "end\n",
    "\n",
    "#división\n",
    "# a' / b' = a' x [1 / b(s), 1 / b(i)], si 0 ∉ b'\n",
    "function /(a::Intervalo,b::Intervalo)\n",
    "    Intervalo(min(redonDown(/,a.inf,b.inf),redonDown(/,a.inf,b.sup),redonDown(/,a.sup,b.inf),redonDown(/,a.sup,b.sup)),(max(redonUp(/,a.inf,b.inf),redonUp(/,a.inf,b.sup),redonUp(/,a.sup,b.inf),redonUp(/,a.sup,b.sup))))\n",
    "end\n",
    "\n",
    "#potencia\n",
    "function ^(v::Intervalo, w::Float64)\n",
    "    \n",
    "    if (v.sup > 0 && v.inf > 0)\n",
    "        return Intervalo(v.inf^w,v.sup^w)\n",
    "        \n",
    "        elseif (v.sup < 0 && v.inf < 0)\n",
    "        return Intervalo(v.sup^w,v.inf^w)\n",
    "            else    \n",
    "        return Intervalo(0,max(v.inf^2,v.sup^2))\n",
    "    end\n",
    "end \n",
    "\n",
    "#OPERACIONES CON UN ENTERO\n",
    "\n",
    "#calcula la suma entre un número entero y el intervalo\n",
    "+(a::Intervalo,z::Int64) = Intervalo(a.inf+z,a.sup+z)\n",
    "\n",
    "#calcula la resta entre un número entero y el intervalo\n",
    "-(a::Intervalo,z::Int64) = Intervalo(a.inf-z,a.sup-z)\n",
    "\n",
    "#calcula la multiplicación entre un número entero y el intervalo\n",
    "*(z::Int64,a::Intervalo) = Intervalo(z*a.inf,z*a.sup)\n",
    "\n",
    "#calcula la división entre un número entero y el intervalo\n",
    "/(z::Int64,a::Intervalo) = Intervalo(z/a.inf,z/a.sup)\n",
    "/(a::Intervalo,z::Int64) = Intervalo(a.inf/z,a.sup/z)\n",
    "\n",
    "# FUNCIONES MONOTONAS\n",
    "function monotona(f::Function,v::Intervalo) #si la función es monótona decreciente, se invierte el intervalo \n",
    "    Intervalo(redonDown(f,v.inf),redonUp(f,v.sup)) \n",
    "end \n",
    "\n",
    "#FUNCIONES EXP, LOG, POTENCIA\n",
    "\n",
    "#funion logaritmo\n",
    "function log(v::Intervalo) # logaritmo del valor absoluto de una función \n",
    "    if (v.inf < 0 || v.sup < 0) #si el valor dado al logaritmo es negativo\n",
    "        return throw(DomainError()) #devuelve error \n",
    "        elseif (v.inf == 0) # si el logaritmo es cero\n",
    "        return Interval(-Inf,-Inf) #devuelve el intervalo (-inf, -inf)\n",
    "        else return monotona(log,v) #si el logaritmo tiene un valor admitido devuelve monotona(log,v)\n",
    "        end\n",
    "end\n",
    "\n",
    "#función exponencial\n",
    "function exp(v::Intervalo) \n",
    "    monotona(exp,v) \n",
    "end\n",
    "\n",
    "#función potencia para un entero\n",
    "function ^(v::Intervalo, w::Integer)\n",
    "\n",
    "    if (v.sup > 0 && v.inf > 0)\n",
    "        return Intervalo(v.inf^w,v.sup^w)\n",
    "        elseif (v.sup < 0 && v.inf < 0)\n",
    "        return Intervalo(v.sup^w,v.inf^w)\n",
    "    else        \n",
    "        return Intervalo(0,max(v.inf^2,v.sup^2))\n",
    "\n",
    "end\n",
    "end\n",
    "\n",
    "#función potencia para un real\n",
    "function ^(v::Intervalo, q::Real) #Definido sólo para intervalos positivos \n",
    "    exp(Intervalo(q)*log(v))\n",
    "end\n",
    "\n",
    "function ==(a::Intervalo, b::Intervalo) \n",
    "    (a.inf == b.inf && a.sup ==b.sup) && return true \n",
    "    return false \n",
    "end \n",
    "\n",
    "end\n"
   ]
  },
  {
   "cell_type": "code",
   "execution_count": 2,
   "metadata": {
    "collapsed": false
   },
   "outputs": [],
   "source": [
    "using FactCheck"
   ]
  },
  {
   "cell_type": "code",
   "execution_count": 3,
   "metadata": {
    "collapsed": false
   },
   "outputs": [
    {
     "name": "stdout",
     "output_type": "stream",
     "text": [
      "Prueba: Aritmética de intervalos\n",
      "7 facts verified.\n"
     ]
    },
    {
     "data": {
      "text/plain": [
       "delayed_handler (generic function with 4 methods)"
      ]
     },
     "execution_count": 3,
     "metadata": {},
     "output_type": "execute_result"
    }
   ],
   "source": [
    "include (\"IntervalosTest.jl\")"
   ]
  },
  {
   "cell_type": "raw",
   "metadata": {},
   "source": [
    "using FactCheck\n",
    "using Intervalos\n",
    "\n",
    "facts(\"Prueba: Aritmética de intervalos\") do\n",
    "    a = Intervalo(1,2)\n",
    "    b = Intervalo(3,4)\n",
    "    x=2\n",
    "    y=0.5\n",
    "    \n",
    "    @fact Intervalo(2,1) => Intervalo(1,2) \n",
    "    @fact a+b => Intervalo(4,6)\n",
    "    @fact b-a => Intervalo(2,2) \n",
    "    @fact a*b => Intervalo(3,8)\n",
    "    @fact b/a => Intervalo(1.5,4)\n",
    "    @fact b^2 => Intervalo(9,16)\n",
    "    @fact Intervalo(4,4)^0.5 => Intervalo(2,2)\n",
    "    #@fact a.inf in b && a.sup in b => True\n",
    "    #@fact 0 in a => True\n",
    "end"
   ]
  },
  {
   "cell_type": "code",
   "execution_count": 4,
   "metadata": {
    "collapsed": false
   },
   "outputs": [
    {
     "data": {
      "text/plain": [
       "Intervalo(2e+00 with 256 bits of precision,2e+00 with 256 bits of precision)"
      ]
     },
     "execution_count": 4,
     "metadata": {},
     "output_type": "execute_result"
    }
   ],
   "source": [
    "Intervalo(4,4)^0.5"
   ]
  },
  {
   "cell_type": "markdown",
   "metadata": {},
   "source": [
    "### [2] ¿Cómo definirías la extensión a intervalos para funciones no monótonas? Repite [1] para este caso."
   ]
  },
  {
   "cell_type": "raw",
   "metadata": {},
   "source": [
    "Para funciones no monótonas tendría en cuenta que las derivadas de dichas funciones sean continuas, ya que así podria definir funciones monótonas a trozos. "
   ]
  },
  {
   "cell_type": "markdown",
   "metadata": {},
   "source": [
    "#### [3] La extensión natural del intervalo para f(x)=x/(1+x²) es F(x)=x/(1+x²). ¿Cuál es la extensión natural del intervalo para x=[1,2]? ¿Cómo se compara con el rango R(f;[1,2]). Ilustra los resultados con una gráfica."
   ]
  },
  {
   "cell_type": "code",
   "execution_count": 2,
   "metadata": {
    "collapsed": false
   },
   "outputs": [
    {
     "name": "stderr",
     "output_type": "stream",
     "text": [
      "INFO: Loading help data...\n"
     ]
    }
   ],
   "source": [
    "using PyPlot"
   ]
  },
  {
   "cell_type": "code",
   "execution_count": 3,
   "metadata": {
    "collapsed": false
   },
   "outputs": [
    {
     "data": {
      "text/plain": [
       "grafica1D (generic function with 1 method)"
      ]
     },
     "execution_count": 3,
     "metadata": {},
     "output_type": "execute_result"
    }
   ],
   "source": [
    "function grafica1D(a,b,f::Function)\n",
    " \n",
    "    puntosX=(-5:0.125:5)\n",
    "    puntosY=similar(puntosX)\n",
    "    \n",
    "    for i=1:length(puntosX)\n",
    "        puntosY[i]=f(puntosX[i])   #referencia fija\n",
    "    end\n",
    "    \n",
    "    ptsX=(a:0.125:b)\n",
    "    ptsY=similar(ptsX)            #la función evaluada en cada elemento del dominio\n",
    "    for i=1:length(ptsX)\n",
    "    ptsY[i]=f(ptsX[i])\n",
    "    end\n",
    "    \n",
    "    func=f(Intervalo(a,b))        #la función evaluada en el intervalo\n",
    "    PyPlot.plot(puntosX,puntosY,\"r\",linewidth=1)\n",
    "    PyPlot.plot(ptsX, ptsY, \"g\", linewidth=2.0)\n",
    "    \n",
    "    PyPlot.plot((a-1)*[1,1],float64([func.inf,func.sup]), \"black\", linewidth=2.0)    \n",
    "    PyPlot.plot([a-1,a],float64(func.inf)*[1,1],\"black\", linewidth=1.0, linestyle=\"--\")\n",
    "    PyPlot.plot([a-1,a],float64(func.sup)*[1,1], \"black\", linewidth=1.0, linestyle=\"--\")\n",
    "    \n",
    "\n",
    "    PyPlot.fill_between([a,b],float64(func.inf),float64(func.sup),color=\"lightgray\")\n",
    "    PyPlot.suptitle(\"La línea negra es f([$a,$b]), la zona grís representa el dominio y el codominio de la función sobre el intervalo, línea verde es R(f;[$a,$b])\")\n",
    "   \n",
    "end"
   ]
  },
  {
   "cell_type": "code",
   "execution_count": 4,
   "metadata": {
    "collapsed": false
   },
   "outputs": [
    {
     "data": {
      "text/plain": [
       "p (generic function with 1 method)"
      ]
     },
     "execution_count": 4,
     "metadata": {},
     "output_type": "execute_result"
    }
   ],
   "source": [
    "function  p(x)\n",
    "        x/(x^2+1)\n",
    "end"
   ]
  },
  {
   "cell_type": "code",
   "execution_count": 5,
   "metadata": {
    "collapsed": false
   },
   "outputs": [
    {
     "data": {
      "image/png": "[encoded data removed]",
      "text/plain": [
       "Figure(PyObject <matplotlib.figure.Figure object at 0xb345c90>)"
      ]
     },
     "metadata": {},
     "output_type": "display_data"
    }
   ],
   "source": [
    "grafica1D(1.0,2.0,p);"
   ]
  },
  {
   "cell_type": "markdown",
   "metadata": {},
   "source": [
    "#### [4] Demuestra que f(x)=(sin(x)−x²+1)cos(x) no tiene raíces en x=[0,1/2]. Ilustra que el argumento es correcto gráficamente."
   ]
  },
  {
   "cell_type": "code",
   "execution_count": 6,
   "metadata": {
    "collapsed": false
   },
   "outputs": [
    {
     "data": {
      "text/plain": [
       "cos (generic function with 12 methods)"
      ]
     },
     "execution_count": 6,
     "metadata": {},
     "output_type": "execute_result"
    }
   ],
   "source": [
    "import Base.sin\n",
    "import Base.cos\n",
    "\n",
    "sin(a::Intervalo) = Intervalo(sin(a.inf),sin(a.sup))\n",
    "cos(a::Intervalo) = Intervalo(cos(a.inf),cos(a.sup))"
   ]
  },
  {
   "cell_type": "code",
   "execution_count": 7,
   "metadata": {
    "collapsed": false
   },
   "outputs": [
    {
     "data": {
      "image/png": "[encoded data removed]",
      "text/plain": [
       "Figure(PyObject <matplotlib.figure.Figure object at 0xde55850>)"
      ]
     },
     "metadata": {},
     "output_type": "display_data"
    },
    {
     "data": {
      "text/plain": [
       "1-element Array{Any,1}:\n",
       " PyObject <matplotlib.lines.Line2D object at 0x3aac810>"
      ]
     },
     "execution_count": 7,
     "metadata": {},
     "output_type": "execute_result"
    }
   ],
   "source": [
    "t(x) = (sin(x)-x^2+1)*cos(x);\n",
    "\n",
    "ptosx=linspace(0,0.5,1024);\n",
    "ptosy=[t(ptosx[i]) for i in 1:1024];\n",
    "plot(ptosx,ptosy)"
   ]
  },
  {
   "cell_type": "markdown",
   "metadata": {},
   "source": [
    "#### [5] Escribe un código quer utiliza la propiedad de los ceros para encontrar los intervalos donde podría haber un cero."
   ]
  },
  {
   "cell_type": "code",
   "execution_count": 4,
   "metadata": {
    "collapsed": false
   },
   "outputs": [],
   "source": [
    "using Derivada"
   ]
  },
  {
   "cell_type": "code",
   "execution_count": 5,
   "metadata": {
    "collapsed": false
   },
   "outputs": [
    {
     "data": {
      "text/plain": [
       "bisect (generic function with 1 method)"
      ]
     },
     "execution_count": 5,
     "metadata": {},
     "output_type": "execute_result"
    }
   ],
   "source": [
    "function bisect(x::Intervalo)\n",
    "    return [Intervalo(x.inf,(x.sup+x.inf)/2),Intervalo((x.sup+x.inf)/2,x.sup)]\n",
    "end"
   ]
  },
  {
   "cell_type": "code",
   "execution_count": 6,
   "metadata": {
    "collapsed": true
   },
   "outputs": [],
   "source": [
    "import Base.zeros"
   ]
  },
  {
   "cell_type": "code",
   "execution_count": 7,
   "metadata": {
    "collapsed": false
   },
   "outputs": [
    {
     "data": {
      "text/plain": [
       "zeros (generic function with 4 methods)"
      ]
     },
     "execution_count": 7,
     "metadata": {},
     "output_type": "execute_result"
    }
   ],
   "source": [
    "function zeros(T::Intervalo,dim::Integer)\n",
    "    a=[];\n",
    "    for i in 1:dim\n",
    "        a=cat(1,a,Intervalo)\n",
    "    end\n",
    "    b=a\n",
    "    for j in 1:dim-1\n",
    "        a=cat(2,a,b)\n",
    "    end\n",
    "    return a\n",
    "end"
   ]
  },
  {
   "cell_type": "code",
   "execution_count": 8,
   "metadata": {
    "collapsed": false
   },
   "outputs": [
    {
     "data": {
      "text/plain": [
       "multisect (generic function with 1 method)"
      ]
     },
     "execution_count": 8,
     "metadata": {},
     "output_type": "execute_result"
    }
   ],
   "source": [
    "function multisect(x::Intervalo,ntot::Integer) #funcion que hace una bisección ntot veces\n",
    "    if ntot==0\n",
    "        return x\n",
    "    else\n",
    "        even=[2*i for i in 1:2^ntot];\n",
    "        odds=even-1;\n",
    "        A=zeros(Intervalo(0),2^ntot)\n",
    "        A[1:2,1]=bisect(x)\n",
    "        for n in 2:ntot\n",
    "            for i in 1:2^(n-1)\n",
    "                for j in even[i]\n",
    "                    for k in odds[i]\n",
    "                        A[k:j,n]=bisect(A[i,n-1])\n",
    "                    end\n",
    "                end\n",
    "            end\n",
    "        end\n",
    "        return A[:,ntot]\n",
    "    end\n",
    "end"
   ]
  },
  {
   "cell_type": "code",
   "execution_count": 9,
   "metadata": {
    "collapsed": false
   },
   "outputs": [
    {
     "data": {
      "text/plain": [
       "findzeros (generic function with 1 method)"
      ]
     },
     "execution_count": 9,
     "metadata": {},
     "output_type": "execute_result"
    }
   ],
   "source": [
    "function findzeros(x::Intervalo,numbisecc::Integer,f::Function)\n",
    "    x1=multisect(x,numbisecc);\n",
    "    y1=[f(x) for x in x1];\n",
    "    a=[]\n",
    "    for i in 1:length(y1)\n",
    "        B=0 in y1[i]\n",
    "        a=cat(1,a,B)\n",
    "    end\n",
    "    return x1[find(a)]\n",
    "end"
   ]
  },
  {
   "cell_type": "code",
   "execution_count": 10,
   "metadata": {
    "collapsed": false
   },
   "outputs": [],
   "source": [
    " x=Intervalo(-3.5,-1);"
   ]
  },
  {
   "cell_type": "code",
   "execution_count": 11,
   "metadata": {
    "collapsed": false
   },
   "outputs": [
    {
     "data": {
      "text/plain": [
       "g (generic function with 1 method)"
      ]
     },
     "execution_count": 11,
     "metadata": {},
     "output_type": "execute_result"
    }
   ],
   "source": [
    "function  g(x)\n",
    "        (x+3)/(x^2+1)\n",
    "end"
   ]
  },
  {
   "cell_type": "code",
   "execution_count": 12,
   "metadata": {
    "collapsed": false
   },
   "outputs": [
    {
     "data": {
      "image/png": "[encoded data removed]",
      "text/plain": [
       "Figure(PyObject <matplotlib.figure.Figure object at 0xd912b50>)"
      ]
     },
     "metadata": {},
     "output_type": "display_data"
    },
    {
     "data": {
      "text/plain": [
       "PyObject <matplotlib.text.Text object at 0xaaab750>"
      ]
     },
     "execution_count": 12,
     "metadata": {},
     "output_type": "execute_result"
    }
   ],
   "source": [
    "grafica1D(-3.5,-1.0,g)"
   ]
  },
  {
   "cell_type": "code",
   "execution_count": 23,
   "metadata": {
    "collapsed": false
   },
   "outputs": [
    {
     "ename": "LoadError",
     "evalue": "`convert` has no method matching convert(::DataType, ::Intervalo)\nwhile loading In[23], in expression starting on line 1",
     "output_type": "error",
     "traceback": [
      "`convert` has no method matching convert(::DataType, ::Intervalo)\nwhile loading In[23], in expression starting on line 1",
      "",
      " in setindex! at multidimensional.jl:76",
      " in multisect at In[8]:8",
      " in findzeros at In[9]:2"
     ]
    }
   ],
   "source": [
    "findzeros(x,10,g)"
   ]
  },
  {
   "cell_type": "markdown",
   "metadata": {},
   "source": [
    "###[6] Extiende tu código para utilizar la derivada f′, dada a mano, para demostrar (cuando se puede) que el cero es único en el intervalo."
   ]
  },
  {
   "cell_type": "code",
   "execution_count": 14,
   "metadata": {
    "collapsed": false
   },
   "outputs": [
    {
     "data": {
      "text/plain": [
       "dg (generic function with 1 method)"
      ]
     },
     "execution_count": 14,
     "metadata": {},
     "output_type": "execute_result"
    }
   ],
   "source": [
    "function  dg(x)\n",
    "        ((-1*x)^2-6x+1)/(x^2+1)^2\n",
    "end"
   ]
  },
  {
   "cell_type": "code",
   "execution_count": 15,
   "metadata": {
    "collapsed": false
   },
   "outputs": [
    {
     "data": {
      "text/plain": [
       "Intervalo(1,096475614097543609825560697757208971164115343538625845496618013527945888216446e-01 with 256 bits of precision,5,75e+00 with 256 bits of precision)"
      ]
     },
     "execution_count": 15,
     "metadata": {},
     "output_type": "execute_result"
    }
   ],
   "source": [
    "dg(x)"
   ]
  },
  {
   "cell_type": "markdown",
   "metadata": {},
   "source": [
    "### [7] Utiliza la diferenciación automática del notebook 6 para que no tengas que especificar la derivada a mano."
   ]
  },
  {
   "cell_type": "markdown",
   "metadata": {},
   "source": [
    "#bisecciones recursivas"
   ]
  },
  {
   "cell_type": "code",
   "execution_count": 17,
   "metadata": {
    "collapsed": false
   },
   "outputs": [],
   "source": [
    "function  g(x)\n",
    "        (x+3)/(1+x^2)\n",
    "end\n",
    "x=Intervalo(-3.5,-1);\n",
    "eval=10;"
   ]
  },
  {
   "cell_type": "code",
   "execution_count": 18,
   "metadata": {
    "collapsed": false
   },
   "outputs": [
    {
     "data": {
      "text/plain": [
       "roots (generic function with 1 method)"
      ]
     },
     "execution_count": 18,
     "metadata": {},
     "output_type": "execute_result"
    }
   ],
   "source": [
    "function roots(x::Intervalo,eval::Integer,g::Function)\n",
    "    x1=bisect(x)\n",
    "    for k=1:eval;\n",
    "        y1=[g(x) for x in x1];\n",
    "        a=[];\n",
    "        for i in 1:length(y1)\n",
    "            B=0 in y1[i]\n",
    "            a=cat(1,a,B)\n",
    "        end\n",
    "        if a==falses(lenght(a))\n",
    "            println(\"el cero no está en el intervalo\")\n",
    "            break\n",
    "        else\n",
    "            x1=[x1[find(a)]]\n",
    "        end\n",
    "        #hace la biseccion y la guarda en un arreglo\n",
    "        lao=[]\n",
    "        for i in 1:length(x1)\n",
    "            lao=cat(1,dummy,bisect(x1[i]))\n",
    "        end\n",
    "        x1=lao; #ahora x1 es una lista de bisecciones donde probablemente hay un cero\n",
    "    end\n",
    "    respuesta=x1[1];\n",
    "    println(\"el cero puede estar en este intervalo\")\n",
    "    #prueba para ver si el cero es unico\n",
    "    arr=[g(Deriv(respuesta,1)).d]\n",
    "    sub=[];\n",
    "    for i in 1:length(arr)\n",
    "        sub=cat(1,sub,[arr[i].inf,arr[i].sup])\n",
    "    end\n",
    "    signosenlosextremos=[sign(sub[i]) for i in 1:length(sub)];\n",
    "    if signosenlosextremos==ones(length(signosenlosextremos))\n",
    "        println(\"y además es el cero es único\")\n",
    "    else\n",
    "        println(\"pero el cero NO es único en este intervalo\")\n",
    "    end\n",
    "        return respuesta\n",
    "end"
   ]
  },
  {
   "cell_type": "code",
   "execution_count": 24,
   "metadata": {
    "collapsed": false
   },
   "outputs": [
    {
     "ename": "LoadError",
     "evalue": "`start` has no method matching start(::Intervalo)\nwhile loading In[24], in expression starting on line 7",
     "output_type": "error",
     "traceback": [
      "`start` has no method matching start(::Intervalo)\nwhile loading In[24], in expression starting on line 7",
      "",
      " in mapfoldl at reduce.jl:361",
      " in in at reduce.jl:406",
      " in roots at In[18]:7"
     ]
    }
   ],
   "source": [
    "function  g(x)\n",
    "        (x+3)/(x^2+1)\n",
    "end\n",
    "eval=8;\n",
    "tol=2.^-20.;\n",
    "x=Intervalo(-3.5,0);\n",
    "X=roots(x,eval,g)"
   ]
  },
  {
   "cell_type": "code",
   "execution_count": null,
   "metadata": {
    "collapsed": true
   },
   "outputs": [],
   "source": []
  }
 ],
 "metadata": {
  "kernelspec": {
   "display_name": "Julia 0.3.5",
   "language": "julia",
   "name": "julia 0.3"
  },
  "language_info": {
   "name": "julia",
   "version": "0.3.5"
  }
 },
 "nbformat": 4,
 "nbformat_minor": 0
}
