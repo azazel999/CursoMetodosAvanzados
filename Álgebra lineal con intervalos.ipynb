{
 "cells": [
  {
   "cell_type": "markdown",
   "metadata": {},
   "source": [
    "#Algebra lineal con intervalos"
   ]
  },
  {
   "cell_type": "code",
   "execution_count": 1,
   "metadata": {
    "collapsed": false
   },
   "outputs": [],
   "source": [
    "using IntervalosMD "
   ]
  },
  {
   "cell_type": "raw",
   "metadata": {},
   "source": [
    "module IntervalosMD\n",
    "\n",
    "export Intervalo\n",
    "\n",
    "type Intervalo\n",
    "    inf::Number\n",
    "    sup::Number\n",
    "end\n",
    "\n",
    "#ESCALARES\n",
    "#para definir los escalares en un intervalo\n",
    "function Intervalo(z) \n",
    "Intervalo(z,z)\n",
    "end\n",
    "\n",
    "function Base.show(io::IO, t::Intervalo)\n",
    "    repr=\"($(t.inf), $(t.sup))\"\n",
    "    print(io,repr)\n",
    "end\n",
    "\n",
    "#REDONDEO HACIA ARRIBA Y HACIA ABAJO\n",
    "\n",
    "#se construye la función para redondear hacia arriba \n",
    "function redonUp(f::Function,x,y) with_rounding(BigFloat,RoundUp) do \n",
    "        f(BigFloat(x),BigFloat(y))\n",
    "        end \n",
    "end\n",
    "\n",
    "#se construye la función para redondear hacia abajo\n",
    "function redonDown(f::Function,x,y) with_rounding(BigFloat,RoundDown) do\n",
    "        f(BigFloat(x),BigFloat(y))\n",
    "    end\n",
    "end\n",
    "\n",
    "#OPERACIONES ENTRE INTERVALOS\n",
    "\n",
    "# suma\n",
    "# a' + b' = [a(i) + b(i) , a(s) + b(s) ]\n",
    "function +(a::Intervalo,b::Intervalo)\n",
    "    Intervalo(redonDown(+,a.inf,b.inf),redonUp(+,a.sup,b.sup))\n",
    "end\n",
    "\n",
    "#resta\n",
    "# a' - b' = [a(i) -  b(s) , a(s) - b(i)]\n",
    "function -(a::Intervalo,b::Intervalo)\n",
    "    Intervalo(redonDown(-,a.inf,b.inf),redonUp(-,a.sup,b.sup))\n",
    "end\n",
    "\n",
    "#multiplicación\n",
    "#a' x b' = [min{a(i)b(i),a(i)b(s),a(s)b(i), a(s)b(s)}, max {a(i)b(i), a(i)b(s), a(s)b(i), a(s)b(s)}]\n",
    "function *(a::Intervalo,b::Intervalo)\n",
    "    Intervalo(min(redonDown(*,a.inf,b.inf),redonDown(*,a.inf,b.sup),redonDown(*,a.sup,b.inf),redonDown(*,a.sup,b.sup)),(max(redonUp(*,a.inf,b.inf),redonUp(*,a.inf,b.sup),redonUp(*,a.sup,b.inf),redonUp(*,a.sup,b.sup))))\n",
    "end\n",
    "\n",
    "#división\n",
    "# a' / b' = a' x [1 / b(s), 1 / b(i)], #si 0 ∉ b'\n",
    "function /(a::Intervalo,b::Intervalo)\n",
    "    Intervalo(min(redonDown(/,a.inf,b.inf),redonDown(/,a.inf,b.sup),redonDown(/,a.sup,b.inf),redonDown(/,a.sup,b.sup)),(max(redonUp(/,a.inf,b.inf),redonUp(/,a.inf,b.sup),redonUp(/,a.sup,b.inf),redonUp(/,a.sup,b.sup))))\n",
    "end\n",
    "\n",
    "#potencia\n",
    "function ^(v::Intervalo, w::Float64)\n",
    "    \n",
    "    if (v.sup > 0 && v.inf > 0)\n",
    "        return Intervalo(v.inf^w,v.sup^w)\n",
    "        \n",
    "        elseif (v.sup < 0 && v.inf < 0)\n",
    "        return Intervalo(v.sup^w,v.inf^w)\n",
    "            else    \n",
    "        return Intervalo(0,max(v.inf^2,v.sup^2))\n",
    "    end\n",
    "end \n",
    "\n",
    "#OPERACIONES ENTRE INTERVALOS CON UN ENTERO\n",
    "\n",
    "#calcula la suma entre un número entero y el intervalo\n",
    "+(a::Intervalo,z::Int64) = Intervalo(a.inf+z,a.sup+z)\n",
    "\n",
    "#calcula la resta entre un número entero y el intervalo\n",
    "-(a::Intervalo,z::Int64) = Intervalo(a.inf-z,a.sup-z)\n",
    "-(z::Int64,a::Intervalo) = Intervalo(z-a.inf,z-a.sup)\n",
    "\n",
    "#calcula la multiplicación entre un número entero y el intervalo\n",
    "*(a::Intervalo,z::Float64) = Intervalo(z*a.inf,z*a.sup)\n",
    "\n",
    "#calcula la división entre un número entero y el intervalo\n",
    "/(z::Int64,a::Intervalo) = Intervalo(z/a.inf,z/a.sup)\n",
    "/(a::Intervalo,z::Int64) = Intervalo(a.inf/z,a.sup/z)\n",
    "\n",
    "end"
   ]
  },
  {
   "cell_type": "markdown",
   "metadata": {},
   "source": [
    "####definimos las matrices A y B como un arreglo en terminos de los intervalos"
   ]
  },
  {
   "cell_type": "code",
   "execution_count": 2,
   "metadata": {
    "collapsed": false
   },
   "outputs": [
    {
     "data": {
      "text/plain": [
       "2-element Array{Intervalo,1}:\n",
       " (2, 1)\n",
       " (1, 2)"
      ]
     },
     "execution_count": 2,
     "metadata": {},
     "output_type": "execute_result"
    }
   ],
   "source": [
    "A=[Intervalo(1,2),Intervalo(2,1)]\n",
    "B=[Intervalo(2,1),Intervalo(1,2)]"
   ]
  },
  {
   "cell_type": "markdown",
   "metadata": {},
   "source": [
    "##Operaciones con matrices\n",
    "\n",
    "###Suma "
   ]
  },
  {
   "cell_type": "code",
   "execution_count": 3,
   "metadata": {
    "collapsed": false
   },
   "outputs": [
    {
     "data": {
      "text/plain": [
       "2-element Array{Intervalo,1}:\n",
       " (3e+00, 3e+00)\n",
       " (3e+00, 3e+00)"
      ]
     },
     "execution_count": 3,
     "metadata": {},
     "output_type": "execute_result"
    }
   ],
   "source": [
    "A+B"
   ]
  },
  {
   "cell_type": "code",
   "execution_count": 4,
   "metadata": {
    "collapsed": false
   },
   "outputs": [
    {
     "data": {
      "text/plain": [
       "2-element Array{Intervalo,1}:\n",
       " (3e+00, 3e+00)\n",
       " (3e+00, 3e+00)"
      ]
     },
     "execution_count": 4,
     "metadata": {},
     "output_type": "execute_result"
    }
   ],
   "source": [
    "B+A"
   ]
  },
  {
   "cell_type": "markdown",
   "metadata": {},
   "source": [
    "###Resta "
   ]
  },
  {
   "cell_type": "code",
   "execution_count": 5,
   "metadata": {
    "collapsed": false
   },
   "outputs": [
    {
     "data": {
      "text/plain": [
       "2-element Array{Intervalo,1}:\n",
       " (-0e+00, 0e+00)\n",
       " (-0e+00, 0e+00)"
      ]
     },
     "execution_count": 5,
     "metadata": {},
     "output_type": "execute_result"
    }
   ],
   "source": [
    "A-A"
   ]
  },
  {
   "cell_type": "markdown",
   "metadata": {},
   "source": [
    "###Multiplicación por un real"
   ]
  },
  {
   "cell_type": "code",
   "execution_count": 6,
   "metadata": {
    "collapsed": false
   },
   "outputs": [
    {
     "data": {
      "text/plain": [
       "Array{Intervalo,1}"
      ]
     },
     "execution_count": 6,
     "metadata": {},
     "output_type": "execute_result"
    }
   ],
   "source": [
    "typealias IntervaloMD{} Vector{Intervalo}"
   ]
  },
  {
   "cell_type": "code",
   "execution_count": 7,
   "metadata": {
    "collapsed": false
   },
   "outputs": [
    {
     "data": {
      "text/plain": [
       "Array{Intervalo,1}"
      ]
     },
     "execution_count": 7,
     "metadata": {},
     "output_type": "execute_result"
    }
   ],
   "source": [
    "IntervaloMD{}"
   ]
  },
  {
   "cell_type": "code",
   "execution_count": 8,
   "metadata": {
    "collapsed": false
   },
   "outputs": [
    {
     "data": {
      "text/plain": [
       "* (generic function with 118 methods)"
      ]
     },
     "execution_count": 8,
     "metadata": {},
     "output_type": "execute_result"
    }
   ],
   "source": [
    "function *(A::IntervaloMD,b::Real)\n",
    "    A[1]=A[1]*b;\n",
    "    A[2]=A[2]*b;\n",
    "    return A\n",
    "end"
   ]
  },
  {
   "cell_type": "code",
   "execution_count": 9,
   "metadata": {
    "collapsed": false
   },
   "outputs": [
    {
     "data": {
      "text/plain": [
       "2-element Array{Intervalo,1}:\n",
       " (3.0, 6.0)\n",
       " (6.0, 3.0)"
      ]
     },
     "execution_count": 9,
     "metadata": {},
     "output_type": "execute_result"
    }
   ],
   "source": [
    "A*3.0"
   ]
  },
  {
   "cell_type": "markdown",
   "metadata": {},
   "source": [
    "###Multiplicación entre matrices"
   ]
  },
  {
   "cell_type": "markdown",
   "metadata": {},
   "source": [
    "####Ejemplo [1]: "
   ]
  },
  {
   "cell_type": "code",
   "execution_count": 10,
   "metadata": {
    "collapsed": false
   },
   "outputs": [
    {
     "data": {
      "text/plain": [
       "1x2 Array{Intervalo,2}:\n",
       " (1, 2)  (3, 4)"
      ]
     },
     "execution_count": 10,
     "metadata": {},
     "output_type": "execute_result"
    }
   ],
   "source": [
    "M=[Intervalo(5,6) Intervalo(7,8); Intervalo(9,10) Intervalo(11,12)]\n",
    "N=[Intervalo(1,2) Intervalo(3,4)]"
   ]
  },
  {
   "cell_type": "code",
   "execution_count": 11,
   "metadata": {
    "collapsed": false
   },
   "outputs": [
    {
     "data": {
      "text/plain": [
       "1x2 Array{Intervalo,2}:\n",
       " (3.2e+01, 5.2e+01)  (4e+01, 6.4e+01)"
      ]
     },
     "execution_count": 11,
     "metadata": {},
     "output_type": "execute_result"
    }
   ],
   "source": [
    "N*M"
   ]
  },
  {
   "cell_type": "markdown",
   "metadata": {
    "collapsed": true
   },
   "source": [
    "###Transpuesta "
   ]
  },
  {
   "cell_type": "code",
   "execution_count": 12,
   "metadata": {
    "collapsed": false
   },
   "outputs": [
    {
     "data": {
      "text/plain": [
       "2-element Array{Intervalo,1}:\n",
       " (1, 2)\n",
       " (3, 4)"
      ]
     },
     "execution_count": 12,
     "metadata": {},
     "output_type": "execute_result"
    }
   ],
   "source": [
    "[Intervalo(1,2),Intervalo(3,4)]"
   ]
  },
  {
   "cell_type": "code",
   "execution_count": 13,
   "metadata": {
    "collapsed": false
   },
   "outputs": [
    {
     "data": {
      "text/plain": [
       "T (generic function with 1 method)"
      ]
     },
     "execution_count": 13,
     "metadata": {},
     "output_type": "execute_result"
    }
   ],
   "source": [
    "function T(a::Intervalo, b::Intervalo)\n",
    "    [(a.inf, b.inf),(a.sup, b.sup)]\n",
    "end"
   ]
  },
  {
   "cell_type": "code",
   "execution_count": 14,
   "metadata": {
    "collapsed": false
   },
   "outputs": [
    {
     "data": {
      "text/plain": [
       "2-element Array{(Int64,Int64),1}:\n",
       " (1,3)\n",
       " (2,4)"
      ]
     },
     "execution_count": 14,
     "metadata": {},
     "output_type": "execute_result"
    }
   ],
   "source": [
    "T(Intervalo(1,2),Intervalo(3,4))"
   ]
  },
  {
   "cell_type": "markdown",
   "metadata": {},
   "source": [
    "###Conjugada"
   ]
  },
  {
   "cell_type": "code",
   "execution_count": 15,
   "metadata": {
    "collapsed": false
   },
   "outputs": [
    {
     "data": {
      "text/plain": [
       "2-element Array{Intervalo,1}:\n",
       " (1, im)     \n",
       " (0 - 1im, 1)"
      ]
     },
     "execution_count": 15,
     "metadata": {},
     "output_type": "execute_result"
    }
   ],
   "source": [
    "[Intervalo(1,im),Intervalo(-im,1)]"
   ]
  },
  {
   "cell_type": "code",
   "execution_count": 16,
   "metadata": {
    "collapsed": false
   },
   "outputs": [
    {
     "data": {
      "text/plain": [
       "con (generic function with 1 method)"
      ]
     },
     "execution_count": 16,
     "metadata": {},
     "output_type": "execute_result"
    }
   ],
   "source": [
    "function con(a::Intervalo, b::Intervalo)\n",
    "    [(conj(a.inf),conj(a.sup)),(conj(b.inf),conj(b.sup))]\n",
    "end"
   ]
  },
  {
   "cell_type": "code",
   "execution_count": 17,
   "metadata": {
    "collapsed": false
   },
   "outputs": [
    {
     "data": {
      "text/plain": [
       "2-element Array{(Number,Number),1}:\n",
       " (1,0 - 1im)\n",
       " (0 + 1im,1)"
      ]
     },
     "execution_count": 17,
     "metadata": {},
     "output_type": "execute_result"
    }
   ],
   "source": [
    "con(Intervalo(1,im),Intervalo(-im,1))"
   ]
  },
  {
   "cell_type": "markdown",
   "metadata": {},
   "source": [
    "###Traza"
   ]
  },
  {
   "cell_type": "code",
   "execution_count": 18,
   "metadata": {
    "collapsed": false
   },
   "outputs": [
    {
     "data": {
      "text/plain": [
       "2-element Array{Intervalo,1}:\n",
       " (1, 2)\n",
       " (2, 1)"
      ]
     },
     "execution_count": 18,
     "metadata": {},
     "output_type": "execute_result"
    }
   ],
   "source": [
    "[Intervalo(1,2),Intervalo(2,1)]"
   ]
  },
  {
   "cell_type": "code",
   "execution_count": 19,
   "metadata": {
    "collapsed": false
   },
   "outputs": [
    {
     "data": {
      "text/plain": [
       "Tr (generic function with 1 method)"
      ]
     },
     "execution_count": 19,
     "metadata": {},
     "output_type": "execute_result"
    }
   ],
   "source": [
    "function Tr(a::Intervalo, b::Intervalo)\n",
    "    a.inf+b.sup\n",
    "end"
   ]
  },
  {
   "cell_type": "code",
   "execution_count": 20,
   "metadata": {
    "collapsed": false
   },
   "outputs": [
    {
     "data": {
      "text/plain": [
       "2"
      ]
     },
     "execution_count": 20,
     "metadata": {},
     "output_type": "execute_result"
    }
   ],
   "source": [
    "Tr(Intervalo(1,2),Intervalo(2,1))"
   ]
  },
  {
   "cell_type": "markdown",
   "metadata": {},
   "source": [
    "###Adjunta"
   ]
  },
  {
   "cell_type": "markdown",
   "metadata": {},
   "source": [
    "####1)"
   ]
  },
  {
   "cell_type": "code",
   "execution_count": 21,
   "metadata": {
    "collapsed": false
   },
   "outputs": [
    {
     "data": {
      "text/plain": [
       "2-element Array{Intervalo,1}:\n",
       " (1, 0 + 2im)\n",
       " (0 - 2im, 1)"
      ]
     },
     "execution_count": 21,
     "metadata": {},
     "output_type": "execute_result"
    }
   ],
   "source": [
    "[Intervalo(1,2*im),Intervalo(-2*im,1)]"
   ]
  },
  {
   "cell_type": "code",
   "execution_count": 22,
   "metadata": {
    "collapsed": false
   },
   "outputs": [
    {
     "data": {
      "text/plain": [
       "adj (generic function with 1 method)"
      ]
     },
     "execution_count": 22,
     "metadata": {},
     "output_type": "execute_result"
    }
   ],
   "source": [
    "function adj(a::Intervalo, b::Intervalo)\n",
    "    [(conj(a.inf),conj(b.inf)),(conj(a.sup),conj(b.sup))]\n",
    "end"
   ]
  },
  {
   "cell_type": "code",
   "execution_count": 23,
   "metadata": {
    "collapsed": false
   },
   "outputs": [
    {
     "data": {
      "text/plain": [
       "2-element Array{(Number,Number),1}:\n",
       " (1,0 + 2im)\n",
       " (0 - 2im,1)"
      ]
     },
     "execution_count": 23,
     "metadata": {},
     "output_type": "execute_result"
    }
   ],
   "source": [
    "adj(Intervalo(1,2*im),Intervalo(-2*im,1))"
   ]
  },
  {
   "cell_type": "markdown",
   "metadata": {},
   "source": [
    "####2)"
   ]
  },
  {
   "cell_type": "code",
   "execution_count": 24,
   "metadata": {
    "collapsed": false
   },
   "outputs": [
    {
     "data": {
      "text/plain": [
       "2-element Array{Intervalo,1}:\n",
       " (1, 2) \n",
       " (-2, 1)"
      ]
     },
     "execution_count": 24,
     "metadata": {},
     "output_type": "execute_result"
    }
   ],
   "source": [
    "[Intervalo(1,2),Intervalo(-2,1)]"
   ]
  },
  {
   "cell_type": "code",
   "execution_count": 25,
   "metadata": {
    "collapsed": false
   },
   "outputs": [
    {
     "data": {
      "text/plain": [
       "2-element Array{(Int64,Int64),1}:\n",
       " (1,-2)\n",
       " (2,1) "
      ]
     },
     "execution_count": 25,
     "metadata": {},
     "output_type": "execute_result"
    }
   ],
   "source": [
    "adj(Intervalo(1,2),Intervalo(-2,1))"
   ]
  },
  {
   "cell_type": "markdown",
   "metadata": {},
   "source": [
    "#Ejemplo de Aplicación"
   ]
  },
  {
   "cell_type": "markdown",
   "metadata": {},
   "source": [
    "##Operador densidad"
   ]
  },
  {
   "cell_type": "raw",
   "metadata": {},
   "source": [
    "Una matriz se puede considerar como un operador densidad (rho) siempre que cumpla las siguientes propiedades:\n",
    "\n",
    "i- sea hermitica, adj(rho) = (rho).\n",
    "\n",
    "ii- posea traza unitaria, Tr(rho) = 1.\n",
    "\n",
    "iii- sea positiva definida, es decir, sus valores propios son no negativos.\n",
    "\n",
    "iv- Si además representa un estado puro debe ser idempotente, es decir, (rho)²=rho [2]. "
   ]
  },
  {
   "cell_type": "markdown",
   "metadata": {},
   "source": [
    "###Ejercicio:\n",
    "####Demuestre si las siguientes matrices pueden considerarse como matrices (operadores) densidad y si describen estados puros [2]."
   ]
  },
  {
   "cell_type": "code",
   "execution_count": 26,
   "metadata": {
    "collapsed": false
   },
   "outputs": [
    {
     "data": {
      "text/plain": [
       "2-element Array{Intervalo,1}:\n",
       " (0.5, 0.0 + 0.5im) \n",
       " (-0.0 - 0.5im, 0.5)"
      ]
     },
     "execution_count": 26,
     "metadata": {},
     "output_type": "execute_result"
    }
   ],
   "source": [
    "A=[Intervalo(1/2,1/2*im),Intervalo(-1/2*im,1/2)]"
   ]
  },
  {
   "cell_type": "markdown",
   "metadata": {},
   "source": [
    "###Solución\n",
    "####i-"
   ]
  },
  {
   "cell_type": "code",
   "execution_count": 27,
   "metadata": {
    "collapsed": false
   },
   "outputs": [
    {
     "data": {
      "text/plain": [
       "2-element Array{(Number,Number),1}:\n",
       " (0.5,-0.0 + 0.5im)\n",
       " (0.0 - 0.5im,0.5) "
      ]
     },
     "execution_count": 27,
     "metadata": {},
     "output_type": "execute_result"
    }
   ],
   "source": [
    "adj(Intervalo(1/2,1/2*im),Intervalo(-1/2*im,1/2))"
   ]
  },
  {
   "cell_type": "markdown",
   "metadata": {},
   "source": [
    "####Vemos que A= adj(A), de modo que A es hermítica."
   ]
  },
  {
   "cell_type": "markdown",
   "metadata": {},
   "source": [
    "####ii-"
   ]
  },
  {
   "cell_type": "code",
   "execution_count": 28,
   "metadata": {
    "collapsed": false
   },
   "outputs": [
    {
     "data": {
      "text/plain": [
       "1.0"
      ]
     },
     "execution_count": 28,
     "metadata": {},
     "output_type": "execute_result"
    }
   ],
   "source": [
    "Tr(Intervalo(1/2,2*im),Intervalo(-2*im,1/2))"
   ]
  },
  {
   "cell_type": "markdown",
   "metadata": {},
   "source": [
    "####La matriz A cumple que Tr(A)=1"
   ]
  },
  {
   "cell_type": "markdown",
   "metadata": {},
   "source": [
    "####iii-"
   ]
  },
  {
   "cell_type": "code",
   "execution_count": 29,
   "metadata": {
    "collapsed": false
   },
   "outputs": [
    {
     "data": {
      "text/plain": [
       "2x2 Array{Complex{Float64},2}:\n",
       "  0.5+0.0im  0.0+0.5im\n",
       " -0.0-0.5im  0.5+0.0im"
      ]
     },
     "execution_count": 29,
     "metadata": {},
     "output_type": "execute_result"
    }
   ],
   "source": [
    "A=[1/2 1/2*im; -1/2*im 1/2]"
   ]
  },
  {
   "cell_type": "code",
   "execution_count": 30,
   "metadata": {
    "collapsed": false
   },
   "outputs": [
    {
     "data": {
      "text/plain": [
       "2-element Array{Float64,1}:\n",
       " 0.0\n",
       " 1.0"
      ]
     },
     "execution_count": 30,
     "metadata": {},
     "output_type": "execute_result"
    }
   ],
   "source": [
    "eigvals(A) #calcula los eigenvalores de C"
   ]
  },
  {
   "cell_type": "markdown",
   "metadata": {},
   "source": [
    "####La matriz es positiva definida puesto que sus valores propios son no negativos."
   ]
  },
  {
   "cell_type": "markdown",
   "metadata": {},
   "source": [
    "####iv-"
   ]
  },
  {
   "cell_type": "code",
   "execution_count": 31,
   "metadata": {
    "collapsed": false
   },
   "outputs": [
    {
     "data": {
      "text/plain": [
       "2x2 Array{Complex{Float64},2}:\n",
       " 0.5+0.0im  0.0+0.5im\n",
       " 0.0-0.5im  0.5+0.0im"
      ]
     },
     "execution_count": 31,
     "metadata": {},
     "output_type": "execute_result"
    }
   ],
   "source": [
    "A^2"
   ]
  },
  {
   "cell_type": "markdown",
   "metadata": {},
   "source": [
    "####La matriz A cumple la propiedad de idempotencia, por lo que dicha matriz no solo es un operador de densidad sino que corresponde también a un estado puro."
   ]
  },
  {
   "cell_type": "markdown",
   "metadata": {},
   "source": [
    "####Ejemplo 2: "
   ]
  },
  {
   "cell_type": "code",
   "execution_count": 32,
   "metadata": {
    "collapsed": false
   },
   "outputs": [
    {
     "data": {
      "text/plain": [
       "2-element Array{Intervalo,1}:\n",
       " (0.3, 0.0 + 0.5im) \n",
       " (-0.0 - 0.5im, 0.7)"
      ]
     },
     "execution_count": 32,
     "metadata": {},
     "output_type": "execute_result"
    }
   ],
   "source": [
    "B=[Intervalo(0.3,1/2*im),Intervalo(-1/2*im,0.7)]"
   ]
  },
  {
   "cell_type": "markdown",
   "metadata": {},
   "source": [
    "### Solución"
   ]
  },
  {
   "cell_type": "markdown",
   "metadata": {},
   "source": [
    "####i-"
   ]
  },
  {
   "cell_type": "code",
   "execution_count": 33,
   "metadata": {
    "collapsed": false
   },
   "outputs": [
    {
     "data": {
      "text/plain": [
       "2-element Array{(Number,Number),1}:\n",
       " (0.3,-0.0 + 0.5im)\n",
       " (0.0 - 0.5im,0.7) "
      ]
     },
     "execution_count": 33,
     "metadata": {},
     "output_type": "execute_result"
    }
   ],
   "source": [
    "adj(Intervalo(0.3,1/2*im),Intervalo(-1/2*im,0.7))"
   ]
  },
  {
   "cell_type": "raw",
   "metadata": {},
   "source": [
    "Vemos que B = Adj(B)"
   ]
  },
  {
   "cell_type": "markdown",
   "metadata": {},
   "source": [
    "####ii-"
   ]
  },
  {
   "cell_type": "code",
   "execution_count": 34,
   "metadata": {
    "collapsed": false
   },
   "outputs": [
    {
     "data": {
      "text/plain": [
       "1.0"
      ]
     },
     "execution_count": 34,
     "metadata": {},
     "output_type": "execute_result"
    }
   ],
   "source": [
    "Tr(Intervalo(0.3,1/2*im),Intervalo(-1/2*im,0.7))"
   ]
  },
  {
   "cell_type": "raw",
   "metadata": {},
   "source": [
    "La traza de B es uno"
   ]
  },
  {
   "cell_type": "markdown",
   "metadata": {},
   "source": [
    "####iii-"
   ]
  },
  {
   "cell_type": "code",
   "execution_count": 36,
   "metadata": {
    "collapsed": false
   },
   "outputs": [
    {
     "data": {
      "text/plain": [
       "2x2 Array{Complex{Float64},2}:\n",
       "  0.3+0.0im  0.0+0.5im\n",
       " -0.0-0.5im  0.7+0.0im"
      ]
     },
     "execution_count": 36,
     "metadata": {},
     "output_type": "execute_result"
    }
   ],
   "source": [
    "B=[0.3 1/2*im; -1/2*im 0.7]"
   ]
  },
  {
   "cell_type": "code",
   "execution_count": 37,
   "metadata": {
    "collapsed": false
   },
   "outputs": [
    {
     "data": {
      "text/plain": [
       "2-element Array{Float64,1}:\n",
       " -0.0385165\n",
       "  1.03852  "
      ]
     },
     "execution_count": 37,
     "metadata": {},
     "output_type": "execute_result"
    }
   ],
   "source": [
    "eigvals(B)"
   ]
  },
  {
   "cell_type": "raw",
   "metadata": {},
   "source": [
    "La matriz B no es positiva definida ya que al menos uno de sus valores propios es negativo. Por lo tanto, B no es una matriz densidad."
   ]
  },
  {
   "cell_type": "markdown",
   "metadata": {},
   "source": [
    "####iv-"
   ]
  },
  {
   "cell_type": "code",
   "execution_count": 38,
   "metadata": {
    "collapsed": false
   },
   "outputs": [
    {
     "data": {
      "text/plain": [
       "2x2 Array{Complex{Float64},2}:\n",
       " 0.34+0.0im   0.0+0.5im\n",
       "  0.0-0.5im  0.74+0.0im"
      ]
     },
     "execution_count": 38,
     "metadata": {},
     "output_type": "execute_result"
    }
   ],
   "source": [
    "B^2"
   ]
  },
  {
   "cell_type": "raw",
   "metadata": {},
   "source": [
    "B² es diferente de B, por lo que B no representa un estado puro."
   ]
  },
  {
   "cell_type": "markdown",
   "metadata": {},
   "source": [
    "###Referencias"
   ]
  },
  {
   "cell_type": "markdown",
   "metadata": {},
   "source": [
    "####[1] R. E. Moore,  R. B. Kearfott, M. J. Cloud, \"Introduction to Interval Analysis\",  SIAM editorial, Philadelphia, Cap.7, Secc.7.2, pág. 86, 2009.\n",
    "\n",
    "####[2] L. de la Peña, M. Villavicencio, \"Problemas y ejercicios de Mecánica cuántica\", Fondo de cultura económica, México, Secc. XXI, pág. 643, 2003.  "
   ]
  }
 ],
 "metadata": {
  "kernelspec": {
   "display_name": "Julia 0.3.5",
   "language": "julia",
   "name": "julia 0.3"
  },
  "language_info": {
   "name": "julia",
   "version": "0.3.5"
  }
 },
 "nbformat": 4,
 "nbformat_minor": 0
}
