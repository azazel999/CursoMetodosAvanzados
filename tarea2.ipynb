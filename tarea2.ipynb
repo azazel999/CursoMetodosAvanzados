{
 "metadata": {
  "kernelspec": {
   "codemirror_mode": "julia",
   "display_name": "Julia",
   "language": "julia",
   "name": "julia"
  },
  "language": "Julia",
  "name": "",
  "signature": "sha256:809f477aacc872db18cb2653413fba6ab098557802347f63326b1fb42e796ace"
 },
 "nbformat": 3,
 "nbformat_minor": 0,
 "worksheets": [
  {
   "cells": [
    {
     "cell_type": "heading",
     "level": 1,
     "metadata": {},
     "source": [
      "3. REPRESENTACI\u00d3N DE N\u00daMEROS EN LA COMPUTADORA"
     ]
    },
    {
     "cell_type": "heading",
     "level": 2,
     "metadata": {},
     "source": [
      "3.1 N\u00daMEROS ENTEROS"
     ]
    },
    {
     "cell_type": "code",
     "collapsed": false,
     "input": [
      " n=3*10^5+1*10^4+4*10^3+1*10^2+5*10+9 "
     ],
     "language": "python",
     "metadata": {},
     "outputs": [
      {
       "metadata": {},
       "output_type": "pyout",
       "prompt_number": 1,
       "text": [
        "314159"
       ]
      }
     ],
     "prompt_number": 1
    },
    {
     "cell_type": "code",
     "collapsed": false,
     "input": [
      "n=\"314159\""
     ],
     "language": "python",
     "metadata": {},
     "outputs": [
      {
       "metadata": {},
       "output_type": "pyout",
       "prompt_number": 2,
       "text": [
        "\"314159\""
       ]
      }
     ],
     "prompt_number": 2
    },
    {
     "cell_type": "code",
     "collapsed": false,
     "input": [
      "length(ans)"
     ],
     "language": "python",
     "metadata": {},
     "outputs": [
      {
       "metadata": {},
       "output_type": "pyout",
       "prompt_number": 3,
       "text": [
        "6"
       ]
      }
     ],
     "prompt_number": 3
    },
    {
     "cell_type": "code",
     "collapsed": false,
     "input": [
      "function  cad(x::ASCIIString)\n",
      "        for i in 1:length(x)\n",
      "        println(int(x[i])-48)\n",
      "        end\n",
      "end"
     ],
     "language": "python",
     "metadata": {},
     "outputs": [
      {
       "metadata": {},
       "output_type": "pyout",
       "prompt_number": 4,
       "text": [
        "cad (generic function with 1 method)"
       ]
      }
     ],
     "prompt_number": 4
    },
    {
     "cell_type": "code",
     "collapsed": false,
     "input": [
      "typeof(cad(\"10\"))"
     ],
     "language": "python",
     "metadata": {},
     "outputs": [
      {
       "output_type": "stream",
       "stream": "stdout",
       "text": [
        "1\n",
        "0\n"
       ]
      },
      {
       "metadata": {},
       "output_type": "pyout",
       "prompt_number": 5,
       "text": [
        "Nothing (constructor with 1 method)"
       ]
      }
     ],
     "prompt_number": 5
    },
    {
     "cell_type": "code",
     "collapsed": false,
     "input": [
      "#function binarioadecimal(x::ASCIIString)\n",
      "#    suma=0\n",
      "#        for i  in 1:length(x)\n",
      "#        suma+= (2^(length(x)-i))*(int(x[i])-48)\n",
      "#        end\n",
      "#    suma\n",
      "#end"
     ],
     "language": "python",
     "metadata": {},
     "outputs": [],
     "prompt_number": 14
    },
    {
     "cell_type": "code",
     "collapsed": false,
     "input": [
      "#x=\"110010\"\n",
      "#binarioadecimal(x)"
     ],
     "language": "python",
     "metadata": {},
     "outputs": [],
     "prompt_number": 17
    },
    {
     "cell_type": "code",
     "collapsed": false,
     "input": [
      "function binarioadecimal(x::ASCIIString) #este c\u00f3digo convierte un n\u00famero binario en decimal y te guarda el resultado en\n",
      "                                         #una cadena\n",
      "    suma=0\n",
      "        for i  in 1:length(x)\n",
      "        suma+= (2^(length(x)-i))*(int(x[i])-48)\n",
      "        end\n",
      "suma=\"$suma\"\n",
      "    end"
     ],
     "language": "python",
     "metadata": {},
     "outputs": [
      {
       "metadata": {},
       "output_type": "pyout",
       "prompt_number": 6,
       "text": [
        "binarioadecimal (generic function with 1 method)"
       ]
      }
     ],
     "prompt_number": 6
    },
    {
     "cell_type": "code",
     "collapsed": false,
     "input": [
      "x=\"110010\" #se le asigna un valor a la variable\n",
      "binarioadecimal(x) # llamas a la funcion con la varible asiganada y a continuaci\u00f3n te muestra el resultado \n",
      "                   #guardandolo en una cadena"
     ],
     "language": "python",
     "metadata": {},
     "outputs": [
      {
       "metadata": {},
       "output_type": "pyout",
       "prompt_number": 10,
       "text": [
        "\"50\""
       ]
      }
     ],
     "prompt_number": 10
    },
    {
     "cell_type": "code",
     "collapsed": false,
     "input": [
      "typeof(binarioadecimal(\"50\")) #comprueba que esta guardado en una cadena"
     ],
     "language": "python",
     "metadata": {},
     "outputs": [
      {
       "metadata": {},
       "output_type": "pyout",
       "prompt_number": 11,
       "text": [
        "ASCIIString (constructor with 2 methods)"
       ]
      }
     ],
     "prompt_number": 11
    },
    {
     "cell_type": "code",
     "collapsed": true,
     "input": [
      "function decimalabinario(n)\n",
      "  a=Int64[];\n",
      "  b=Int64[];  \n",
      "    \n",
      "while(floor(n/2)>=1)\n",
      "    #=println(n%2)=#\n",
      "    push!(a,n%2)\n",
      "    n=div(n,2)\n",
      "end\n",
      "\n",
      "#=println(floor(n))=#\n",
      "push!(a,floor(n));\n",
      "\n",
      "#=Hasta aqu\u00ed te deja el n\u00famero binario pero al rev\u00e9s, el siguiente for es para voltearlo=#\n",
      "\n",
      "for i in 0:length(a)-1\n",
      "    push!(b,a[length(a)-i])\n",
      "  end\n",
      "b=join(transpose(b)) #=para ponerlo en forma de string rengl\u00f3n=#\n",
      "\n",
      "end"
     ],
     "language": "python",
     "metadata": {},
     "outputs": [
      {
       "metadata": {},
       "output_type": "pyout",
       "prompt_number": 12,
       "text": [
        "decimalabinario (generic function with 1 method)"
       ]
      }
     ],
     "prompt_number": 12
    },
    {
     "cell_type": "code",
     "collapsed": false,
     "input": [
      "decimalabinario(50)#llamas a la funcion y asignas n=50, a continuacion te muestra el 50 en binario "
     ],
     "language": "python",
     "metadata": {},
     "outputs": [
      {
       "metadata": {},
       "output_type": "pyout",
       "prompt_number": 13,
       "text": [
        "\"110010\""
       ]
      }
     ],
     "prompt_number": 13
    },
    {
     "cell_type": "code",
     "collapsed": false,
     "input": [
      "typeof(decimalabinario(50))#corroboras que el resultado esta guardado en una cadena "
     ],
     "language": "python",
     "metadata": {},
     "outputs": [
      {
       "metadata": {},
       "output_type": "pyout",
       "prompt_number": 14,
       "text": [
        "ASCIIString (constructor with 2 methods)"
       ]
      }
     ],
     "prompt_number": 14
    },
    {
     "cell_type": "code",
     "collapsed": false,
     "input": [
      "bits(50) #funcion estandar de julia para convertir de decimal a binario"
     ],
     "language": "python",
     "metadata": {},
     "outputs": [
      {
       "metadata": {},
       "output_type": "pyout",
       "prompt_number": 15,
       "text": [
        "\"0000000000000000000000000000000000000000000000000000000000110010\""
       ]
      }
     ],
     "prompt_number": 15
    },
    {
     "cell_type": "code",
     "collapsed": false,
     "input": [
      "bits(-50)"
     ],
     "language": "python",
     "metadata": {},
     "outputs": [
      {
       "metadata": {},
       "output_type": "pyout",
       "prompt_number": 16,
       "text": [
        "\"1111111111111111111111111111111111111111111111111111111111001110\""
       ]
      }
     ],
     "prompt_number": 16
    },
    {
     "cell_type": "heading",
     "level": 1,
     "metadata": {},
     "source": [
      "3.2 N\u00fameros Reales"
     ]
    },
    {
     "cell_type": "code",
     "collapsed": false,
     "input": [
      "p=3*10^1+1+4.0*10.0^(-1)+1.0*10.0^(-2)+5.0*10.0^(-3)+9.0*10.0^(-4) #escribimos el numero 31.4159 en potencias de 10"
     ],
     "language": "python",
     "metadata": {},
     "outputs": [
      {
       "metadata": {},
       "output_type": "pyout",
       "prompt_number": 17,
       "text": [
        "31.4159"
       ]
      }
     ],
     "prompt_number": 17
    },
    {
     "cell_type": "code",
     "collapsed": false,
     "input": [
      "a=101.0101 #numero binario"
     ],
     "language": "python",
     "metadata": {},
     "outputs": [
      {
       "metadata": {},
       "output_type": "pyout",
       "prompt_number": 18,
       "text": [
        "101.0101"
       ]
      }
     ],
     "prompt_number": 18
    },
    {
     "cell_type": "code",
     "collapsed": false,
     "input": [
      "1*2^2+0*2^1+1*2^0 #calcula la parte entera del binario decimal, el proceso es escoges: 101 -> 1*2\u00b2 + 0*2\u00b9 + 1*2\u2070 = 5"
     ],
     "language": "python",
     "metadata": {},
     "outputs": [
      {
       "metadata": {},
       "output_type": "pyout",
       "prompt_number": 19,
       "text": [
        "5"
       ]
      }
     ],
     "prompt_number": 19
    },
    {
     "cell_type": "code",
     "collapsed": false,
     "input": [
      "0.0*2.0^(-1)+1.0*2.0^(-2)+0.0*2.0^(-3)+1.0*2.0^(-4) #calcula la parte decimal del binario decimal .0101 -> \n",
      "                                                    #  0*2\u207b\u00b9 + 1*2\u207b\u00b2 + 0*2\u207b\u00b3 + 1*2\u207b\u2074= 0.3125 "
     ],
     "language": "python",
     "metadata": {},
     "outputs": [
      {
       "metadata": {},
       "output_type": "pyout",
       "prompt_number": 20,
       "text": [
        "0.3125"
       ]
      }
     ],
     "prompt_number": 20
    },
    {
     "cell_type": "code",
     "collapsed": false,
     "input": [
      "a=5.3125 # \"a\" en decimal"
     ],
     "language": "python",
     "metadata": {},
     "outputs": [
      {
       "metadata": {},
       "output_type": "pyout",
       "prompt_number": 21,
       "text": [
        "5.3125"
       ]
      }
     ],
     "prompt_number": 21
    },
    {
     "cell_type": "code",
     "collapsed": false,
     "input": [
      "function binarioadecimal(x::ASCIIString) #este c\u00f3digo convierte un n\u00famero binario en decimal y te guarda el resultado en\n",
      "                                         #una cadena\n",
      "    suma=0\n",
      "        for i  in 1:length(x)\n",
      "        suma+= (2^(length(x)-i))*(int(x[i])-48)\n",
      "        end\n",
      "suma=\"$suma\"\n",
      "    end"
     ],
     "language": "python",
     "metadata": {},
     "outputs": [
      {
       "metadata": {},
       "output_type": "pyout",
       "prompt_number": 22,
       "text": [
        "binarioadecimal (generic function with 1 method)"
       ]
      }
     ],
     "prompt_number": 22
    },
    {
     "cell_type": "code",
     "collapsed": false,
     "input": [
      "x=\"101\" #se le asigna un valor a la variable\n",
      "binarioadecimal(x) # llamas a la funcion con la varible asiganada y a continuaci\u00f3n te muestra el resultado \n",
      "                   #guardandolo en una cadena"
     ],
     "language": "python",
     "metadata": {},
     "outputs": [
      {
       "metadata": {},
       "output_type": "pyout",
       "prompt_number": 24,
       "text": [
        "\"5\""
       ]
      }
     ],
     "prompt_number": 24
    },
    {
     "cell_type": "code",
     "collapsed": false,
     "input": [
      "function binarioconpuntosadecimal(x::ASCIIString)\n",
      "        pospun=search(x,'.') \n",
      "\n",
      "suma=0.0;\n",
      "y=x[1:pospun-1];\n",
      "z=x[pospun+1:end];\n",
      "w=Int64[]\n",
      "\n",
      "                #=Dos ciclos for para poner hacer el mismo binario pero en un arreglo sin el punto decimal=#\n",
      "                for i=1:pospun-1\n",
      "                    push!(w,int(y[i])-48)\n",
      "                end\n",
      "\n",
      "                for i=1:length(x)-pospun\n",
      "                    push!(w,int(z[i])-48)\n",
      "                end\n",
      "\n",
      "\n",
      "\n",
      "        for i  in 1: length(w)\n",
      "        suma+= (2.0^(pospun-i-1))*(int(w[i]))\n",
      "        end\n",
      "\n",
      "        #=for i  in 1:length(z)  \n",
      "        suma+= (2.0^(-i))*(int(z[i]))\n",
      "        end=#\n",
      "\n",
      "#suma=\"$suma\" #=DESCOMENTAR ESTE RENG\u00d3N Y COMENTAR EL QUE SIGUE SI LO QUE SE QUIERE DE SALIDA ES UNA CADENA Y NO UN N\u00daMERO=# \n",
      "suma\n",
      "end"
     ],
     "language": "python",
     "metadata": {},
     "outputs": [
      {
       "metadata": {},
       "output_type": "pyout",
       "prompt_number": 25,
       "text": [
        "binarioconpuntosadecimal (generic function with 1 method)"
       ]
      }
     ],
     "prompt_number": 25
    },
    {
     "cell_type": "code",
     "collapsed": false,
     "input": [
      "binarioconpuntosadecimal(\"101.0101\")"
     ],
     "language": "python",
     "metadata": {},
     "outputs": [
      {
       "metadata": {},
       "output_type": "pyout",
       "prompt_number": 28,
       "text": [
        "5.3125"
       ]
      }
     ],
     "prompt_number": 28
    },
    {
     "cell_type": "code",
     "collapsed": false,
     "input": [
      "a=\"10101.01\" #codigo que te dice cual es la posicion del punto en el numero binario ingresado\n",
      "function pos_punto(a)\n",
      "    for i=1:length(a)\n",
      "#        if a[i]==\".\"\n",
      "#        println(i)\n",
      "#        end\n",
      "        a[i]== '.' && return i\n",
      "    end\n",
      "    return 0\n",
      "end\n"
     ],
     "language": "python",
     "metadata": {},
     "outputs": [
      {
       "metadata": {},
       "output_type": "pyout",
       "prompt_number": 29,
       "text": [
        "pos_punto (generic function with 1 method)"
       ]
      }
     ],
     "prompt_number": 29
    },
    {
     "cell_type": "code",
     "collapsed": false,
     "input": [
      "pos_punto(a)"
     ],
     "language": "python",
     "metadata": {},
     "outputs": [
      {
       "metadata": {},
       "output_type": "pyout",
       "prompt_number": 30,
       "text": [
        "6"
       ]
      }
     ],
     "prompt_number": 30
    },
    {
     "cell_type": "code",
     "collapsed": false,
     "input": [
      "function decimal_con_punto_a_binario(x::Float64) #calcula un decimal con punto a su correspondiente valor en binario\n",
      "\n",
      "a=Int64[]\n",
      "parte_entera=floor(x);\n",
      "z=x-int(floor(x)); #=la parte decimal=#\n",
      "     if z==0\n",
      "\n",
      "    else\n",
      "y=2.0*z\n",
      "    while(y != 1)\n",
      "                    if y< 1\n",
      "                    y=2.0*y\n",
      "                    push!(a,0)\n",
      "\n",
      "\n",
      "                    else y>1\n",
      "                    y=2.0*(y-1)\n",
      "                    push!(a,1)\n",
      "                    end\n",
      "    end\n",
      "                    push!(a,1)\n",
      "\n",
      "        string(decimalabinario(parte_entera),\".\",join(transpose(a))) #entrega el resultado en una cadena\n",
      "\n",
      "end\n",
      "\n",
      "end\n"
     ],
     "language": "python",
     "metadata": {},
     "outputs": [
      {
       "metadata": {},
       "output_type": "pyout",
       "prompt_number": 31,
       "text": [
        "decimal_con_punto_a_binario (generic function with 1 method)"
       ]
      }
     ],
     "prompt_number": 31
    },
    {
     "cell_type": "code",
     "collapsed": false,
     "input": [
      "decimal_con_punto_a_binario(3.27)"
     ],
     "language": "python",
     "metadata": {},
     "outputs": [
      {
       "metadata": {},
       "output_type": "pyout",
       "prompt_number": 32,
       "text": [
        "\"11.010001010001111010111000010100011110101110000101001\""
       ]
      }
     ],
     "prompt_number": 32
    },
    {
     "cell_type": "code",
     "collapsed": false,
     "input": [
      "function decimal_con_punto_a_binario_2(x::Int64,z::Float64) #=En este se deben especificar por separado lo que va a la derecha y a la izquierda del punto decimal=#\n",
      "a=Int64[]\n",
      " if z==0   #=println(\"mejor usa el programa decimalabinario, porfa\")=#\n",
      "        decimalabinario(x)\n",
      "                                                          \n",
      " else\n",
      "y=2.0*z\n",
      "    while(y != 1)\n",
      "                    if y< 1\n",
      "                    y=2.0*y\n",
      "                    push!(a,0)\n",
      "\n",
      "\n",
      "                    else y>1\n",
      "                    y=2.0*(y-1)\n",
      "                    push!(a,1)\n",
      "                    end\n",
      "    end\n",
      "                    push!(a,1)\n",
      "\n",
      "        string(decimalabinario(x),\".\",join(transpose(a))) #da el resultado en una cadena inviertiendolo para que se lea mejor\n",
      "\n",
      " end\n",
      "end"
     ],
     "language": "python",
     "metadata": {},
     "outputs": [
      {
       "metadata": {},
       "output_type": "pyout",
       "prompt_number": 33,
       "text": [
        "decimal_con_punto_a_binario_2 (generic function with 1 method)"
       ]
      }
     ],
     "prompt_number": 33
    },
    {
     "cell_type": "code",
     "collapsed": false,
     "input": [
      "decimal_con_punto_a_binario(1.990)"
     ],
     "language": "python",
     "metadata": {},
     "outputs": [
      {
       "metadata": {},
       "output_type": "pyout",
       "prompt_number": 34,
       "text": [
        "\"1.1111110101110000101000111101011100001010001111010111\""
       ]
      }
     ],
     "prompt_number": 34
    },
    {
     "cell_type": "code",
     "collapsed": false,
     "input": [
      "decimal_con_punto_a_binario_2(1.990)"
     ],
     "language": "python",
     "metadata": {},
     "outputs": [
      {
       "ename": "LoadError",
       "evalue": "`decimal_con_punto_a_binario_2` has no method matching decimal_con_punto_a_binario_2(::Float64)\nwhile loading In[35], in expression starting on line 1",
       "output_type": "pyerr",
       "traceback": [
        "`decimal_con_punto_a_binario_2` has no method matching decimal_con_punto_a_binario_2(::Float64)\nwhile loading In[35], in expression starting on line 1",
        ""
       ]
      }
     ],
     "prompt_number": 35
    },
    {
     "cell_type": "code",
     "collapsed": false,
     "input": [
      "bits (1)"
     ],
     "language": "python",
     "metadata": {},
     "outputs": [
      {
       "metadata": {},
       "output_type": "pyout",
       "prompt_number": 36,
       "text": [
        "\"0000000000000000000000000000000000000000000000000000000000000001\""
       ]
      }
     ],
     "prompt_number": 36
    },
    {
     "cell_type": "code",
     "collapsed": false,
     "input": [
      "typeof(ans)"
     ],
     "language": "python",
     "metadata": {},
     "outputs": [
      {
       "metadata": {},
       "output_type": "pyout",
       "prompt_number": 37,
       "text": [
        "ASCIIString (constructor with 2 methods)"
       ]
      }
     ],
     "prompt_number": 37
    },
    {
     "cell_type": "code",
     "collapsed": false,
     "input": [
      "bits(1/2)"
     ],
     "language": "python",
     "metadata": {},
     "outputs": [
      {
       "metadata": {},
       "output_type": "pyout",
       "prompt_number": 38,
       "text": [
        "\"0011111111100000000000000000000000000000000000000000000000000000\""
       ]
      }
     ],
     "prompt_number": 38
    },
    {
     "cell_type": "code",
     "collapsed": false,
     "input": [
      "typeof(ans)"
     ],
     "language": "python",
     "metadata": {},
     "outputs": [
      {
       "metadata": {},
       "output_type": "pyout",
       "prompt_number": 39,
       "text": [
        "ASCIIString (constructor with 2 methods)"
       ]
      }
     ],
     "prompt_number": 39
    },
    {
     "cell_type": "code",
     "collapsed": false,
     "input": [
      "bits(0.1)"
     ],
     "language": "python",
     "metadata": {},
     "outputs": [
      {
       "metadata": {},
       "output_type": "pyout",
       "prompt_number": 40,
       "text": [
        "\"0011111110111001100110011001100110011001100110011001100110011010\""
       ]
      }
     ],
     "prompt_number": 40
    },
    {
     "cell_type": "code",
     "collapsed": false,
     "input": [
      "typeof(ans)"
     ],
     "language": "python",
     "metadata": {},
     "outputs": [
      {
       "metadata": {},
       "output_type": "pyout",
       "prompt_number": 41,
       "text": [
        "ASCIIString (constructor with 2 methods)"
       ]
      }
     ],
     "prompt_number": 41
    },
    {
     "cell_type": "code",
     "collapsed": false,
     "input": [],
     "language": "python",
     "metadata": {},
     "outputs": []
    }
   ],
   "metadata": {}
  }
 ]
}