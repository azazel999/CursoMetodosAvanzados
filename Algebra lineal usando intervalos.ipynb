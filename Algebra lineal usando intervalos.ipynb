{
 "cells": [
  {
   "cell_type": "markdown",
   "metadata": {
    "slideshow": {
     "slide_type": "slide"
    }
   },
   "source": [
    "#Álgebra lineal usando intervalos"
   ]
  },
  {
   "cell_type": "markdown",
   "metadata": {},
   "source": [
    "###Autor: Leonardo Andrés Castro Enríquez"
   ]
  },
  {
   "cell_type": "code",
   "execution_count": 1,
   "metadata": {
    "collapsed": true,
    "slideshow": {
     "slide_type": "slide"
    }
   },
   "outputs": [],
   "source": [
    "using Intervalos"
   ]
  },
  {
   "cell_type": "raw",
   "metadata": {},
   "source": [
    "#El módulo Intervalos contiene todas las operaciones y funciones necesarias del programa\n",
    "\n",
    "module Intervalos\n",
    "\n",
    "export Intervalo \n",
    "\n",
    "import Base.in\n",
    "import Base.==\n",
    "import Base.^\n",
    "\n",
    "export Intervalo, in, == , redonUP , redonDOWN, ^, Tr, T, Det, adj, inv\n",
    "\n",
    "#DEFINIMOS EL TIPO INTERVALO \n",
    "type Intervalo\n",
    "    inf::Number\n",
    "    sup::Number\n",
    "function Intervalo(a, b)\n",
    "    a, b = a > b ? (b,a) : (a,b) #función que invierte el orden de los límites en caso de que el usuario los escriba al revés \n",
    "    #set_rounging(BigFloat, RoundDown)\n",
    "    inf = BigFloat(\"$a\") #reescribe el límite inferior del intervalo en BigFloat\n",
    "    #set_rounding(BigFloat, RoundUp)\n",
    "    sup = BigFloat(\"$b\") #reescribe el límite superior del intervalo en BigFloat\n",
    "    new(inf, sup) #provee el nuevo intervalo en el orden correcto\n",
    "end\n",
    "end\n",
    "\n",
    "#ESCALARES\n",
    "#para definir los escalares en un intervalo\n",
    "function Intervalo(z) \n",
    "Intervalo(z,z)\n",
    "end\n",
    "\n",
    "#REDONDEO HACIA ARRIBA Y HACIA ABAJO\n",
    "\n",
    "#se construye la función para redondear hacia arriba \n",
    "function redonUp(f::Function,x,y) with_rounding(BigFloat,RoundUp) do \n",
    "        f(BigFloat(x),BigFloat(y))\n",
    "        end \n",
    "end\n",
    "\n",
    "#se construye la función para redondear hacia abajo\n",
    "function redonDown(f::Function,x,y) with_rounding(BigFloat,RoundDown) do\n",
    "        f(BigFloat(x),BigFloat(y))\n",
    "    end\n",
    "end\n",
    "\n",
    "#función para que muestre el intervalo de una manera abreviada\n",
    "function Base.show(io::IO, t::Intervalo)\n",
    "    repr=\"($(t.inf), $(t.sup))\"\n",
    "    print(io,repr)\n",
    "end\n",
    "\n",
    "#OPERACIONES ENTRE INTERVALOS\n",
    "\n",
    "# suma\n",
    "# a' + b' = [a(i) + b(i) , a(s) + b(s) ]\n",
    "function +(a::Intervalo,b::Intervalo)\n",
    "    Intervalo(redonDown(+,a.inf,b.inf),redonUp(+,a.sup,b.sup))\n",
    "end\n",
    "\n",
    "#resta\n",
    "# a' - b' = [a(i) -  b(s) , a(s) - b(i)]\n",
    "function -(a::Intervalo,b::Intervalo)\n",
    "    Intervalo(redonDown(-,a.inf,b.inf),redonUp(-,a.sup,b.sup))\n",
    "end\n",
    "\n",
    "#multiplicación\n",
    "#a' x b' = [min{a(i)b(i),a(i)b(s),a(s)b(i), a(s)b(s)}, max {a(i)b(i), a(i)b(s), a(s)b(i), a(s)b(s)}]\n",
    "function *(a::Intervalo,b::Intervalo)\n",
    "    Intervalo(min(redonDown(*,a.inf,b.inf),redonDown(*,a.inf,b.sup),redonDown(*,a.sup,b.inf),redonDown(*,a.sup,b.sup)),(max(redonUp(*,a.inf,b.inf),redonUp(*,a.inf,b.sup),redonUp(*,a.sup,b.inf),redonUp(*,a.sup,b.sup))))\n",
    "end\n",
    "\n",
    "#división\n",
    "# a' / b' = a' x [1 / b(s), 1 / b(i)], #si 0 ∉ b'\n",
    "function /(a::Intervalo,b::Intervalo)\n",
    "    Intervalo(min(redonDown(/,a.inf,b.inf),redonDown(/,a.inf,b.sup),redonDown(/,a.sup,b.inf),redonDown(/,a.sup,b.sup)),(max(redonUp(/,a.inf,b.inf),redonUp(/,a.inf,b.sup),redonUp(/,a.sup,b.inf),redonUp(/,a.sup,b.sup))))\n",
    "end\n",
    "\n",
    "#potencia\n",
    "function ^(v::Intervalo, w::Float64)\n",
    "    \n",
    "    if (v.sup > 0 && v.inf > 0)\n",
    "        return Intervalo(v.inf^w,v.sup^w)\n",
    "        \n",
    "        elseif (v.sup < 0 && v.inf < 0)\n",
    "        return Intervalo(v.sup^w,v.inf^w)\n",
    "            else    \n",
    "        return Intervalo(0,max(v.inf^2,v.sup^2))\n",
    "    end\n",
    "end \n",
    "\n",
    "#OPERACIONES CON UN ENTERO\n",
    "\n",
    "#calcula la suma entre un número entero y el intervalo\n",
    "+(a::Intervalo,z::Int64) = Intervalo(a.inf+z,a.sup+z)\n",
    "\n",
    "#calcula la resta entre un número entero y el intervalo\n",
    "-(a::Intervalo,z::Int64) = Intervalo(a.inf-z,a.sup-z)\n",
    "\n",
    "#calcula la multiplicación entre un número entero y el intervalo\n",
    "*(a::Intervalo,z::Int64) = Intervalo(z*a.inf,z*a.sup)\n",
    "\n",
    "#calcula la división entre un número entero y el intervalo\n",
    "/(z::Int64,a::Intervalo) = Intervalo(z/a.inf,z/a.sup)\n",
    "/(a::Intervalo,z::Int64) = Intervalo(a.inf/z,a.sup/z)\n",
    "\n",
    "#función potencia para un entero\n",
    "function ^(v::Intervalo, w::Integer)\n",
    "\n",
    "    if (v.sup > 0 && v.inf > 0)\n",
    "        return Intervalo(v.inf^w,v.sup^w)\n",
    "        elseif (v.sup < 0 && v.inf < 0)\n",
    "        return Intervalo(v.sup^w,v.inf^w)\n",
    "    else        \n",
    "        return Intervalo(0,max(v.inf^2,v.sup^2))\n",
    "\n",
    "end\n",
    "end\n",
    "\n",
    "#función potencia para un real\n",
    "function ^(v::Intervalo, q::Real) #Definido sólo para intervalos positivos \n",
    "    exp(Intervalo(q)*log(v))\n",
    "end\n",
    "\n",
    "function ==(a::Intervalo, b::Intervalo) \n",
    "    (a.inf == b.inf && a.sup ==b.sup) && return true \n",
    "    return false \n",
    "end \n",
    "\n",
    "function/(A::Array{Intervalo,2}, a::Intervalo)\n",
    "    [A[1]/a A[2]/a; A[3]/a A[4]/a]\n",
    "end\n",
    "\n",
    "#OPERACIONES ENTRE MATRICES\n",
    "\n",
    "#multiplicación por un entero\n",
    "function *(A::Array{Intervalo,2}, b::Int64)\n",
    "    [A[1]*b A[3]*b; A[2]*b A[4]*b]\n",
    "end\n",
    "\n",
    "#Traza\n",
    "function Tr(A::Array{Intervalo,2})\n",
    "    A[1]+A[4]\n",
    "end\n",
    "\n",
    "#Transpuesta\n",
    "function T(A::Array{Intervalo,2})\n",
    "    [A[1] A[2]; A[3] A[4]]\n",
    "end\n",
    "\n",
    "#Determinante\n",
    "function Det(A::Array{Intervalo,2})\n",
    "    (A[1]*A[4])-(A[3]*A[2])\n",
    "end\n",
    "\n",
    "#Adjunta\n",
    "function adj(A::Array{Intervalo,2})\n",
    "    [A[4] A[2]*-1; A[3]*-1 A[1]]\n",
    "end\n",
    "\n",
    "function /(A::Array{Intervalo,2}, ::Intervalo)\n",
    "    adj(A)/Det(A)\n",
    "end\n",
    "\n",
    "#Inversa\n",
    "function inv(A::Array{Intervalo,2})\n",
    "    adj(A)/Det(A)\n",
    "end\n",
    "\n",
    "end"
   ]
  },
  {
   "cell_type": "code",
   "execution_count": 2,
   "metadata": {
    "collapsed": true,
    "slideshow": {
     "slide_type": "slide"
    }
   },
   "outputs": [],
   "source": [
    "using FactCheck"
   ]
  },
  {
   "cell_type": "code",
   "execution_count": 3,
   "metadata": {
    "collapsed": false
   },
   "outputs": [
    {
     "name": "stdout",
     "output_type": "stream",
     "text": [
      "Prueba: Álgebra lineal con intervalos\n",
      "12 facts verified.\n"
     ]
    },
    {
     "data": {
      "text/plain": [
       "delayed_handler (generic function with 4 methods)"
      ]
     },
     "execution_count": 3,
     "metadata": {},
     "output_type": "execute_result"
    }
   ],
   "source": [
    "include(\"MatricesTest.jl\")"
   ]
  },
  {
   "cell_type": "raw",
   "metadata": {},
   "source": [
    "#El archivo MatricesTest.jl contiene diversas pruebas con las cuales se corrobora que las funciones y operaciones #construidas en el módulo Intervalos funcionan bien. \n",
    "\n",
    "using FactCheck\n",
    "using Intervalos\n",
    "\n",
    "facts(\"Prueba: Álgebra lineal con intervalos\") do\n",
    "    A=[Intervalo(0,0.5) Intervalo(1,1.5); Intervalo(2,2.5) Intervalo(3,3.5)]\n",
    "    B=[Intervalo(4,4.5) Intervalo(5,5.5); Intervalo(6,6.5) Intervalo(7,7.5)]\n",
    "    C=[Intervalo(2,1) Intervalo(2,1); Intervalo(3,2) Intervalo(3,2)]\n",
    "    x=2\n",
    "    \n",
    "    @fact C => [Intervalo(1,2) Intervalo(1,2); Intervalo(2,3) Intervalo(2,3)]\n",
    "    @fact A+B => [Intervalo(4,5) Intervalo(6,7); Intervalo(8,9) Intervalo(10,11)] \n",
    "    @fact A*B => [Intervalo(6,12) Intervalo(7,14); Intervalo(26,34) Intervalo(31,40)]\n",
    "    @fact A*2 => [Intervalo(0,1) Intervalo(2,3); Intervalo(4,5) Intervalo(6,7)]\n",
    "    @fact A^2 => [Intervalo(2,4) Intervalo(3,6); Intervalo(6,10) Intervalo(11,16)]\n",
    "    @fact Tr(A) => Intervalo(3,4)\n",
    "    @fact Tr(B) => Intervalo(11,12)\n",
    "    @fact T(A)  => [Intervalo(0,0.5) Intervalo(2,2.5); Intervalo(1,1.5) Intervalo(3,3.5)]\n",
    "    @fact Det(A)  => Intervalo(-2,-2)\n",
    "    @fact adj(A)  => [Intervalo(3,3.5) Intervalo(-2.5,-2); Intervalo(-1.5,-1) Intervalo(0,0.5)]\n",
    "    @fact inv(A)  => [Intervalo(-1.75,-1.5) Intervalo(0.5,0.75); Intervalo(1,1.25) Intervalo(-0.25,0)]\n",
    "    @fact A*inv(A) => [Intervalo(0.125,1.875) Intervalo(-0.375,0.375); Intervalo(-1.375,1.375) Intervalo(0.125,1.875)]\n",
    "end    "
   ]
  },
  {
   "cell_type": "markdown",
   "metadata": {
    "slideshow": {
     "slide_type": "slide"
    }
   },
   "source": [
    "####Definimos las matrices A y B de dimensión 2x2 cuyos elementos son intervalos"
   ]
  },
  {
   "cell_type": "code",
   "execution_count": 5,
   "metadata": {
    "collapsed": false
   },
   "outputs": [
    {
     "data": {
      "text/plain": [
       "2x2 Array{Intervalo,2}:\n",
       " (0e+00, 5e-01)    (1e+00, 1.5e+00)\n",
       " (2e+00, 2.5e+00)  (3e+00, 3.5e+00)"
      ]
     },
     "execution_count": 5,
     "metadata": {},
     "output_type": "execute_result"
    }
   ],
   "source": [
    "A=[Intervalo(0,0.5) Intervalo(1,1.5); Intervalo(2,2.5) Intervalo(3,3.5)]"
   ]
  },
  {
   "cell_type": "code",
   "execution_count": 6,
   "metadata": {
    "collapsed": false
   },
   "outputs": [
    {
     "data": {
      "text/plain": [
       "2x2 Array{Intervalo,2}:\n",
       " (4e+00, 4.5e+00)  (5e+00, 5.5e+00)\n",
       " (6e+00, 6.5e+00)  (7e+00, 7.5e+00)"
      ]
     },
     "execution_count": 6,
     "metadata": {},
     "output_type": "execute_result"
    }
   ],
   "source": [
    "B=[Intervalo(4,4.5) Intervalo(5,5.5); Intervalo(6,6.5) Intervalo(7,7.5)]"
   ]
  },
  {
   "cell_type": "markdown",
   "metadata": {
    "slideshow": {
     "slide_type": "slide"
    }
   },
   "source": [
    "##Operaciones entre matrices"
   ]
  },
  {
   "cell_type": "raw",
   "metadata": {},
   "source": [
    "Las operaciones expuestas a continuación tienen en cuenta tanto el álgebra de matrices como de intervalos"
   ]
  },
  {
   "cell_type": "markdown",
   "metadata": {},
   "source": [
    "###Suma"
   ]
  },
  {
   "cell_type": "code",
   "execution_count": 27,
   "metadata": {
    "collapsed": false
   },
   "outputs": [
    {
     "data": {
      "text/plain": [
       "2x2 Array{Intervalo,2}:\n",
       " (4e+00, 5e+00)  (6e+00, 7e+00)  \n",
       " (8e+00, 9e+00)  (1e+01, 1.1e+01)"
      ]
     },
     "execution_count": 27,
     "metadata": {},
     "output_type": "execute_result"
    }
   ],
   "source": [
    "C=A+B"
   ]
  },
  {
   "cell_type": "code",
   "execution_count": 19,
   "metadata": {
    "collapsed": false
   },
   "outputs": [
    {
     "data": {
      "text/plain": [
       "2x2 Array{Intervalo,2}:\n",
       " (4e+00, 5e+00)  (6e+00, 7e+00)  \n",
       " (8e+00, 9e+00)  (1e+01, 1.1e+01)"
      ]
     },
     "execution_count": 19,
     "metadata": {},
     "output_type": "execute_result"
    }
   ],
   "source": [
    "B+A"
   ]
  },
  {
   "cell_type": "code",
   "execution_count": 28,
   "metadata": {
    "collapsed": false
   },
   "outputs": [
    {
     "data": {
      "text/plain": [
       "true"
      ]
     },
     "execution_count": 28,
     "metadata": {},
     "output_type": "execute_result"
    }
   ],
   "source": [
    "#cumple la propiedad de conmutatividad\n",
    "A+B==B+A"
   ]
  },
  {
   "cell_type": "markdown",
   "metadata": {
    "slideshow": {
     "slide_type": "slide"
    }
   },
   "source": [
    "###Multiplicación "
   ]
  },
  {
   "cell_type": "code",
   "execution_count": 8,
   "metadata": {
    "collapsed": false
   },
   "outputs": [
    {
     "data": {
      "text/plain": [
       "2x2 Array{Intervalo,2}:\n",
       " (6e+00, 1.2e+01)    (7e+00, 1.4e+01)\n",
       " (2.6e+01, 3.4e+01)  (3.1e+01, 4e+01)"
      ]
     },
     "execution_count": 8,
     "metadata": {},
     "output_type": "execute_result"
    }
   ],
   "source": [
    "A*B"
   ]
  },
  {
   "cell_type": "code",
   "execution_count": 18,
   "metadata": {
    "collapsed": false
   },
   "outputs": [
    {
     "data": {
      "text/plain": [
       "2x2 Array{Intervalo,2}:\n",
       " (1e+01, 1.6e+01)    (1.9e+01, 2.6e+01)\n",
       " (1.4e+01, 2.2e+01)  (2.7e+01, 3.6e+01)"
      ]
     },
     "execution_count": 18,
     "metadata": {},
     "output_type": "execute_result"
    }
   ],
   "source": [
    "B*A"
   ]
  },
  {
   "cell_type": "code",
   "execution_count": 30,
   "metadata": {
    "collapsed": false
   },
   "outputs": [
    {
     "data": {
      "text/plain": [
       "true"
      ]
     },
     "execution_count": 30,
     "metadata": {},
     "output_type": "execute_result"
    }
   ],
   "source": [
    "#Cumple la propiedad de anticonmutatividad \n",
    "A*B!=B*A"
   ]
  },
  {
   "cell_type": "raw",
   "metadata": {
    "collapsed": true,
    "slideshow": {
     "slide_type": "slide"
    }
   },
   "source": [
    "De manera ilustrativa se calcula paso a paso la primer componente que resulta de A*B"
   ]
  },
  {
   "cell_type": "code",
   "execution_count": 9,
   "metadata": {
    "collapsed": false
   },
   "outputs": [
    {
     "data": {
      "text/plain": [
       "2x2 Array{Intervalo,2}:\n",
       " (0e+00, 5e-01)    (1e+00, 1.5e+00)\n",
       " (2e+00, 2.5e+00)  (3e+00, 3.5e+00)"
      ]
     },
     "execution_count": 9,
     "metadata": {},
     "output_type": "execute_result"
    }
   ],
   "source": [
    "A"
   ]
  },
  {
   "cell_type": "code",
   "execution_count": 10,
   "metadata": {
    "collapsed": false
   },
   "outputs": [
    {
     "data": {
      "text/plain": [
       "2x2 Array{Intervalo,2}:\n",
       " (4e+00, 4.5e+00)  (5e+00, 5.5e+00)\n",
       " (6e+00, 6.5e+00)  (7e+00, 7.5e+00)"
      ]
     },
     "execution_count": 10,
     "metadata": {},
     "output_type": "execute_result"
    }
   ],
   "source": [
    "B"
   ]
  },
  {
   "cell_type": "code",
   "execution_count": 9,
   "metadata": {
    "collapsed": false
   },
   "outputs": [
    {
     "data": {
      "text/plain": [
       "(0e+00, 2.25e+00)"
      ]
     },
     "execution_count": 9,
     "metadata": {},
     "output_type": "execute_result"
    }
   ],
   "source": [
    "#Multiplicamos la primer componente de A por la primer componente de B\n",
    "a=Intervalo(0,0.5)*Intervalo(4,4.5)"
   ]
  },
  {
   "cell_type": "code",
   "execution_count": 10,
   "metadata": {
    "collapsed": false
   },
   "outputs": [
    {
     "data": {
      "text/plain": [
       "(6e+00, 9.75e+00)"
      ]
     },
     "execution_count": 10,
     "metadata": {},
     "output_type": "execute_result"
    }
   ],
   "source": [
    "#Multiplicamos la segunda componente de A por la segunda de B\n",
    "b=Intervalo(1,1.5)*Intervalo(6,6.5)"
   ]
  },
  {
   "cell_type": "code",
   "execution_count": 11,
   "metadata": {
    "collapsed": false
   },
   "outputs": [
    {
     "data": {
      "text/plain": [
       "(6e+00, 1.2e+01)"
      ]
     },
     "execution_count": 11,
     "metadata": {},
     "output_type": "execute_result"
    }
   ],
   "source": [
    "#Cabe resaltar que la multiplicación entre intervalos tiene su propia álgebra (definida en el módulo Intervalos). \n",
    "#Finalmente, sumamos los resultados y obtenemos la primer componente de A*B\n",
    "a+b"
   ]
  },
  {
   "cell_type": "markdown",
   "metadata": {
    "slideshow": {
     "slide_type": "subslide"
    }
   },
   "source": [
    "####otro ejemplo [1]: "
   ]
  },
  {
   "cell_type": "code",
   "execution_count": 11,
   "metadata": {
    "collapsed": false
   },
   "outputs": [
    {
     "data": {
      "text/plain": [
       "1x2 Array{Intervalo,2}:\n",
       " (1e+00, 2e+00)  (3e+00, 4e+00)"
      ]
     },
     "execution_count": 11,
     "metadata": {},
     "output_type": "execute_result"
    }
   ],
   "source": [
    "C=[Intervalo(1,2) Intervalo(3,4)]"
   ]
  },
  {
   "cell_type": "code",
   "execution_count": 12,
   "metadata": {
    "collapsed": false
   },
   "outputs": [
    {
     "data": {
      "text/plain": [
       "2x2 Array{Intervalo,2}:\n",
       " (5e+00, 6e+00)  (7e+00, 8e+00)    \n",
       " (9e+00, 1e+01)  (1.1e+01, 1.2e+01)"
      ]
     },
     "execution_count": 12,
     "metadata": {},
     "output_type": "execute_result"
    }
   ],
   "source": [
    "D=[Intervalo(5,6) Intervalo(7,8); Intervalo(9,10) Intervalo(11,12)]"
   ]
  },
  {
   "cell_type": "code",
   "execution_count": 13,
   "metadata": {
    "collapsed": false
   },
   "outputs": [
    {
     "data": {
      "text/plain": [
       "1x2 Array{Intervalo,2}:\n",
       " (3.2e+01, 5.2e+01)  (4e+01, 6.4e+01)"
      ]
     },
     "execution_count": 13,
     "metadata": {},
     "output_type": "execute_result"
    }
   ],
   "source": [
    "C*D"
   ]
  },
  {
   "cell_type": "markdown",
   "metadata": {},
   "source": [
    "####[1] R. E. Moore,  R. B. Kearfott, M. J. Cloud, \"Introduction to Interval Analysis\",  SIAM editorial, Philadelphia, Cap.7, Secc.7.2, pág. 86, 2009."
   ]
  },
  {
   "cell_type": "markdown",
   "metadata": {
    "slideshow": {
     "slide_type": "slide"
    }
   },
   "source": [
    "###Multiplicación por un entero"
   ]
  },
  {
   "cell_type": "code",
   "execution_count": 12,
   "metadata": {
    "collapsed": false
   },
   "outputs": [
    {
     "data": {
      "text/plain": [
       "2x2 Array{Intervalo,2}:\n",
       " (0e+00, 1e+00)  (2e+00, 3e+00)\n",
       " (4e+00, 5e+00)  (6e+00, 7e+00)"
      ]
     },
     "execution_count": 12,
     "metadata": {},
     "output_type": "execute_result"
    }
   ],
   "source": [
    "A*2"
   ]
  },
  {
   "cell_type": "markdown",
   "metadata": {
    "slideshow": {
     "slide_type": "-"
    }
   },
   "source": [
    "###Traza"
   ]
  },
  {
   "cell_type": "code",
   "execution_count": 13,
   "metadata": {
    "collapsed": false
   },
   "outputs": [
    {
     "data": {
      "text/plain": [
       "2x2 Array{Intervalo,2}:\n",
       " (0e+00, 5e-01)    (1e+00, 1.5e+00)\n",
       " (2e+00, 2.5e+00)  (3e+00, 3.5e+00)"
      ]
     },
     "execution_count": 13,
     "metadata": {},
     "output_type": "execute_result"
    }
   ],
   "source": [
    "A"
   ]
  },
  {
   "cell_type": "code",
   "execution_count": 14,
   "metadata": {
    "collapsed": false
   },
   "outputs": [
    {
     "data": {
      "text/plain": [
       "(3e+00, 4e+00)"
      ]
     },
     "execution_count": 14,
     "metadata": {},
     "output_type": "execute_result"
    }
   ],
   "source": [
    "Tr(A)"
   ]
  },
  {
   "cell_type": "markdown",
   "metadata": {
    "slideshow": {
     "slide_type": "slide"
    }
   },
   "source": [
    "###Transpuesta"
   ]
  },
  {
   "cell_type": "code",
   "execution_count": 15,
   "metadata": {
    "collapsed": false
   },
   "outputs": [
    {
     "data": {
      "text/plain": [
       "2x2 Array{Intervalo,2}:\n",
       " (0e+00, 5e-01)    (1e+00, 1.5e+00)\n",
       " (2e+00, 2.5e+00)  (3e+00, 3.5e+00)"
      ]
     },
     "execution_count": 15,
     "metadata": {},
     "output_type": "execute_result"
    }
   ],
   "source": [
    "A"
   ]
  },
  {
   "cell_type": "code",
   "execution_count": 32,
   "metadata": {
    "collapsed": false
   },
   "outputs": [
    {
     "data": {
      "text/plain": [
       "2x2 Array{Intervalo,2}:\n",
       " (0e+00, 5e-01)    (2e+00, 2.5e+00)\n",
       " (1e+00, 1.5e+00)  (3e+00, 3.5e+00)"
      ]
     },
     "execution_count": 32,
     "metadata": {},
     "output_type": "execute_result"
    }
   ],
   "source": [
    "T(A)"
   ]
  },
  {
   "cell_type": "markdown",
   "metadata": {
    "slideshow": {
     "slide_type": "subslide"
    }
   },
   "source": [
    "###Propiedades de la transpuesta "
   ]
  },
  {
   "cell_type": "markdown",
   "metadata": {},
   "source": [
    "$(A^{T})^{T} = A$"
   ]
  },
  {
   "cell_type": "code",
   "execution_count": 31,
   "metadata": {
    "collapsed": false
   },
   "outputs": [
    {
     "data": {
      "text/plain": [
       "true"
      ]
     },
     "execution_count": 31,
     "metadata": {},
     "output_type": "execute_result"
    }
   ],
   "source": [
    "T(T(A))==A"
   ]
  },
  {
   "cell_type": "markdown",
   "metadata": {},
   "source": [
    "$(A+B)^{T} = A^{T} + B^{T}$"
   ]
  },
  {
   "cell_type": "code",
   "execution_count": 35,
   "metadata": {
    "collapsed": false
   },
   "outputs": [
    {
     "data": {
      "text/plain": [
       "true"
      ]
     },
     "execution_count": 35,
     "metadata": {},
     "output_type": "execute_result"
    }
   ],
   "source": [
    "T(A+B)==T(A)+T(B)"
   ]
  },
  {
   "cell_type": "markdown",
   "metadata": {},
   "source": [
    "$(\\lambda A)^{T}=\\lambda A^{T}$ con $\\lambda$ un real"
   ]
  },
  {
   "cell_type": "code",
   "execution_count": 37,
   "metadata": {
    "collapsed": false
   },
   "outputs": [
    {
     "data": {
      "text/plain": [
       "true"
      ]
     },
     "execution_count": 37,
     "metadata": {},
     "output_type": "execute_result"
    }
   ],
   "source": [
    "T(A*2)==T(A)*2"
   ]
  },
  {
   "cell_type": "markdown",
   "metadata": {},
   "source": [
    "$(AB)^{T}=B^{T}A^{T}$"
   ]
  },
  {
   "cell_type": "code",
   "execution_count": 38,
   "metadata": {
    "collapsed": false
   },
   "outputs": [
    {
     "data": {
      "text/plain": [
       "true"
      ]
     },
     "execution_count": 38,
     "metadata": {},
     "output_type": "execute_result"
    }
   ],
   "source": [
    "T(A*B)==T(B)*T(A)"
   ]
  },
  {
   "cell_type": "markdown",
   "metadata": {},
   "source": [
    "$(A^{-1})^{T}=(A^{T})^{-1}$"
   ]
  },
  {
   "cell_type": "code",
   "execution_count": 40,
   "metadata": {
    "collapsed": false
   },
   "outputs": [
    {
     "data": {
      "text/plain": [
       "true"
      ]
     },
     "execution_count": 40,
     "metadata": {},
     "output_type": "execute_result"
    }
   ],
   "source": [
    "T(inv(A))==inv(T(A))"
   ]
  },
  {
   "cell_type": "markdown",
   "metadata": {
    "slideshow": {
     "slide_type": "slide"
    }
   },
   "source": [
    "###Determinante"
   ]
  },
  {
   "cell_type": "code",
   "execution_count": 9,
   "metadata": {
    "collapsed": false
   },
   "outputs": [
    {
     "data": {
      "text/plain": [
       "2x2 Array{Intervalo,2}:\n",
       " (0e+00, 5e-01)    (1e+00, 1.5e+00)\n",
       " (2e+00, 2.5e+00)  (3e+00, 3.5e+00)"
      ]
     },
     "execution_count": 9,
     "metadata": {},
     "output_type": "execute_result"
    }
   ],
   "source": [
    "A"
   ]
  },
  {
   "cell_type": "code",
   "execution_count": 10,
   "metadata": {
    "collapsed": false
   },
   "outputs": [
    {
     "data": {
      "text/plain": [
       "(-2e+00, -2e+00)"
      ]
     },
     "execution_count": 10,
     "metadata": {},
     "output_type": "execute_result"
    }
   ],
   "source": [
    "Det(A)"
   ]
  },
  {
   "cell_type": "code",
   "execution_count": 19,
   "metadata": {
    "collapsed": false
   },
   "outputs": [
    {
     "data": {
      "text/plain": [
       "(0e+00, 1.75e+00)"
      ]
     },
     "execution_count": 19,
     "metadata": {},
     "output_type": "execute_result"
    }
   ],
   "source": [
    "#multiplicación de los intervalos en las posiciones A[1] y A[4] \n",
    "c=Intervalo(0,0.5)*Intervalo(3,3.5)"
   ]
  },
  {
   "cell_type": "code",
   "execution_count": 20,
   "metadata": {
    "collapsed": false
   },
   "outputs": [
    {
     "data": {
      "text/plain": [
       "(2e+00, 3.75e+00)"
      ]
     },
     "execution_count": 20,
     "metadata": {},
     "output_type": "execute_result"
    }
   ],
   "source": [
    "#multiplicación de los intervalos en las posiciones A[3] y A[2]\n",
    "d=Intervalo(1,1.5)*Intervalo(2,2.5)"
   ]
  },
  {
   "cell_type": "code",
   "execution_count": 21,
   "metadata": {
    "collapsed": false
   },
   "outputs": [
    {
     "data": {
      "text/plain": [
       "(-2e+00, -2e+00)"
      ]
     },
     "execution_count": 21,
     "metadata": {},
     "output_type": "execute_result"
    }
   ],
   "source": [
    "#Finalmente, restamos los resultados obtenidos anteriormente\n",
    "c-d"
   ]
  },
  {
   "cell_type": "markdown",
   "metadata": {
    "slideshow": {
     "slide_type": "slide"
    }
   },
   "source": [
    "###Adjunta"
   ]
  },
  {
   "cell_type": "code",
   "execution_count": 22,
   "metadata": {
    "collapsed": false
   },
   "outputs": [
    {
     "data": {
      "text/plain": [
       "2x2 Array{Intervalo,2}:\n",
       " (0e+00, 5e-01)    (1e+00, 1.5e+00)\n",
       " (2e+00, 2.5e+00)  (3e+00, 3.5e+00)"
      ]
     },
     "execution_count": 22,
     "metadata": {},
     "output_type": "execute_result"
    }
   ],
   "source": [
    "A"
   ]
  },
  {
   "cell_type": "code",
   "execution_count": 23,
   "metadata": {
    "collapsed": false
   },
   "outputs": [
    {
     "data": {
      "text/plain": [
       "2x2 Array{Intervalo,2}:\n",
       " (3e+00, 3.5e+00)    (-2.5e+00, -2e+00)\n",
       " (-1.5e+00, -1e+00)  (0e+00, 5e-01)    "
      ]
     },
     "execution_count": 23,
     "metadata": {},
     "output_type": "execute_result"
    }
   ],
   "source": [
    "adj(A)"
   ]
  },
  {
   "cell_type": "markdown",
   "metadata": {
    "slideshow": {
     "slide_type": "slide"
    }
   },
   "source": [
    "###Inversa"
   ]
  },
  {
   "cell_type": "code",
   "execution_count": 39,
   "metadata": {
    "collapsed": false
   },
   "outputs": [
    {
     "data": {
      "text/plain": [
       "2x2 Array{Intervalo,2}:\n",
       " (-1.75e+00, -1.5e+00)  (5e-01, 7.5e-01)  \n",
       " (1e+00, 1.25e+00)      (-2.5e-01, -0e+00)"
      ]
     },
     "execution_count": 39,
     "metadata": {},
     "output_type": "execute_result"
    }
   ],
   "source": [
    "inv(A)"
   ]
  },
  {
   "cell_type": "markdown",
   "metadata": {
    "slideshow": {
     "slide_type": "slide"
    }
   },
   "source": [
    "##Operador densidad"
   ]
  },
  {
   "cell_type": "markdown",
   "metadata": {},
   "source": [
    "El operador densidad se define en términos del ket $|\\psi\\rangle$ y bra $\\langle \\psi|$ como\n",
    "\n",
    "\\begin{equation}\n",
    "\\rho = |\\psi\\rangle \\langle \\psi| = \\displaystyle\\binom{a}{b} \\big(a^* b^* \\big)= \\begin{pmatrix} aa^* & ab^* \\\\ ba^* & bb^* \\end{pmatrix}. \n",
    "\\end{equation} \n",
    "\n",
    "Definiendo el ket y el bra en términos de intervalos, tenemos"
   ]
  },
  {
   "cell_type": "code",
   "execution_count": 12,
   "metadata": {
    "collapsed": false,
    "slideshow": {
     "slide_type": "slide"
    }
   },
   "outputs": [
    {
     "data": {
      "text/plain": [
       "2-element Array{Intervalo,1}:\n",
       " (1e+00, 2e+00)\n",
       " (3e+00, 4e+00)"
      ]
     },
     "execution_count": 12,
     "metadata": {},
     "output_type": "execute_result"
    }
   ],
   "source": [
    "[Intervalo(1,2); Intervalo(3,4)] "
   ]
  },
  {
   "cell_type": "code",
   "execution_count": 7,
   "metadata": {
    "collapsed": false
   },
   "outputs": [
    {
     "data": {
      "text/plain": [
       "(1e+01, 2e+01)"
      ]
     },
     "execution_count": 7,
     "metadata": {},
     "output_type": "execute_result"
    }
   ],
   "source": [
    "#normalizando\n",
    "Intervalo(1,2)^2+Intervalo(3,4)^2"
   ]
  },
  {
   "cell_type": "code",
   "execution_count": 8,
   "metadata": {
    "collapsed": false
   },
   "outputs": [
    {
     "data": {
      "text/plain": [
       "(5e+00, 1e+01)"
      ]
     },
     "execution_count": 8,
     "metadata": {},
     "output_type": "execute_result"
    }
   ],
   "source": [
    "(ans)^1/2"
   ]
  },
  {
   "cell_type": "code",
   "execution_count": 13,
   "metadata": {
    "collapsed": false
   },
   "outputs": [
    {
     "data": {
      "text/plain": [
       "2-element Array{Intervalo,1}:\n",
       " (9.999999999999999999999999999999999999999999999999999999999999999999999999999914e-02, 4.000000000000000000000000000000000000000000000000000000000000000000000000000009e-01)\n",
       " (2.999999999999999999999999999999999999999999999999999999999999999999999999999974e-01, 8.000000000000000000000000000000000000000000000000000000000000000000000000000017e-01)"
      ]
     },
     "execution_count": 13,
     "metadata": {},
     "output_type": "execute_result"
    }
   ],
   "source": [
    "#Por lo tanto el ket normalizado es de la forma\n",
    "psi1=[Intervalo(1,2)/Intervalo(5,10); Intervalo(3,4)/Intervalo(5,10)]"
   ]
  },
  {
   "cell_type": "code",
   "execution_count": 14,
   "metadata": {
    "collapsed": false
   },
   "outputs": [
    {
     "data": {
      "text/plain": [
       "1x2 Array{Intervalo,2}:\n",
       " (9.999999999999999999999999999999999999999999999999999999999999999999999999999914e-02, 4.000000000000000000000000000000000000000000000000000000000000000000000000000009e-01)  …  (2.999999999999999999999999999999999999999999999999999999999999999999999999999974e-01, 8.000000000000000000000000000000000000000000000000000000000000000000000000000017e-01)"
      ]
     },
     "execution_count": 14,
     "metadata": {},
     "output_type": "execute_result"
    }
   ],
   "source": [
    "#Por otro lado el bra queda\n",
    "psi2=transpose(psi1)"
   ]
  },
  {
   "cell_type": "code",
   "execution_count": 15,
   "metadata": {
    "collapsed": false
   },
   "outputs": [
    {
     "data": {
      "text/plain": [
       "2x2 Array{Intervalo,2}:\n",
       " (9.999999999999999999999999999999999999999999999999999999999999999999999999999725e-03, 1.600000000000000000000000000000000000000000000000000000000000000000000000000021e-01)  …  (2.999999999999999999999999999999999999999999999999999999999999999999999999999931e-02, 3.200000000000000000000000000000000000000000000000000000000000000000000000000041e-01)\n",
       " (2.999999999999999999999999999999999999999999999999999999999999999999999999999931e-02, 3.200000000000000000000000000000000000000000000000000000000000000000000000000041e-01)     (8.999999999999999999999999999999999999999999999999999999999999999999999999999793e-02, 6.400000000000000000000000000000000000000000000000000000000000000000000000000083e-01)"
      ]
     },
     "execution_count": 15,
     "metadata": {},
     "output_type": "execute_result"
    }
   ],
   "source": [
    "#Por consiguente, obtenemos la matriz densidad\n",
    "rho=psi1*psi2"
   ]
  },
  {
   "cell_type": "markdown",
   "metadata": {
    "slideshow": {
     "slide_type": "slide"
    }
   },
   "source": [
    "###Propiedades de la matriz densidad"
   ]
  },
  {
   "cell_type": "markdown",
   "metadata": {},
   "source": [
    "Una matriz se puede considerar como un operador densidad (rho) siempre que cumpla las siguientes propiedades:\n",
    "\n",
    "i- sea hermitica, $\\rho^{\\dagger}$ = $\\rho$.\n",
    "\n",
    "ii- posea traza unitaria, Tr($\\rho$) = 1.\n",
    "\n",
    "iii- sea positiva definida, es decir, sus valores propios son no negativos.\n",
    "\n",
    "iv- Si además representa un estado puro debe ser idempotente, es decir, $\\rho^{2}=\\rho$ [2]. "
   ]
  },
  {
   "cell_type": "markdown",
   "metadata": {},
   "source": [
    "####[2] L. de la Peña, M. Villavicencio, \"Problemas y ejercicios de Mecánica cuántica\", Fondo de cultura económica, México, Secc. XXI, pág. 643, 2003.  "
   ]
  },
  {
   "cell_type": "markdown",
   "metadata": {
    "slideshow": {
     "slide_type": "slide"
    }
   },
   "source": [
    "Aplicando las propiedades a la matriz $\\rho$ anterior"
   ]
  },
  {
   "cell_type": "markdown",
   "metadata": {
    "slideshow": {
     "slide_type": "-"
    }
   },
   "source": [
    "####i-"
   ]
  },
  {
   "cell_type": "code",
   "execution_count": 16,
   "metadata": {
    "collapsed": false
   },
   "outputs": [
    {
     "data": {
      "text/plain": [
       "2x2 Array{Intervalo,2}:\n",
       " (8.999999999999999999999999999999999999999999999999999999999999999999999999999793e-02, 6.400000000000000000000000000000000000000000000000000000000000000000000000000083e-01)    …  (-3.200000000000000000000000000000000000000000000000000000000000000000000000000041e-01, -2.999999999999999999999999999999999999999999999999999999999999999999999999999931e-02)\n",
       " (-3.200000000000000000000000000000000000000000000000000000000000000000000000000041e-01, -2.999999999999999999999999999999999999999999999999999999999999999999999999999931e-02)     (9.999999999999999999999999999999999999999999999999999999999999999999999999999725e-03, 1.600000000000000000000000000000000000000000000000000000000000000000000000000021e-01)  "
      ]
     },
     "execution_count": 16,
     "metadata": {},
     "output_type": "execute_result"
    }
   ],
   "source": [
    "adj(rho)"
   ]
  },
  {
   "cell_type": "markdown",
   "metadata": {},
   "source": [
    "####ii-"
   ]
  },
  {
   "cell_type": "code",
   "execution_count": 17,
   "metadata": {
    "collapsed": false
   },
   "outputs": [
    {
     "data": {
      "text/plain": [
       "(9.999999999999999999999999999999999999999999999999999999999999999999999999999698e-02, 8.000000000000000000000000000000000000000000000000000000000000000000000000000104e-01)"
      ]
     },
     "execution_count": 17,
     "metadata": {},
     "output_type": "execute_result"
    }
   ],
   "source": [
    "Tr(rho)"
   ]
  },
  {
   "cell_type": "markdown",
   "metadata": {},
   "source": [
    "####iv-"
   ]
  },
  {
   "cell_type": "code",
   "execution_count": 18,
   "metadata": {
    "collapsed": false
   },
   "outputs": [
    {
     "data": {
      "text/plain": [
       "2x2 Array{Intervalo,2}:\n",
       " (9.999999999999999999999999999999999999999999999999999999999999999999999999999455e-04, 1.28000000000000000000000000000000000000000000000000000000000000000000000000006e-01)  …  (2.999999999999999999999999999999999999999999999999999999999999999999999999999836e-03, 2.56000000000000000000000000000000000000000000000000000000000000000000000000012e-01) \n",
       " (2.999999999999999999999999999999999999999999999999999999999999999999999999999836e-03, 2.56000000000000000000000000000000000000000000000000000000000000000000000000012e-01)     (8.999999999999999999999999999999999999999999999999999999999999999999999999999577e-03, 5.120000000000000000000000000000000000000000000000000000000000000000000000000239e-01)"
      ]
     },
     "execution_count": 18,
     "metadata": {},
     "output_type": "execute_result"
    }
   ],
   "source": [
    "rho^2"
   ]
  },
  {
   "cell_type": "markdown",
   "metadata": {},
   "source": [
    "Vemos que la $\\rho$ construida no cumple con las propiedades descritas anteriormente. Por lo tanto, $\\rho$ no es un operador densidad."
   ]
  },
  {
   "cell_type": "markdown",
   "metadata": {
    "slideshow": {
     "slide_type": "slide"
    }
   },
   "source": [
    "##Sistemas de ecuaciones lineales con intervalos"
   ]
  },
  {
   "cell_type": "markdown",
   "metadata": {},
   "source": [
    "Consideremos un sistema de ecuaciones lineales general de la forma\n",
    "\n",
    "\\begin{eqnarray}\n",
    "a_{11}x_{1} + a_{12}x_{2} &=& b_{1},\\\\\n",
    "a_{21}x_{1} + a_{22}x_{2} &=& b_{2}.\n",
    "\\end{eqnarray}\n",
    "\n",
    "Eliminando $x_{1}$ mediante un procedimiento análogo al de la eliminación gaussiana, podemos resolver para $x_{2}$ aplicando la ecuación\n",
    "\n",
    "\\begin{equation}\n",
    "( a_{22}-(a_{21}/a_{11}) a_{12}\t)x_{2} = b_{2}-(a_{21}/a_{11})b_{1}\t\n",
    "\\end{equation}\n",
    "\n",
    "De esta manera, utilizando el valor de $x_{2}$ podemos resolver para $x_{1}$ mediante la ecuación\n",
    "\n",
    "\\begin{equation}\n",
    "a_{11}x_{1}=b_{1}-a_{12}x_{2}\t\t\n",
    "\\end{equation}"
   ]
  },
  {
   "cell_type": "markdown",
   "metadata": {
    "slideshow": {
     "slide_type": "slide"
    }
   },
   "source": [
    "Ejemplo: Consideremos el siguiente sistema de ecuaciones, \n",
    "\n",
    "\\begin{eqnarray}\n",
    "2.0000x_{1} + 3.001x_{2} &=& 1.0000,\\\\\n",
    "0.6667x_{1} + 1.000x_{2} &=& 0.3333,\n",
    "\\end{eqnarray}\n",
    "\n",
    "del cual nos proponemos determinar $x_{2}$. Eliminando $x_{1}$ en la segunda ecuación, obtenemos\n",
    "\n",
    "\\begin{equation}\n",
    "( 1.000-(0.6667/2.0000)3.001)x_{2} = 0.3333 - (0.6667/2.0000)1.0000\t\n",
    "\\end{equation}\n",
    "\n",
    "Calculando para $n=4$ cifras significativas [3]:"
   ]
  },
  {
   "cell_type": "markdown",
   "metadata": {},
   "source": [
    "####[3] R. E. Moore, R. B. Kearfott, M. J. Cloud, \"Introduction to Interval Analysis\", SIAM editorial, Philadelphia, Cap.7, Secc.7.2, pág. 90, 2009."
   ]
  },
  {
   "cell_type": "code",
   "execution_count": 22,
   "metadata": {
    "collapsed": false
   },
   "outputs": [
    {
     "data": {
      "text/plain": [
       "0.33335"
      ]
     },
     "execution_count": 22,
     "metadata": {},
     "output_type": "execute_result"
    }
   ],
   "source": [
    "#calculando en primera instancia la división de la ecuación anterior\n",
    "0.6667/2.000"
   ]
  },
  {
   "cell_type": "markdown",
   "metadata": {
    "slideshow": {
     "slide_type": "subslide"
    }
   },
   "source": [
    "El valor exacto de la división en la ecuación anterior es $0.6667/2.0000 = 0.33335$. Sin embargo el objetivo aquí es usar intervalos, por lo que debemos escribir que\n",
    "\\begin{equation}\n",
    "0.6667/2.0000 \\in [0.3333, 0.3334]. \n",
    "\\end{equation}\n",
    "\n",
    "De nuevo, para $(0.6667/2.0000)\\times 3.001$ obtenemos el valor exacto $1.00038335$, pero en términos de intervalos queda\n",
    "\n",
    "\\begin{equation}\n",
    "(0.6667/2.0000)\\times 3.001 \\in [1.000, 1.001]. \n",
    "\\end{equation}"
   ]
  },
  {
   "cell_type": "markdown",
   "metadata": {
    "slideshow": {
     "slide_type": "slide"
    }
   },
   "source": [
    "Finalmente, los valores completos son\n",
    "\n",
    "\\begin{equation}\n",
    "1.000-(0.6667/2.0000)\\times 3.001 \\in [-0.0010, 0], \n",
    "\\end{equation}\n",
    "\n",
    "\\begin{equation}\n",
    "0.3333-(0.6667/2.0000)\\times 1.0000 \\in [-0.0001, 0]. \n",
    "\\end{equation}\n",
    "\n",
    "Por consiguiente, $x_{2}$ esta dado por\n",
    "\\begin{equation}\n",
    "x{2} \\in [-0.0001, 0]/[-0.0010, 0] = [0, \\infty].\n",
    "\\end{equation}"
   ]
  },
  {
   "cell_type": "markdown",
   "metadata": {
    "slideshow": {
     "slide_type": "slide"
    }
   },
   "source": [
    "Para $n=5$ cifras significativas:\n",
    "\n",
    "\\begin{equation}\n",
    "0.6667/2.0000 \\in [0.33335, 0.33335], \n",
    "\\end{equation}\n",
    "\n",
    "\\begin{equation}\n",
    "(0.6667/2.0000)\\times 3.001 \\in [1.0003, 1.0004], \n",
    "\\end{equation}\n",
    "\n",
    "\\begin{equation}\n",
    "1.000-(0.6667/2.0000)\\times 3.001 \\in [-0.00005, -0.00005], \n",
    "\\end{equation}\n",
    "\n",
    "\\begin{equation}\n",
    "0.3333-(0.6667/2.0000)\\times 1.0000 \\in [-0.00040, -0.00030]. \n",
    "\\end{equation}\n",
    "\n",
    "\\begin{equation}\n",
    "\\therefore x{2} \\in [-0.00040, -0.00030]/[-0.00005, -0.00005] = [0.\\underline{1}2500, 0.\\underline{1}6667].\n",
    "\\end{equation}"
   ]
  },
  {
   "cell_type": "code",
   "execution_count": 6,
   "metadata": {
    "collapsed": false,
    "slideshow": {
     "slide_type": "subslide"
    }
   },
   "outputs": [
    {
     "data": {
      "text/plain": [
       "(1.25e-01, 1.666666666666666666666666666666666666666666666666666666666666666666666666666674e-01)"
      ]
     },
     "execution_count": 6,
     "metadata": {},
     "output_type": "execute_result"
    }
   ],
   "source": [
    "#usando las operaciones sobre intervalos construidas en el modulo Intervalos, obtenemos efectivamente\n",
    "Intervalo(-0.00005,-0.00005)/Intervalo(-0.00040,-0.00030)"
   ]
  },
  {
   "cell_type": "markdown",
   "metadata": {},
   "source": [
    "el cual es el resultado obtenido para $n=5$ cifras significativas."
   ]
  },
  {
   "cell_type": "markdown",
   "metadata": {
    "slideshow": {
     "slide_type": "slide"
    }
   },
   "source": [
    "Luego,\n",
    "\n",
    "Para $n=6$, $x_{2} \\in [0.\\underline{1}28205, 0.\\underline{1}31579]$;\n",
    "\n",
    "Para $n=7$, $x_{2} \\in [0.\\underline{130}2083, 0.\\underline{130}5484]$;\n",
    "\n",
    "Para $n=8$, $x_{2} \\in [0.\\underline{1304}1210, 0.\\underline{1304}4613]$;\n",
    "\n",
    "Para $n=9$, $x_{2} \\in [0.\\underline{13042911}1, 0.\\underline{13042911}2]$.\n",
    "\n",
    "Por lo tanto, vemos que al aumentar el número de cifras significativas disminuye el error del intervalo otorgando un valor de $x_{2}$ cada vez más acertado."
   ]
  }
 ],
 "metadata": {
  "celltoolbar": "Slideshow",
  "kernelspec": {
   "display_name": "Julia 0.3.5",
   "language": "julia",
   "name": "julia 0.3"
  },
  "language_info": {
   "name": "julia",
   "version": "0.3.5"
  }
 },
 "nbformat": 4,
 "nbformat_minor": 0
}
