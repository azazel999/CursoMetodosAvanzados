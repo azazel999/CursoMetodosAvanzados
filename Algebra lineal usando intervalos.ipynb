{
 "cells": [
  {
   "cell_type": "markdown",
   "metadata": {},
   "source": [
    "#Álgebra lineal usando intervalos"
   ]
  },
  {
   "cell_type": "code",
   "execution_count": 1,
   "metadata": {
    "collapsed": true
   },
   "outputs": [],
   "source": [
    "using Intervalos"
   ]
  },
  {
   "cell_type": "raw",
   "metadata": {},
   "source": [
    "module Intervalos\n",
    "\n",
    "export Intervalo \n",
    "\n",
    "import Base.in\n",
    "import Base.==\n",
    "import Base.^\n",
    "\n",
    "export Intervalo, in, == , redonUP , redonDOWN, ^, Tr, T, Det, adj, inv\n",
    "\n",
    "#DEFINIMOS EL TIPO INTERVALO \n",
    "type Intervalo\n",
    "    inf::Number\n",
    "    sup::Number\n",
    "function Intervalo(a, b)\n",
    "    a, b = a > b ? (b,a) : (a,b) #función que invierte el orden de los límites en caso de que el usuario los escriba al revés \n",
    "    #set_rounging(BigFloat, RoundDown)\n",
    "    inf = BigFloat(\"$a\") #reescribe el límite inferior del intervalo en BigFloat\n",
    "    #set_rounding(BigFloat, RoundUp)\n",
    "    sup = BigFloat(\"$b\") #reescribe el límite superior del intervalo en BigFloat\n",
    "    new(inf, sup) #provee el nuevo intervalo en el orden correcto\n",
    "end\n",
    "end\n",
    "\n",
    "#ESCALARES\n",
    "#para definir los escalares en un intervalo\n",
    "function Intervalo(z) \n",
    "Intervalo(z,z)\n",
    "end\n",
    "\n",
    "#REDONDEO HACIA ARRIBA Y HACIA ABAJO\n",
    "\n",
    "#se construye la función para redondear hacia arriba \n",
    "function redonUp(f::Function,x,y) with_rounding(BigFloat,RoundUp) do \n",
    "        f(BigFloat(x),BigFloat(y))\n",
    "        end \n",
    "end\n",
    "\n",
    "#se construye la función para redondear hacia abajo\n",
    "function redonDown(f::Function,x,y) with_rounding(BigFloat,RoundDown) do\n",
    "        f(BigFloat(x),BigFloat(y))\n",
    "    end\n",
    "end\n",
    "\n",
    "#función para que muestre el intervalo de una manera abreviada\n",
    "function Base.show(io::IO, t::Intervalo)\n",
    "    repr=\"($(t.inf), $(t.sup))\"\n",
    "    print(io,repr)\n",
    "end\n",
    "\n",
    "#OPERACIONES ENTRE INTERVALOS\n",
    "\n",
    "# suma\n",
    "# a' + b' = [a(i) + b(i) , a(s) + b(s) ]\n",
    "function +(a::Intervalo,b::Intervalo)\n",
    "    Intervalo(redonDown(+,a.inf,b.inf),redonUp(+,a.sup,b.sup))\n",
    "end\n",
    "\n",
    "#resta\n",
    "# a' - b' = [a(i) -  b(s) , a(s) - b(i)]\n",
    "function -(a::Intervalo,b::Intervalo)\n",
    "    Intervalo(redonDown(-,a.inf,b.inf),redonUp(-,a.sup,b.sup))\n",
    "end\n",
    "\n",
    "#multiplicación\n",
    "#a' x b' = [min{a(i)b(i),a(i)b(s),a(s)b(i), a(s)b(s)}, max {a(i)b(i), a(i)b(s), a(s)b(i), a(s)b(s)}]\n",
    "function *(a::Intervalo,b::Intervalo)\n",
    "    Intervalo(min(redonDown(*,a.inf,b.inf),redonDown(*,a.inf,b.sup),redonDown(*,a.sup,b.inf),redonDown(*,a.sup,b.sup)),(max(redonUp(*,a.inf,b.inf),redonUp(*,a.inf,b.sup),redonUp(*,a.sup,b.inf),redonUp(*,a.sup,b.sup))))\n",
    "end\n",
    "\n",
    "#división\n",
    "# a' / b' = a' x [1 / b(s), 1 / b(i)], #si 0 ∉ b'\n",
    "function /(a::Intervalo,b::Intervalo)\n",
    "    Intervalo(min(redonDown(/,a.inf,b.inf),redonDown(/,a.inf,b.sup),redonDown(/,a.sup,b.inf),redonDown(/,a.sup,b.sup)),(max(redonUp(/,a.inf,b.inf),redonUp(/,a.inf,b.sup),redonUp(/,a.sup,b.inf),redonUp(/,a.sup,b.sup))))\n",
    "end\n",
    "\n",
    "#potencia\n",
    "function ^(v::Intervalo, w::Float64)\n",
    "    \n",
    "    if (v.sup > 0 && v.inf > 0)\n",
    "        return Intervalo(v.inf^w,v.sup^w)\n",
    "        \n",
    "        elseif (v.sup < 0 && v.inf < 0)\n",
    "        return Intervalo(v.sup^w,v.inf^w)\n",
    "            else    \n",
    "        return Intervalo(0,max(v.inf^2,v.sup^2))\n",
    "    end\n",
    "end \n",
    "\n",
    "#OPERACIONES CON UN ENTERO\n",
    "\n",
    "#calcula la suma entre un número entero y el intervalo\n",
    "+(a::Intervalo,z::Int64) = Intervalo(a.inf+z,a.sup+z)\n",
    "\n",
    "#calcula la resta entre un número entero y el intervalo\n",
    "-(a::Intervalo,z::Int64) = Intervalo(a.inf-z,a.sup-z)\n",
    "\n",
    "#calcula la multiplicación entre un número entero y el intervalo\n",
    "*(a::Intervalo,z::Int64) = Intervalo(z*a.inf,z*a.sup)\n",
    "\n",
    "#calcula la división entre un número entero y el intervalo\n",
    "/(z::Int64,a::Intervalo) = Intervalo(z/a.inf,z/a.sup)\n",
    "/(a::Intervalo,z::Int64) = Intervalo(a.inf/z,a.sup/z)\n",
    "\n",
    "#función potencia para un entero\n",
    "function ^(v::Intervalo, w::Integer)\n",
    "\n",
    "    if (v.sup > 0 && v.inf > 0)\n",
    "        return Intervalo(v.inf^w,v.sup^w)\n",
    "        elseif (v.sup < 0 && v.inf < 0)\n",
    "        return Intervalo(v.sup^w,v.inf^w)\n",
    "    else        \n",
    "        return Intervalo(0,max(v.inf^2,v.sup^2))\n",
    "\n",
    "end\n",
    "end\n",
    "\n",
    "#función potencia para un real\n",
    "function ^(v::Intervalo, q::Real) #Definido sólo para intervalos positivos \n",
    "    exp(Intervalo(q)*log(v))\n",
    "end\n",
    "\n",
    "function ==(a::Intervalo, b::Intervalo) \n",
    "    (a.inf == b.inf && a.sup ==b.sup) && return true \n",
    "    return false \n",
    "end \n",
    "\n",
    "function/(A::Array{Intervalo,2}, a::Intervalo)\n",
    "    [A[1]/a A[2]/a; A[3]/a A[4]/a]\n",
    "end\n",
    "\n",
    "#OPERACIONES ENTRE MATRICES\n",
    "\n",
    "#multiplicación por un entero\n",
    "function *(A::Array{Intervalo,2}, b::Int64)\n",
    "    [A[1]*b A[3]*b; A[2]*b A[4]*b]\n",
    "end\n",
    "\n",
    "#Traza\n",
    "function Tr(A::Array{Intervalo,2})\n",
    "    A[1]+A[4]\n",
    "end\n",
    "\n",
    "#Transpuesta\n",
    "function T(A::Array{Intervalo,2})\n",
    "    [A[1] A[2]; A[3] A[4]]\n",
    "end\n",
    "\n",
    "#Determinante\n",
    "function Det(A::Array{Intervalo,2})\n",
    "    (A[1]*A[4])-(A[3]*A[2])\n",
    "end\n",
    "\n",
    "#Adjunta\n",
    "function adj(A::Array{Intervalo,2})\n",
    "    [A[4] A[2]*-1; A[3]*-1 A[1]]\n",
    "end\n",
    "\n",
    "function /(A::Array{Intervalo,2}, ::Intervalo)\n",
    "    adj(A)/Det(A)\n",
    "end\n",
    "\n",
    "#Inversa\n",
    "function inv(A::Array{Intervalo,2})\n",
    "    adj(A)/Det(A)\n",
    "end\n",
    "\n",
    "end"
   ]
  },
  {
   "cell_type": "code",
   "execution_count": 2,
   "metadata": {
    "collapsed": true
   },
   "outputs": [],
   "source": [
    "using FactCheck"
   ]
  },
  {
   "cell_type": "code",
   "execution_count": 3,
   "metadata": {
    "collapsed": false
   },
   "outputs": [
    {
     "name": "stdout",
     "output_type": "stream",
     "text": [
      "Prueba: Álgebra lineal con intervalos\n",
      "14 facts verified.\n"
     ]
    },
    {
     "data": {
      "text/plain": [
       "delayed_handler (generic function with 4 methods)"
      ]
     },
     "execution_count": 3,
     "metadata": {},
     "output_type": "execute_result"
    }
   ],
   "source": [
    "include(\"MatricesTest.jl\")"
   ]
  },
  {
   "cell_type": "raw",
   "metadata": {},
   "source": [
    "using FactCheck\n",
    "using Intervalos\n",
    "\n",
    "facts(\"Prueba: Álgebra lineal con intervalos\") do\n",
    "    A=[Intervalo(0,0.5) Intervalo(1,1.5); Intervalo(2,2.5) Intervalo(3,3.5)]\n",
    "    B=[Intervalo(4,4.5) Intervalo(5,5.5); Intervalo(6,6.5) Intervalo(7,7.5)]\n",
    "    C=[Intervalo(2,1) Intervalo(2,1); Intervalo(3,2) Intervalo(3,2)]\n",
    "    psi1=[Intervalo(1,2); Intervalo(3,4)]\n",
    "    psi2=transpose(psi1)  \n",
    "    x=2\n",
    "    \n",
    "    @fact C => [Intervalo(1,2) Intervalo(1,2); Intervalo(2,3) Intervalo(2,3)]\n",
    "    @fact Intervalo(1,1/sqrt(2)) => Intervalo(7.071067811865474999999999999999999999999999999999999999999999999999999999999999e-01, 1e+00)\n",
    "    @fact A+B => [Intervalo(4,5) Intervalo(6,7); Intervalo(8,9) Intervalo(10,11)] \n",
    "    @fact A*B => [Intervalo(6,12) Intervalo(7,14); Intervalo(26,34) Intervalo(31,40)]\n",
    "    @fact A*2 => [Intervalo(0,1) Intervalo(2,3); Intervalo(4,5) Intervalo(6,7)]\n",
    "    @fact A^2 => [Intervalo(2,4) Intervalo(3,6); Intervalo(6,10) Intervalo(11,16)]\n",
    "    @fact Tr(A) => Intervalo(3,4)\n",
    "    @fact Tr(B) => Intervalo(11,12)\n",
    "    @fact T(A)  => [Intervalo(0,0.5) Intervalo(2,2.5); Intervalo(1,1.5) Intervalo(3,3.5)]\n",
    "    @fact Det(A)  => Intervalo(-2,-2)\n",
    "    @fact adj(A)  => [Intervalo(3,3.5) Intervalo(-2.5,-2); Intervalo(-1.5,-1) Intervalo(0,0.5)]\n",
    "    @fact inv(A)  => [Intervalo(-1.75,-1.5) Intervalo(0.5,0.75); Intervalo(1,1.25) Intervalo(-0.25,0)]\n",
    "    @fact A*inv(A) => [Intervalo(0.125,1.875) Intervalo(-0.375,0.375); Intervalo(-1.375,1.375) Intervalo(0.125,1.875)]\n",
    "    @fact psi1*psi2  => [Intervalo(1,4) Intervalo(3,8); Intervalo(3,8) Intervalo(9,16)]\n",
    "end"
   ]
  },
  {
   "cell_type": "code",
   "execution_count": 5,
   "metadata": {
    "collapsed": false
   },
   "outputs": [
    {
     "data": {
      "text/plain": [
       "2x2 Array{Intervalo,2}:\n",
       " (0e+00, 5e-01)    (1e+00, 1.5e+00)\n",
       " (2e+00, 2.5e+00)  (3e+00, 3.5e+00)"
      ]
     },
     "execution_count": 5,
     "metadata": {},
     "output_type": "execute_result"
    }
   ],
   "source": [
    "A=[Intervalo(0,0.5) Intervalo(1,1.5); Intervalo(2,2.5) Intervalo(3,3.5)]"
   ]
  },
  {
   "cell_type": "code",
   "execution_count": 6,
   "metadata": {
    "collapsed": false
   },
   "outputs": [
    {
     "data": {
      "text/plain": [
       "2x2 Array{Intervalo,2}:\n",
       " (4e+00, 4.5e+00)  (5e+00, 5.5e+00)\n",
       " (6e+00, 6.5e+00)  (7e+00, 7.5e+00)"
      ]
     },
     "execution_count": 6,
     "metadata": {},
     "output_type": "execute_result"
    }
   ],
   "source": [
    "B=[Intervalo(4,4.5) Intervalo(5,5.5); Intervalo(6,6.5) Intervalo(7,7.5)]"
   ]
  },
  {
   "cell_type": "markdown",
   "metadata": {},
   "source": [
    "###Suma"
   ]
  },
  {
   "cell_type": "code",
   "execution_count": 7,
   "metadata": {
    "collapsed": false
   },
   "outputs": [
    {
     "data": {
      "text/plain": [
       "2x2 Array{Intervalo,2}:\n",
       " (4e+00, 5e+00)  (6e+00, 7e+00)  \n",
       " (8e+00, 9e+00)  (1e+01, 1.1e+01)"
      ]
     },
     "execution_count": 7,
     "metadata": {},
     "output_type": "execute_result"
    }
   ],
   "source": [
    "A+B"
   ]
  },
  {
   "cell_type": "markdown",
   "metadata": {},
   "source": [
    "###Multiplicación "
   ]
  },
  {
   "cell_type": "code",
   "execution_count": 8,
   "metadata": {
    "collapsed": false
   },
   "outputs": [
    {
     "data": {
      "text/plain": [
       "2x2 Array{Intervalo,2}:\n",
       " (6e+00, 1.2e+01)    (7e+00, 1.4e+01)\n",
       " (2.6e+01, 3.4e+01)  (3.1e+01, 4e+01)"
      ]
     },
     "execution_count": 8,
     "metadata": {},
     "output_type": "execute_result"
    }
   ],
   "source": [
    "A*B"
   ]
  },
  {
   "cell_type": "code",
   "execution_count": null,
   "metadata": {
    "collapsed": true
   },
   "outputs": [],
   "source": [
    "#calculando a mano la primer componente de A*B:"
   ]
  },
  {
   "cell_type": "code",
   "execution_count": 9,
   "metadata": {
    "collapsed": false
   },
   "outputs": [
    {
     "data": {
      "text/plain": [
       "(0e+00, 2.25e+00)"
      ]
     },
     "execution_count": 9,
     "metadata": {},
     "output_type": "execute_result"
    }
   ],
   "source": [
    "a=Intervalo(0,0.5)*Intervalo(4,4.5)"
   ]
  },
  {
   "cell_type": "code",
   "execution_count": 10,
   "metadata": {
    "collapsed": false
   },
   "outputs": [
    {
     "data": {
      "text/plain": [
       "(6e+00, 9.75e+00)"
      ]
     },
     "execution_count": 10,
     "metadata": {},
     "output_type": "execute_result"
    }
   ],
   "source": [
    "b=Intervalo(1,1.5)*Intervalo(6,6.5)"
   ]
  },
  {
   "cell_type": "code",
   "execution_count": 11,
   "metadata": {
    "collapsed": false
   },
   "outputs": [
    {
     "data": {
      "text/plain": [
       "(6e+00, 1.2e+01)"
      ]
     },
     "execution_count": 11,
     "metadata": {},
     "output_type": "execute_result"
    }
   ],
   "source": [
    "a+b"
   ]
  },
  {
   "cell_type": "code",
   "execution_count": null,
   "metadata": {
    "collapsed": true
   },
   "outputs": [],
   "source": [
    "#que corresponde a la primer componente que resulta de A*B. "
   ]
  },
  {
   "cell_type": "markdown",
   "metadata": {},
   "source": [
    "####Ejemplo [1]: "
   ]
  },
  {
   "cell_type": "code",
   "execution_count": 11,
   "metadata": {
    "collapsed": false
   },
   "outputs": [
    {
     "data": {
      "text/plain": [
       "1x2 Array{Intervalo,2}:\n",
       " (1e+00, 2e+00)  (3e+00, 4e+00)"
      ]
     },
     "execution_count": 11,
     "metadata": {},
     "output_type": "execute_result"
    }
   ],
   "source": [
    "C=[Intervalo(1,2) Intervalo(3,4)]"
   ]
  },
  {
   "cell_type": "code",
   "execution_count": 12,
   "metadata": {
    "collapsed": false
   },
   "outputs": [
    {
     "data": {
      "text/plain": [
       "2x2 Array{Intervalo,2}:\n",
       " (5e+00, 6e+00)  (7e+00, 8e+00)    \n",
       " (9e+00, 1e+01)  (1.1e+01, 1.2e+01)"
      ]
     },
     "execution_count": 12,
     "metadata": {},
     "output_type": "execute_result"
    }
   ],
   "source": [
    "D=[Intervalo(5,6) Intervalo(7,8); Intervalo(9,10) Intervalo(11,12)]"
   ]
  },
  {
   "cell_type": "code",
   "execution_count": 13,
   "metadata": {
    "collapsed": false
   },
   "outputs": [
    {
     "data": {
      "text/plain": [
       "1x2 Array{Intervalo,2}:\n",
       " (3.2e+01, 5.2e+01)  (4e+01, 6.4e+01)"
      ]
     },
     "execution_count": 13,
     "metadata": {},
     "output_type": "execute_result"
    }
   ],
   "source": [
    "C*D"
   ]
  },
  {
   "cell_type": "markdown",
   "metadata": {},
   "source": [
    "####[1] R. E. Moore,  R. B. Kearfott, M. J. Cloud, \"Introduction to Interval Analysis\",  SIAM editorial, Philadelphia, Cap.7, Secc.7.2, pág. 86, 2009."
   ]
  },
  {
   "cell_type": "markdown",
   "metadata": {},
   "source": [
    "###Multiplicación por un entero"
   ]
  },
  {
   "cell_type": "code",
   "execution_count": 12,
   "metadata": {
    "collapsed": false
   },
   "outputs": [
    {
     "data": {
      "text/plain": [
       "2x2 Array{Intervalo,2}:\n",
       " (0e+00, 1e+00)  (2e+00, 3e+00)\n",
       " (4e+00, 5e+00)  (6e+00, 7e+00)"
      ]
     },
     "execution_count": 12,
     "metadata": {},
     "output_type": "execute_result"
    }
   ],
   "source": [
    "A*2"
   ]
  },
  {
   "cell_type": "markdown",
   "metadata": {},
   "source": [
    "###Traza"
   ]
  },
  {
   "cell_type": "code",
   "execution_count": 13,
   "metadata": {
    "collapsed": false
   },
   "outputs": [
    {
     "data": {
      "text/plain": [
       "2x2 Array{Intervalo,2}:\n",
       " (0e+00, 5e-01)    (1e+00, 1.5e+00)\n",
       " (2e+00, 2.5e+00)  (3e+00, 3.5e+00)"
      ]
     },
     "execution_count": 13,
     "metadata": {},
     "output_type": "execute_result"
    }
   ],
   "source": [
    "A"
   ]
  },
  {
   "cell_type": "code",
   "execution_count": 14,
   "metadata": {
    "collapsed": false
   },
   "outputs": [
    {
     "data": {
      "text/plain": [
       "(3e+00, 4e+00)"
      ]
     },
     "execution_count": 14,
     "metadata": {},
     "output_type": "execute_result"
    }
   ],
   "source": [
    "Tr(A)"
   ]
  },
  {
   "cell_type": "code",
   "execution_count": 8,
   "metadata": {
    "collapsed": false
   },
   "outputs": [
    {
     "data": {
      "text/plain": [
       "(1.1e+01, 1.2e+01)"
      ]
     },
     "execution_count": 8,
     "metadata": {},
     "output_type": "execute_result"
    }
   ],
   "source": [
    "Tr(B)"
   ]
  },
  {
   "cell_type": "markdown",
   "metadata": {},
   "source": [
    "###Transpuesta"
   ]
  },
  {
   "cell_type": "code",
   "execution_count": 15,
   "metadata": {
    "collapsed": false
   },
   "outputs": [
    {
     "data": {
      "text/plain": [
       "2x2 Array{Intervalo,2}:\n",
       " (0e+00, 5e-01)    (1e+00, 1.5e+00)\n",
       " (2e+00, 2.5e+00)  (3e+00, 3.5e+00)"
      ]
     },
     "execution_count": 15,
     "metadata": {},
     "output_type": "execute_result"
    }
   ],
   "source": [
    "A"
   ]
  },
  {
   "cell_type": "code",
   "execution_count": 16,
   "metadata": {
    "collapsed": false
   },
   "outputs": [
    {
     "data": {
      "text/plain": [
       "2x2 Array{Intervalo,2}:\n",
       " (0e+00, 5e-01)    (2e+00, 2.5e+00)\n",
       " (1e+00, 1.5e+00)  (3e+00, 3.5e+00)"
      ]
     },
     "execution_count": 16,
     "metadata": {},
     "output_type": "execute_result"
    }
   ],
   "source": [
    "T(A)"
   ]
  },
  {
   "cell_type": "markdown",
   "metadata": {},
   "source": [
    "###Determinante"
   ]
  },
  {
   "cell_type": "code",
   "execution_count": 9,
   "metadata": {
    "collapsed": false
   },
   "outputs": [
    {
     "data": {
      "text/plain": [
       "2x2 Array{Intervalo,2}:\n",
       " (0e+00, 5e-01)    (1e+00, 1.5e+00)\n",
       " (2e+00, 2.5e+00)  (3e+00, 3.5e+00)"
      ]
     },
     "execution_count": 9,
     "metadata": {},
     "output_type": "execute_result"
    }
   ],
   "source": [
    "A"
   ]
  },
  {
   "cell_type": "code",
   "execution_count": 10,
   "metadata": {
    "collapsed": false
   },
   "outputs": [
    {
     "data": {
      "text/plain": [
       "(-2e+00, -2e+00)"
      ]
     },
     "execution_count": 10,
     "metadata": {},
     "output_type": "execute_result"
    }
   ],
   "source": [
    "Det(A)"
   ]
  },
  {
   "cell_type": "code",
   "execution_count": 19,
   "metadata": {
    "collapsed": false
   },
   "outputs": [
    {
     "data": {
      "text/plain": [
       "(0e+00, 1.75e+00)"
      ]
     },
     "execution_count": 19,
     "metadata": {},
     "output_type": "execute_result"
    }
   ],
   "source": [
    "###Calculando a mano\n",
    "c=Intervalo(0,0.5)*Intervalo(3,3.5)"
   ]
  },
  {
   "cell_type": "code",
   "execution_count": 20,
   "metadata": {
    "collapsed": false
   },
   "outputs": [
    {
     "data": {
      "text/plain": [
       "(2e+00, 3.75e+00)"
      ]
     },
     "execution_count": 20,
     "metadata": {},
     "output_type": "execute_result"
    }
   ],
   "source": [
    "d=Intervalo(1,1.5)*Intervalo(2,2.5)"
   ]
  },
  {
   "cell_type": "code",
   "execution_count": 21,
   "metadata": {
    "collapsed": false
   },
   "outputs": [
    {
     "data": {
      "text/plain": [
       "(-2e+00, -2e+00)"
      ]
     },
     "execution_count": 21,
     "metadata": {},
     "output_type": "execute_result"
    }
   ],
   "source": [
    "c-d"
   ]
  },
  {
   "cell_type": "markdown",
   "metadata": {},
   "source": [
    "###Adjunta"
   ]
  },
  {
   "cell_type": "code",
   "execution_count": 22,
   "metadata": {
    "collapsed": false
   },
   "outputs": [
    {
     "data": {
      "text/plain": [
       "2x2 Array{Intervalo,2}:\n",
       " (0e+00, 5e-01)    (1e+00, 1.5e+00)\n",
       " (2e+00, 2.5e+00)  (3e+00, 3.5e+00)"
      ]
     },
     "execution_count": 22,
     "metadata": {},
     "output_type": "execute_result"
    }
   ],
   "source": [
    "A"
   ]
  },
  {
   "cell_type": "code",
   "execution_count": 23,
   "metadata": {
    "collapsed": false
   },
   "outputs": [
    {
     "data": {
      "text/plain": [
       "2x2 Array{Intervalo,2}:\n",
       " (3e+00, 3.5e+00)    (-2.5e+00, -2e+00)\n",
       " (-1.5e+00, -1e+00)  (0e+00, 5e-01)    "
      ]
     },
     "execution_count": 23,
     "metadata": {},
     "output_type": "execute_result"
    }
   ],
   "source": [
    "adj(A)"
   ]
  },
  {
   "cell_type": "markdown",
   "metadata": {},
   "source": [
    "###Inversa"
   ]
  },
  {
   "cell_type": "code",
   "execution_count": 24,
   "metadata": {
    "collapsed": false
   },
   "outputs": [
    {
     "data": {
      "text/plain": [
       "2x2 Array{Intervalo,2}:\n",
       " (-1.75e+00, -1.5e+00)  (5e-01, 7.5e-01)  \n",
       " (1e+00, 1.25e+00)      (-2.5e-01, -0e+00)"
      ]
     },
     "execution_count": 24,
     "metadata": {},
     "output_type": "execute_result"
    }
   ],
   "source": [
    "inv(A)"
   ]
  },
  {
   "cell_type": "code",
   "execution_count": 26,
   "metadata": {
    "collapsed": false
   },
   "outputs": [
    {
     "data": {
      "text/plain": [
       "2x2 Array{Intervalo,2}:\n",
       " (1.25e-01, 1.875e+00)    (-3.75e-01, 3.75e-01)\n",
       " (-1.375e+00, 1.375e+00)  (1.25e-01, 1.875e+00)"
      ]
     },
     "execution_count": 26,
     "metadata": {},
     "output_type": "execute_result"
    }
   ],
   "source": [
    "A*inv(A)"
   ]
  },
  {
   "cell_type": "markdown",
   "metadata": {},
   "source": [
    "##Operador densidad\n",
    "\n",
    "####definición: rho=|psi> <psi|"
   ]
  },
  {
   "cell_type": "code",
   "execution_count": 4,
   "metadata": {
    "collapsed": false
   },
   "outputs": [
    {
     "data": {
      "text/plain": [
       "2-element Array{Intervalo,1}:\n",
       " (1e+00, 2e+00)\n",
       " (3e+00, 4e+00)"
      ]
     },
     "execution_count": 4,
     "metadata": {},
     "output_type": "execute_result"
    }
   ],
   "source": [
    "#vector columna\n",
    "psi1=[Intervalo(1,2); Intervalo(3,4)] "
   ]
  },
  {
   "cell_type": "code",
   "execution_count": 5,
   "metadata": {
    "collapsed": false
   },
   "outputs": [
    {
     "data": {
      "text/plain": [
       "1x2 Array{Intervalo,2}:\n",
       " (1e+00, 2e+00)  (3e+00, 4e+00)"
      ]
     },
     "execution_count": 5,
     "metadata": {},
     "output_type": "execute_result"
    }
   ],
   "source": [
    "#vector fila\n",
    "psi2=transpose(psi1)"
   ]
  },
  {
   "cell_type": "code",
   "execution_count": 6,
   "metadata": {
    "collapsed": false
   },
   "outputs": [
    {
     "data": {
      "text/plain": [
       "2x2 Array{Intervalo,2}:\n",
       " (1e+00, 4e+00)  (3e+00, 8e+00)  \n",
       " (3e+00, 8e+00)  (9e+00, 1.6e+01)"
      ]
     },
     "execution_count": 6,
     "metadata": {},
     "output_type": "execute_result"
    }
   ],
   "source": [
    "rho=psi1*psi2"
   ]
  },
  {
   "cell_type": "markdown",
   "metadata": {},
   "source": [
    "###Propiedades"
   ]
  },
  {
   "cell_type": "raw",
   "metadata": {},
   "source": [
    "Una matriz se puede considerar como un operador densidad (rho) siempre que cumpla las siguientes propiedades:\n",
    "\n",
    "i- sea hermitica, adj(rho) = (rho).\n",
    "\n",
    "ii- posea traza unitaria, Tr(rho) = 1.\n",
    "\n",
    "iii- sea positiva definida, es decir, sus valores propios son no negativos.\n",
    "\n",
    "iv- Si además representa un estado puro debe ser idempotente, es decir, (rho)²=rho [2]. "
   ]
  },
  {
   "cell_type": "markdown",
   "metadata": {},
   "source": [
    "####[2] L. de la Peña, M. Villavicencio, \"Problemas y ejercicios de Mecánica cuántica\", Fondo de cultura económica, México, Secc. XXI, pág. 643, 2003.  "
   ]
  },
  {
   "cell_type": "markdown",
   "metadata": {},
   "source": [
    "####i-"
   ]
  },
  {
   "cell_type": "code",
   "execution_count": 7,
   "metadata": {
    "collapsed": false
   },
   "outputs": [
    {
     "data": {
      "text/plain": [
       "2x2 Array{Intervalo,2}:\n",
       " (9e+00, 1.6e+01)  (-8e+00, -3e+00)\n",
       " (-8e+00, -3e+00)  (1e+00, 4e+00)  "
      ]
     },
     "execution_count": 7,
     "metadata": {},
     "output_type": "execute_result"
    }
   ],
   "source": [
    "adj(rho)"
   ]
  },
  {
   "cell_type": "markdown",
   "metadata": {},
   "source": [
    "####ii-"
   ]
  },
  {
   "cell_type": "code",
   "execution_count": 8,
   "metadata": {
    "collapsed": false
   },
   "outputs": [
    {
     "data": {
      "text/plain": [
       "(1e+01, 2e+01)"
      ]
     },
     "execution_count": 8,
     "metadata": {},
     "output_type": "execute_result"
    }
   ],
   "source": [
    "Tr(rho)"
   ]
  },
  {
   "cell_type": "markdown",
   "metadata": {},
   "source": [
    "####iv-"
   ]
  },
  {
   "cell_type": "code",
   "execution_count": 9,
   "metadata": {
    "collapsed": false
   },
   "outputs": [
    {
     "data": {
      "text/plain": [
       "2x2 Array{Intervalo,2}:\n",
       " (1e+01, 8e+01)    (3e+01, 1.6e+02)\n",
       " (3e+01, 1.6e+02)  (9e+01, 3.2e+02)"
      ]
     },
     "execution_count": 9,
     "metadata": {},
     "output_type": "execute_result"
    }
   ],
   "source": [
    "rho^2"
   ]
  }
 ],
 "metadata": {
  "kernelspec": {
   "display_name": "Julia 0.3.5",
   "language": "julia",
   "name": "julia 0.3"
  },
  "language_info": {
   "name": "julia",
   "version": "0.3.5"
  }
 },
 "nbformat": 4,
 "nbformat_minor": 0
}
