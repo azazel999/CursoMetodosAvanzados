{
 "cells": [
  {
   "cell_type": "markdown",
   "metadata": {},
   "source": [
    "#10. Método de Newton para intervalos"
   ]
  },
  {
   "cell_type": "code",
   "execution_count": 1,
   "metadata": {
    "collapsed": false
   },
   "outputs": [],
   "source": [
    "using Intervalos"
   ]
  },
  {
   "cell_type": "code",
   "execution_count": 2,
   "metadata": {
    "collapsed": true
   },
   "outputs": [],
   "source": [
    "using Derivada"
   ]
  },
  {
   "cell_type": "markdown",
   "metadata": {},
   "source": [
    "####[1] Escribe una función que calcule el operador de Newton para un intervalo $X$, dadas $f(x)$ y $f′(x)$."
   ]
  },
  {
   "cell_type": "code",
   "execution_count": 3,
   "metadata": {
    "collapsed": false
   },
   "outputs": [
    {
     "data": {
      "text/plain": [
       "NewtonInt (generic function with 1 method)"
      ]
     },
     "execution_count": 3,
     "metadata": {},
     "output_type": "execute_result"
    }
   ],
   "source": [
    "function NewtonInt(X::Intervalo,f::Function)\n",
    "    media(X)-f(media(X))/f(Deriv(X,1)).d\n",
    "end"
   ]
  },
  {
   "cell_type": "code",
   "execution_count": 4,
   "metadata": {
    "collapsed": false
   },
   "outputs": [
    {
     "data": {
      "text/plain": [
       "NewtonInt1 (generic function with 1 method)"
      ]
     },
     "execution_count": 4,
     "metadata": {},
     "output_type": "execute_result"
    }
   ],
   "source": [
    "function NewtonInt1(X0::Intervalo,f::Function, t, iteraciones::Integer)\n",
    "    for i in 1:iteraciones\n",
    "        raiz= X0 ∩ NewtonInt(X0,f)\n",
    "        if typeof(raiz)==ASCIIString\n",
    "            return \"no hay ceros en el intervalo\"\n",
    "        end\n",
    "        if (radio(raiz-X0) < t*radio(raiz))\n",
    "            iteraciones=i\n",
    "            break\n",
    "        else\n",
    "            X0=raiz\n",
    "        end\n",
    "    end\n",
    "    return X0\n",
    "end"
   ]
  },
  {
   "cell_type": "code",
   "execution_count": 8,
   "metadata": {
    "collapsed": false
   },
   "outputs": [],
   "source": [
    "g(x)=x-1;\n",
    "g1(x)=g(Deriv(x,1)).d;\n",
    "X0=Intervalo(0.000005,3.0);\n",
    "iteraciones=478;\n",
    "t=2.0^-5;"
   ]
  },
  {
   "cell_type": "code",
   "execution_count": 9,
   "metadata": {
    "collapsed": false
   },
   "outputs": [
    {
     "ename": "LoadError",
     "evalue": "`start` has no method matching start(::Intervalo)\nwhile loading In[9], in expression starting on line 1",
     "output_type": "error",
     "traceback": [
      "`start` has no method matching start(::Intervalo)\nwhile loading In[9], in expression starting on line 1",
      "",
      " in intersect at array.jl:1349",
      " in NewtonInt1 at In[4]:3"
     ]
    }
   ],
   "source": [
    "NewtonInt1(X0,g,t,iteraciones)"
   ]
  },
  {
   "cell_type": "code",
   "execution_count": 12,
   "metadata": {
    "collapsed": false
   },
   "outputs": [
    {
     "data": {
      "text/plain": [
       "in (generic function with 1 method)"
      ]
     },
     "execution_count": 12,
     "metadata": {},
     "output_type": "execute_result"
    }
   ],
   "source": [
    "function in(x::Real,l::Intervalo)\n",
    "    (Intervalo(x).sup <= l.sup && Intervalo(x).inf >= l.inf) && return true #manera cortocircuito\n",
    " return false\n",
    "end"
   ]
  },
  {
   "cell_type": "code",
   "execution_count": 13,
   "metadata": {
    "collapsed": false
   },
   "outputs": [
    {
     "data": {
      "text/plain": [
       "issubset (generic function with 3 methods)"
      ]
     },
     "execution_count": 13,
     "metadata": {},
     "output_type": "execute_result"
    }
   ],
   "source": [
    "function ⊆(A::Intervalo, B::Intervalo)\n",
    "    if ((B.inf<= A.inf) && (A.sup<=B.sup))\n",
    "    true\n",
    "        else\n",
    "        false\n",
    "    end\n",
    "end"
   ]
  },
  {
   "cell_type": "code",
   "execution_count": 14,
   "metadata": {
    "collapsed": false
   },
   "outputs": [
    {
     "data": {
      "text/plain": [
       "subset (generic function with 1 method)"
      ]
     },
     "execution_count": 14,
     "metadata": {},
     "output_type": "execute_result"
    }
   ],
   "source": [
    "function subset(A::Intervalo, B::Intervalo)\n",
    "    if ((A ⊆ B) && ((A==B) == false))\n",
    "    true\n",
    "        else\n",
    "        false\n",
    "    end\n",
    "end"
   ]
  },
  {
   "cell_type": "code",
   "execution_count": 15,
   "metadata": {
    "collapsed": false
   },
   "outputs": [
    {
     "data": {
      "text/plain": [
       "Cestricto (generic function with 1 method)"
      ]
     },
     "execution_count": 15,
     "metadata": {},
     "output_type": "execute_result"
    }
   ],
   "source": [
    "function Cestricto(A::Intervalo, B::Intervalo)\n",
    "    if ((B.inf<A.inf) && (A.sup<B.sup))\n",
    "    true\n",
    "        else\n",
    "        false\n",
    "    end\n",
    "end"
   ]
  },
  {
   "cell_type": "code",
   "execution_count": 16,
   "metadata": {
    "collapsed": false
   },
   "outputs": [
    {
     "data": {
      "text/plain": [
       "intersect (generic function with 16 methods)"
      ]
     },
     "execution_count": 16,
     "metadata": {},
     "output_type": "execute_result"
    }
   ],
   "source": [
    "function ∩(A::Intervalo, B::Intervalo)\n",
    "    if (A.sup < B.inf || B.sup < A.inf)\n",
    "        return(\"nein\")\n",
    "        else\n",
    "        return Intervalo(max(A.inf,B.inf),min(A.sup,B.sup))\n",
    "    end\n",
    "end"
   ]
  },
  {
   "cell_type": "code",
   "execution_count": 18,
   "metadata": {
    "collapsed": false
   },
   "outputs": [
    {
     "data": {
      "text/plain": [
       "== (generic function with 81 methods)"
      ]
     },
     "execution_count": 18,
     "metadata": {},
     "output_type": "execute_result"
    }
   ],
   "source": [
    "function ==(a::Intervalo, b::Intervalo)\n",
    "    (a.inf == b.inf && a.sup ==b.sup) && return true \n",
    " return false\n",
    "end"
   ]
  },
  {
   "cell_type": "code",
   "execution_count": 19,
   "metadata": {
    "collapsed": false
   },
   "outputs": [
    {
     "data": {
      "text/plain": [
       "radio (generic function with 1 method)"
      ]
     },
     "execution_count": 19,
     "metadata": {},
     "output_type": "execute_result"
    }
   ],
   "source": [
    "radio(A::Intervalo) = abs(A.sup - A.inf)"
   ]
  },
  {
   "cell_type": "code",
   "execution_count": 20,
   "metadata": {
    "collapsed": false
   },
   "outputs": [
    {
     "data": {
      "text/plain": [
       "media (generic function with 1 method)"
      ]
     },
     "execution_count": 20,
     "metadata": {},
     "output_type": "execute_result"
    }
   ],
   "source": [
    "media(A::Intervalo) = 0.5*(A.sup + A.inf)"
   ]
  },
  {
   "cell_type": "code",
   "execution_count": 21,
   "metadata": {
    "collapsed": false
   },
   "outputs": [
    {
     "data": {
      "text/plain": [
       "bisect (generic function with 1 method)"
      ]
     },
     "execution_count": 21,
     "metadata": {},
     "output_type": "execute_result"
    }
   ],
   "source": [
    "function bisect(x::Intervalo)\n",
    "    return [Intervalo(x.inf,(x.sup+x.inf)/2),Intervalo((x.sup+x.inf)/2,x.sup)]\n",
    "end"
   ]
  },
  {
   "cell_type": "code",
   "execution_count": 22,
   "metadata": {
    "collapsed": false
   },
   "outputs": [
    {
     "data": {
      "text/plain": [
       "trisect (generic function with 1 method)"
      ]
     },
     "execution_count": 22,
     "metadata": {},
     "output_type": "execute_result"
    }
   ],
   "source": [
    "function trisect(x::Intervalo)\n",
    "    return [Intervalo(x.inf,x.inf+radio(x)/3),Intervalo(x.inf+radio(x)/3,x.inf+2*radio(x)/3),Intervalo(x.inf+2*radio(x)/3,x.sup)]\n",
    "end"
   ]
  },
  {
   "cell_type": "code",
   "execution_count": 23,
   "metadata": {
    "collapsed": false
   },
   "outputs": [
    {
     "data": {
      "text/plain": [
       "zeros (generic function with 1 method)"
      ]
     },
     "execution_count": 23,
     "metadata": {},
     "output_type": "execute_result"
    }
   ],
   "source": [
    "function zeros(T::Intervalo,dim::Integer)\n",
    "a=[];\n",
    "\n",
    "    for i in 1:dim\n",
    "    a=cat(1,a,Intervalo(0))\n",
    "end\n",
    "\n",
    "    b=a\n",
    "    for j in 1:dim-1\n",
    "    a=cat(2,a,b)\n",
    "end\n",
    "\n",
    "    return a\n",
    "end"
   ]
  },
  {
   "cell_type": "code",
   "execution_count": 24,
   "metadata": {
    "collapsed": false
   },
   "outputs": [
    {
     "data": {
      "text/plain": [
       "multisect (generic function with 1 method)"
      ]
     },
     "execution_count": 24,
     "metadata": {},
     "output_type": "execute_result"
    }
   ],
   "source": [
    "function multisect(x::Intervalo,ntot::Integer) \n",
    "    \n",
    "    #println(\"Función que hace una bisección $(ntot) veces\")\n",
    "    if ntot==0\n",
    "        return x\n",
    "    \n",
    "\n",
    "    else\n",
    "        even=[2*i for i in 1:2^(ntot)];\n",
    "        odds=even-1;\n",
    "        A=zeros(Intervalo(0),2^ntot)\n",
    "\n",
    "        #-------el paso 1\n",
    "        A[1:2,1]=bisect(x);\n",
    "        #----------------\n",
    "\n",
    "        #---------------------pasos 2 en adelante\n",
    "        for n in 2:ntot\n",
    "                #println(\"n==============================$n\")\n",
    "            for i in 1:2^(n-1)\n",
    "                #println(\"i============$i\")\n",
    "                    for j in even[i]\n",
    "                    for k in odds[i]\n",
    "                    #println (\"j==$j\")\n",
    "                    #println (\"k===$k\")\n",
    "                        A[k:j,n]=bisect(A[i,n-1])\n",
    "                    end\n",
    "                    end\n",
    "            end\n",
    "        end\n",
    "        #---------------------\n",
    "\n",
    "        return A[:,ntot]\n",
    "    end\n",
    "end"
   ]
  },
  {
   "cell_type": "code",
   "execution_count": 28,
   "metadata": {
    "collapsed": false
   },
   "outputs": [
    {
     "data": {
      "text/plain": [
       "segment (generic function with 1 method)"
      ]
     },
     "execution_count": 28,
     "metadata": {},
     "output_type": "execute_result"
    }
   ],
   "source": [
    "function segment(A::Intervalo,n::Int)\n",
    "    Iseg=Intervalo[]\n",
    "    b = (A.sup-A.inf)/(n)\n",
    "    \n",
    "    for i in 1:n-1\n",
    "        set_rounding(BigFloat,RoundDown)\n",
    "        A1=A.inf + b*(i-1)\n",
    "        set_rounding(BigFloat,RoundUp)\n",
    "        A2=A.inf+b*i\n",
    "        set_rounding(BigFloat,RoundNearest)\n",
    "        push!(Iseg,Intervalo(A1,A2))\n",
    "    end\n",
    "            set_rounding(BigFloat,RoundDown)\n",
    "            A1=A.inf+b*(n-1)\n",
    "            set_rounding(BigFloat,RoundUp)\n",
    "            A2=A.sup\n",
    "            set_rounding(BigFloat,RoundNearest)\n",
    "            push!(Iseg,Intervalo(A1,A2))\n",
    "        return Iseg\n",
    "end"
   ]
  },
  {
   "cell_type": "code",
   "execution_count": null,
   "metadata": {
    "collapsed": true
   },
   "outputs": [],
   "source": []
  }
 ],
 "metadata": {
  "kernelspec": {
   "display_name": "Julia 0.3.5",
   "language": "julia",
   "name": "julia 0.3"
  },
  "language_info": {
   "name": "julia",
   "version": "0.3.5"
  }
 },
 "nbformat": 4,
 "nbformat_minor": 0
}
