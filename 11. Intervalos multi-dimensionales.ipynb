{
 "cells": [
  {
   "cell_type": "markdown",
   "metadata": {},
   "source": [
    "#11. Intervalos multi-dimensionales"
   ]
  },
  {
   "cell_type": "code",
   "execution_count": 1,
   "metadata": {
    "collapsed": false
   },
   "outputs": [],
   "source": [
    "using IntervalosMD"
   ]
  },
  {
   "cell_type": "markdown",
   "metadata": {},
   "source": [
    "###[1] ¿Cuál sería una definición matemática razonable de un intervalo multi-dimensional?"
   ]
  },
  {
   "cell_type": "markdown",
   "metadata": {},
   "source": [
    "#### Sea un intervalo multi-dimensional definido como el conjunto ${a,b,c...}$ tal que $a$, $b$ y $c$ son intervalos"
   ]
  },
  {
   "cell_type": "markdown",
   "metadata": {},
   "source": [
    "###[2] ¿Cómo podríamos expresar esto en Julia ? Da dos posibilidades. [Pista: Checa typealias]"
   ]
  },
  {
   "cell_type": "raw",
   "metadata": {},
   "source": [
    "1- \n",
    "\n",
    "type IntervalND{N} \n",
    "a::Vector{Interval}  \n",
    "end\n",
    "\n",
    "por ejemplo, para un intervalo 2D tenemos IntervalNDim{2}([Interval(1,2),Interval(2,1)])"
   ]
  },
  {
   "cell_type": "raw",
   "metadata": {},
   "source": [
    "2- usando typealias (incorporado en el modulo IntervalosMD)\n",
    "\n",
    "module IntervalosMD\n",
    "\n",
    "export Intervalo\n",
    "\n",
    "type Intervalo\n",
    "    inf::Real\n",
    "    sup::Real\n",
    "end\n",
    "\n",
    "function Base.show(io::IO, t::Intervalo)\n",
    "    repr=\"($(t.inf), $(t.sup))\"\n",
    "    print(io,repr)\n",
    "end\n",
    "\n",
    "typealias IntervaloMD{} Vector{Intervalo}\n",
    ".\n",
    ".\n",
    ".\n",
    "end"
   ]
  },
  {
   "cell_type": "code",
   "execution_count": 2,
   "metadata": {
    "collapsed": false
   },
   "outputs": [
    {
     "data": {
      "text/plain": [
       "2-element Array{Intervalo,1}:\n",
       " (1, 2)\n",
       " (2, 1)"
      ]
     },
     "execution_count": 2,
     "metadata": {},
     "output_type": "execute_result"
    }
   ],
   "source": [
    "#ejemplo\n",
    "A=[Intervalo(1,2),Intervalo(2,1)]"
   ]
  },
  {
   "cell_type": "markdown",
   "metadata": {},
   "source": [
    "####[3] ¿Cuáles operaciones matemáticas necesitaremos definir sobre los intervalos multi-dimensionales? Impleméntalos en un módulo. ¿Cuál de las dos definiciones resulta más útil en ese respecto?"
   ]
  },
  {
   "cell_type": "raw",
   "metadata": {},
   "source": [
    "Necesitaremos las operaciones básicas + - * / (ésta última definida entrada a entrada); en este caso la segunda definición con typealias IntervaloMD es más útil  "
   ]
  },
  {
   "cell_type": "code",
   "execution_count": 7,
   "metadata": {
    "collapsed": false
   },
   "outputs": [
    {
     "data": {
      "text/plain": [
       "2-element Array{Intervalo,1}:\n",
       " (2e+00, 4e+00)\n",
       " (4e+00, 2e+00)"
      ]
     },
     "execution_count": 7,
     "metadata": {},
     "output_type": "execute_result"
    }
   ],
   "source": [
    "#ejemplo (pensando en matrices): suma de matrices\n",
    "A+A"
   ]
  },
  {
   "cell_type": "code",
   "execution_count": 8,
   "metadata": {
    "collapsed": false
   },
   "outputs": [
    {
     "data": {
      "text/plain": [
       "2-element Array{Intervalo,1}:\n",
       " (-0e+00, 0e+00)\n",
       " (-0e+00, 0e+00)"
      ]
     },
     "execution_count": 8,
     "metadata": {},
     "output_type": "execute_result"
    }
   ],
   "source": [
    "#resta de matrices\n",
    "A-A"
   ]
  },
  {
   "cell_type": "code",
   "execution_count": 3,
   "metadata": {
    "collapsed": false
   },
   "outputs": [
    {
     "data": {
      "text/plain": [
       "Array{Intervalo,1}"
      ]
     },
     "execution_count": 3,
     "metadata": {},
     "output_type": "execute_result"
    }
   ],
   "source": [
    "typealias IntervaloMD{} Vector{Intervalo}"
   ]
  },
  {
   "cell_type": "code",
   "execution_count": 4,
   "metadata": {
    "collapsed": false
   },
   "outputs": [
    {
     "data": {
      "text/plain": [
       "Array{Intervalo,1}"
      ]
     },
     "execution_count": 4,
     "metadata": {},
     "output_type": "execute_result"
    }
   ],
   "source": [
    "IntervaloMD{}"
   ]
  },
  {
   "cell_type": "code",
   "execution_count": 5,
   "metadata": {
    "collapsed": false
   },
   "outputs": [
    {
     "data": {
      "text/plain": [
       "* (generic function with 118 methods)"
      ]
     },
     "execution_count": 5,
     "metadata": {},
     "output_type": "execute_result"
    }
   ],
   "source": [
    "#multiplicación de una matriz por un escalar\n",
    "function *(A::IntervaloMD,b::Real)\n",
    "    A[1]=A[1]*b;\n",
    "    A[2]=A[2]*b;\n",
    "    return A\n",
    "end"
   ]
  },
  {
   "cell_type": "code",
   "execution_count": 6,
   "metadata": {
    "collapsed": false
   },
   "outputs": [
    {
     "data": {
      "text/plain": [
       "2-element Array{Intervalo,1}:\n",
       " (3.0, 6.0)\n",
       " (6.0, 3.0)"
      ]
     },
     "execution_count": 6,
     "metadata": {},
     "output_type": "execute_result"
    }
   ],
   "source": [
    "*([Intervalo(1,2),Intervalo(2,1)],3.0)"
   ]
  },
  {
   "cell_type": "markdown",
   "metadata": {},
   "source": [
    "####[4] Considera la función $f:R2→R2$, dada por $f(x,y)=M⋅x$, con $M=([2,1][1,1])$."
   ]
  },
  {
   "cell_type": "markdown",
   "metadata": {},
   "source": [
    "#### (i) Encuentra a mano la imagen del cuadrado unitario. Encuentra el intervalo multi-dimensional más pequeño que contiene este conjunto."
   ]
  },
  {
   "cell_type": "raw",
   "metadata": {},
   "source": [
    "sería el cuadrado de x de 0 a 3 e y de 0 a 2"
   ]
  },
  {
   "cell_type": "markdown",
   "metadata": {},
   "source": [
    "####(ii) Verifica el resultado con tu código."
   ]
  },
  {
   "cell_type": "code",
   "execution_count": 36,
   "metadata": {
    "collapsed": false
   },
   "outputs": [],
   "source": [
    "M=[Intervalo(2) Intervalo(1); Intervalo(1) Intervalo(1)];\n",
    "B=[Intervalo(0,1),Intervalo(0,1)];"
   ]
  },
  {
   "cell_type": "code",
   "execution_count": 37,
   "metadata": {
    "collapsed": false
   },
   "outputs": [
    {
     "data": {
      "text/plain": [
       "2-element Array{Intervalo,1}:\n",
       " (0e+00, 3e+00)\n",
       " (0e+00, 2e+00)"
      ]
     },
     "execution_count": 37,
     "metadata": {},
     "output_type": "execute_result"
    }
   ],
   "source": [
    "M*B"
   ]
  },
  {
   "cell_type": "markdown",
   "metadata": {},
   "source": [
    "####(iii) ¿Cuál es el problema que ocurre? ¿Cómo lo podríamos resolver? Impleméntalo."
   ]
  },
  {
   "cell_type": "raw",
   "metadata": {},
   "source": [
    "AL igual que en intervalos 1D, el rango de la función es sobreestimada por los intervalos."
   ]
  },
  {
   "cell_type": "markdown",
   "metadata": {},
   "source": [
    "###[5]"
   ]
  },
  {
   "cell_type": "code",
   "execution_count": 7,
   "metadata": {
    "collapsed": false
   },
   "outputs": [
    {
     "data": {
      "text/plain": [
       "Henon (generic function with 1 method)"
      ]
     },
     "execution_count": 7,
     "metadata": {},
     "output_type": "execute_result"
    }
   ],
   "source": [
    "function Henon(x,y)\n",
    "    a=1.4;\n",
    "    b=0.3;\n",
    "    x1=1-(x^2)*a+y;\n",
    "    y1=x*b;\n",
    "    return [x1,y1]\n",
    "end"
   ]
  },
  {
   "cell_type": "code",
   "execution_count": 8,
   "metadata": {
    "collapsed": false
   },
   "outputs": [
    {
     "data": {
      "text/plain": [
       "2-element Array{Intervalo,1}:\n",
       " (1e+00, 6.00000000000000088817841970012523233890533447265625e-01)\n",
       " (0.0, 0.3)                                                       "
      ]
     },
     "execution_count": 8,
     "metadata": {},
     "output_type": "execute_result"
    }
   ],
   "source": [
    "Henon(Intervalo(0,1),Intervalo(0,1))"
   ]
  },
  {
   "cell_type": "code",
   "execution_count": 9,
   "metadata": {
    "collapsed": false
   },
   "outputs": [
    {
     "data": {
      "text/plain": [
       "2-element Array{Float64,1}:\n",
       " -0.4\n",
       "  0.3"
      ]
     },
     "execution_count": 9,
     "metadata": {},
     "output_type": "execute_result"
    }
   ],
   "source": [
    "Henon(1,0)"
   ]
  },
  {
   "cell_type": "code",
   "execution_count": null,
   "metadata": {
    "collapsed": true
   },
   "outputs": [],
   "source": []
  }
 ],
 "metadata": {
  "kernelspec": {
   "display_name": "Julia 0.3.5",
   "language": "julia",
   "name": "julia 0.3"
  },
  "language_info": {
   "name": "julia",
   "version": "0.3.5"
  }
 },
 "nbformat": 4,
 "nbformat_minor": 0
}
